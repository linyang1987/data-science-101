{
 "cells": [
  {
   "cell_type": "code",
   "execution_count": 104,
   "metadata": {},
   "outputs": [],
   "source": [
    "import pandas as pd\n",
    "import numpy as np\n",
    "from scipy.stats import ttest_ind\n",
    "\n",
    "pd.set_option('display.max_rows', 20)\n",
    "pd.set_option('display.max_columns', 10)\n",
    "pd.set_option('display.width', 1000)\n",
    "pd.set_option('display.max_colwidth', 36)\n",
    "pd.set_option('display.notebook_repr_html', False)\n",
    "pd.set_option('display.expand_frame_repr', True)\n",
    "pd.set_option('display.precision', 4)"
   ]
  },
  {
   "cell_type": "markdown",
   "metadata": {},
   "source": [
    "# Prepare Dataset - Home Price"
   ]
  },
  {
   "cell_type": "code",
   "execution_count": 105,
   "metadata": {
    "scrolled": false
   },
   "outputs": [
    {
     "data": {
      "text/plain": [
       "                                       2000q1       2000q2       2000q3       2000q4       2001q1  ...       2015q3       2015q4       2016q1       2016q2    2016q3\n",
       "State        RegionName                                                                            ...                                                              \n",
       "New York     New York                     NaN          NaN          NaN          NaN          NaN  ...  557200.0000  572833.3333  582866.6667  591633.3333  587200.0\n",
       "California   Los Angeles          207066.6667  214466.6667  220966.6667  226166.6667  233000.0000  ...  547266.6667  557733.3333  566033.3333  577466.6667  584050.0\n",
       "Illinois     Chicago              138400.0000  143633.3333  147866.6667  152133.3333  156933.3333  ...  208300.0000  207900.0000  206066.6667  208200.0000  212000.0\n",
       "Pennsylvania Philadelphia          53000.0000   53633.3333   54133.3333   54700.0000   55333.3333  ...  121233.3333  122200.0000  123433.3333  126933.3333  128700.0\n",
       "Arizona      Phoenix              111833.3333  114366.6667  116000.0000  117400.0000  119600.0000  ...  179066.6667  183833.3333  187900.0000  191433.3333  195200.0\n",
       "Nevada       Las Vegas            132600.0000  134366.6667  135400.0000  137000.0000  139533.3333  ...  186766.6667  190633.3333  194600.0000  197200.0000  199950.0\n",
       "California   San Diego            222900.0000  234366.6667  245433.3333  256033.3333  267200.0000  ...  519766.6667  525466.6667  529333.3333  536233.3333  539750.0\n",
       "Texas        Dallas                84466.6667   83866.6667   84866.6667   87833.3333   89733.3333  ...  128566.6667  134600.0000  140500.0000  144600.0000  149300.0\n",
       "California   San Jose             374266.6667  406566.6667  431866.6667  455500.0000  470666.6667  ...  776400.0000  789133.3333  803600.0000  818933.3333  822200.0\n",
       "Florida      Jacksonville          88600.0000   89700.0000   91700.0000   93100.0000   94400.0000  ...  130133.3333  132000.0000  133966.6667  137200.0000  139900.0\n",
       "...                                       ...          ...          ...          ...          ...  ...          ...          ...          ...          ...       ...\n",
       "California   Forest Falls         113533.3333  114400.0000  114166.6667  111133.3333  113433.3333  ...  191166.6667  198733.3333  188633.3333  189866.6667  186650.0\n",
       "Missouri     Bois D Arc           107800.0000  106966.6667  107100.0000  108100.0000  110700.0000  ...  146300.0000  149433.3333  146866.6667  143766.6667  144000.0\n",
       "Virginia     Henrico              128566.6667  130766.6667  132266.6667  133266.6667  135233.3333  ...  212100.0000  213966.6667  216033.3333  216200.0000  220150.0\n",
       "New Jersey   Diamond Beach        173966.6667  183100.0000  188966.6667  193133.3333  194400.0000  ...  399233.3333  400433.3333  404533.3333  403900.0000  399000.0\n",
       "Tennessee    Gruetli Laager        35400.0000   35466.6667   36666.6667   37300.0000   37733.3333  ...   69500.0000   71700.0000   75333.3333   76466.6667   77500.0\n",
       "Wisconsin    Town of Wrightstown  101766.6667  105400.0000  111366.6667  114866.6667  125966.6667  ...  149866.6667  149933.3333  149833.3333  151266.6667  155000.0\n",
       "New York     Urbana                79200.0000   81666.6667   91700.0000   98366.6667   94866.6667  ...  136466.6667  136166.6667  138966.6667  144200.0000  143000.0\n",
       "Wisconsin    New Denmark          114566.6667  119266.6667  126066.6667  131966.6667  143800.0000  ...  188433.3333  188933.3333  191066.6667  192833.3333  197600.0\n",
       "California   Angels               151000.0000  155900.0000  158100.0000  167466.6667  176833.3333  ...  263500.0000  279500.0000  276533.3333  271600.0000  269950.0\n",
       "Wisconsin    Holland              151033.3333  150500.0000  153233.3333  155833.3333  161866.6667  ...  212866.6667  217833.3333  221966.6667  228033.3333  234950.0\n",
       "\n",
       "[10730 rows x 67 columns]"
      ]
     },
     "execution_count": 105,
     "metadata": {},
     "output_type": "execute_result"
    }
   ],
   "source": [
    "df_home_price = pd.read_csv(\"City_Zhvi_AllHomes.csv\")\n",
    "\n",
    "states = {'OH': 'Ohio', 'KY': 'Kentucky', 'AS': 'American Samoa', 'NV': 'Nevada', 'WY': 'Wyoming', 'NA': 'National', 'AL': 'Alabama', 'MD': 'Maryland', 'AK': 'Alaska', 'UT': 'Utah', 'OR': 'Oregon', 'MT': 'Montana', 'IL': 'Illinois', 'TN': 'Tennessee', 'DC': 'District of Columbia', 'VT': 'Vermont', 'ID': 'Idaho', 'AR': 'Arkansas', 'ME': 'Maine', 'WA': 'Washington', 'HI': 'Hawaii', 'WI': 'Wisconsin', 'MI': 'Michigan', 'IN': 'Indiana', 'NJ': 'New Jersey', 'AZ': 'Arizona', 'GU': 'Guam', 'MS': 'Mississippi', 'PR': 'Puerto Rico', 'NC': 'North Carolina', 'TX': 'Texas', 'SD': 'South Dakota', 'MP': 'Northern Mariana Islands', 'IA': 'Iowa', 'MO': 'Missouri', 'CT': 'Connecticut', 'WV': 'West Virginia', 'SC': 'South Carolina', 'LA': 'Louisiana', 'KS': 'Kansas', 'NY': 'New York', 'NE': 'Nebraska', 'OK': 'Oklahoma', 'FL': 'Florida', 'CA': 'California', 'CO': 'Colorado', 'PA': 'Pennsylvania', 'DE': 'Delaware', 'NM': 'New Mexico', 'RI': 'Rhode Island', 'MN': 'Minnesota', 'VI': 'Virgin Islands', 'NH': 'New Hampshire', 'MA': 'Massachusetts', 'GA': 'Georgia', 'ND': 'North Dakota', 'VA': 'Virginia'}\n",
    "df_home_price.loc[:, \"State\"] = df_home_price[\"State\"].map(states)\n",
    "\n",
    "\n",
    "df_home_price = df_home_price.set_index([\"State\", \"RegionName\"])\n",
    "df_home_price = df_home_price.loc[:, [\"-\" in col for col in df_home_price.columns]]\n",
    "\n",
    "\n",
    "quarters = []\n",
    "for year_month in df_home_price.columns:\n",
    "    year = year_month[:4]\n",
    "    month = year_month[-2:]\n",
    "    if month in [\"01\", \"02\", \"03\"]:\n",
    "        quarters.append(\"{}q1\".format(year_month[:4]))\n",
    "    elif month in [\"04\", \"05\", \"06\"]:\n",
    "        quarters.append(\"{}q2\".format(year_month[:4]))\n",
    "    elif month in [\"07\", \"08\", \"09\"]:\n",
    "        quarters.append(\"{}q3\".format(year_month[:4]))\n",
    "    elif month in [\"10\", \"11\", \"12\"]:\n",
    "        quarters.append(\"{}q4\".format(year_month[:4]))\n",
    "\n",
    "df_home_price_quarter = df_home_price.T.groupby(quarters).mean().T\n",
    "df_home_price_quarter = df_home_price_quarter.loc[:, df_home_price_quarter.columns >= \"2000q1\"]\n",
    "\n",
    "df_home_price_quarter"
   ]
  },
  {
   "cell_type": "code",
   "execution_count": null,
   "metadata": {},
   "outputs": [],
   "source": []
  },
  {
   "cell_type": "markdown",
   "metadata": {},
   "source": [
    "# Prepare Dataset - University Town"
   ]
  },
  {
   "cell_type": "code",
   "execution_count": 106,
   "metadata": {},
   "outputs": [
    {
     "data": {
      "text/plain": [
       "         State     RegionName\n",
       "0      Alabama         Auburn\n",
       "1      Alabama       Florence\n",
       "2      Alabama   Jacksonville\n",
       "3      Alabama     Livingston\n",
       "4      Alabama     Montevallo\n",
       "5      Alabama           Troy\n",
       "6      Alabama     Tuscaloosa\n",
       "7      Alabama       Tuskegee\n",
       "8       Alaska      Fairbanks\n",
       "9      Arizona      Flagstaff\n",
       "..         ...            ...\n",
       "507  Wisconsin        Madison\n",
       "508  Wisconsin      Menomonie\n",
       "509  Wisconsin      Milwaukee\n",
       "510  Wisconsin        Oshkosh\n",
       "511  Wisconsin    Platteville\n",
       "512  Wisconsin    River Falls\n",
       "513  Wisconsin  Stevens Point\n",
       "514  Wisconsin       Waukesha\n",
       "515  Wisconsin     Whitewater\n",
       "516    Wyoming        Laramie\n",
       "\n",
       "[517 rows x 2 columns]"
      ]
     },
     "execution_count": 106,
     "metadata": {},
     "output_type": "execute_result"
    }
   ],
   "source": [
    "df_uni_town = pd.read_csv('university_towns.txt', delimiter=\"\\t\", header=None, names=[\"data\"])\n",
    "\n",
    "df_uni_town.loc[:, \"isState\"] = df_uni_town[\"data\"].str.strip().str.endswith(\"[edit]\")\n",
    "df_uni_town.loc[:, \"State\"] = np.where(df_uni_town[\"isState\"], df_uni_town[\"data\"], np.nan)\n",
    "df_uni_town.loc[:, \"State\"] = df_uni_town[\"State\"].fillna(method=\"ffill\").str.replace(\"\\[edit\\]\", \"\")\n",
    "\n",
    "df_uni_town.loc[:, \"RegionName\"] = np.where(df_uni_town[\"isState\"], np.nan, df_uni_town[\"data\"])\n",
    "df_uni_town.loc[:, \"RegionName\"] = df_uni_town[\"RegionName\"].str.split(\" \\(\").str[0]\n",
    "df_uni_town = df_uni_town.dropna()\n",
    "\n",
    "df_uni_town = df_uni_town[[\"State\", \"RegionName\"]].reset_index(drop=True)\n",
    "\n",
    "df_uni_town"
   ]
  },
  {
   "cell_type": "code",
   "execution_count": null,
   "metadata": {},
   "outputs": [],
   "source": []
  },
  {
   "cell_type": "markdown",
   "metadata": {},
   "source": [
    "# Prepare Dataset - GDP Level"
   ]
  },
  {
   "cell_type": "code",
   "execution_count": 107,
   "metadata": {
    "scrolled": false
   },
   "outputs": [
    {
     "data": {
      "text/plain": [
       "    quarter      gdp  gdpDeclined  isRecession  recessionGroup\n",
       "0    1947q1   1934.5        False        False             NaN\n",
       "1    1947q2   1932.3         True         True             1.0\n",
       "2    1947q3   1930.3         True         True             1.0\n",
       "3    1947q4   1960.7        False        False             NaN\n",
       "4    1948q1   1989.5        False        False             NaN\n",
       "5    1948q2   2021.9        False        False             NaN\n",
       "6    1948q3   2033.2        False        False             NaN\n",
       "7    1948q4   2035.3        False        False             NaN\n",
       "8    1949q1   2007.5         True         True             2.0\n",
       "9    1949q2   2000.8         True         True             2.0\n",
       "..      ...      ...          ...          ...             ...\n",
       "268  2014q1  15747.0         True        False             NaN\n",
       "269  2014q2  15900.8        False        False             NaN\n",
       "270  2014q3  16094.5        False        False             NaN\n",
       "271  2014q4  16186.7        False        False             NaN\n",
       "272  2015q1  16269.0        False        False             NaN\n",
       "273  2015q2  16374.2        False        False             NaN\n",
       "274  2015q3  16454.9        False        False             NaN\n",
       "275  2015q4  16490.7        False        False             NaN\n",
       "276  2016q1  16525.0        False        False             NaN\n",
       "277  2016q2  16583.1        False        False             NaN\n",
       "\n",
       "[278 rows x 5 columns]"
      ]
     },
     "execution_count": 107,
     "metadata": {},
     "output_type": "execute_result"
    }
   ],
   "source": [
    "df_gdp = pd.read_excel(\n",
    "    \"gdplev.xls\", sheet_name=\"Sheet1\",\n",
    "    usecols=\"E,G\", names=[\"quarter\", \"gdp\"],\n",
    "    header=7\n",
    ")\n",
    "\n",
    "df_gdp.loc[:, \"gdpDeclined\"] = df_gdp[\"gdp\"].diff() < 0\n",
    "\n",
    "df_gdp.loc[:, \"isRecession\"] = False\n",
    "\n",
    "for i in np.arange(len(df_gdp) - 2):\n",
    "    \n",
    "    if df_gdp.loc[i, \"gdpDeclined\"] and df_gdp.loc[i+1, \"gdpDeclined\"]:\n",
    "        df_gdp.loc[i, \"isRecession\"] = True\n",
    "\n",
    "        \n",
    "    if (i != 0) and df_gdp.loc[i-1, \"isRecession\"] and not ((not df_gdp.loc[i, \"gdpDeclined\"]) and (not df_gdp.loc[i+1, \"gdpDeclined\"])):\n",
    "        df_gdp.loc[i, \"isRecession\"] = True\n",
    "        \n",
    "        \n",
    "df_gdp.loc[:, \"recessionGroup\"] = np.nan\n",
    "\n",
    "recession_group_count = 0\n",
    "for i in np.arange(1, len(df_gdp)):\n",
    "    \n",
    "    if (not df_gdp.loc[i-1, \"isRecession\"]) and df_gdp.loc[i, \"isRecession\"]:\n",
    "        recession_group_count += 1\n",
    "        df_gdp.loc[i, \"recessionGroup\"] = recession_group_count\n",
    "    \n",
    "    if df_gdp.loc[i , \"isRecession\"]:\n",
    "        df_gdp.loc[i, \"recessionGroup\"] = recession_group_count\n",
    "\n",
    "df_gdp"
   ]
  },
  {
   "cell_type": "code",
   "execution_count": 108,
   "metadata": {},
   "outputs": [
    {
     "data": {
      "text/plain": [
       "               recessionStart recessionEnd recessionBottom\n",
       "recessionGroup                                            \n",
       "1.0                    1947q2       1947q3          1947q3\n",
       "2.0                    1949q1       1949q4          1949q2\n",
       "3.0                    1953q3       1954q1          1954q1\n",
       "4.0                    1957q4       1958q1          1958q1\n",
       "5.0                    1969q4       1970q1          1970q1\n",
       "6.0                    1974q3       1975q1          1975q1\n",
       "7.0                    1980q2       1980q3          1980q3\n",
       "8.0                    1981q4       1982q3          1982q1\n",
       "9.0                    1990q4       1991q1          1991q1\n",
       "10.0                   2008q3       2009q2          2009q2"
      ]
     },
     "execution_count": 108,
     "metadata": {},
     "output_type": "execute_result"
    }
   ],
   "source": [
    "def compute_recession_stats(df_group):\n",
    "    result = pd.Series()\n",
    "    result.loc[\"recessionStart\"] = df_group[\"quarter\"].values[0]\n",
    "    result.loc[\"recessionEnd\"] = df_group[\"quarter\"].values[-1]\n",
    "    result.loc[\"recessionBottom\"] = df_group.sort_values(by=\"gdp\")[\"quarter\"].values[0]\n",
    "    return result\n",
    "\n",
    "df_gdp[df_gdp[\"isRecession\"]].groupby(\"recessionGroup\").apply(compute_recession_stats)"
   ]
  },
  {
   "cell_type": "code",
   "execution_count": null,
   "metadata": {},
   "outputs": [],
   "source": []
  },
  {
   "cell_type": "markdown",
   "metadata": {},
   "source": [
    "# Run Tests"
   ]
  },
  {
   "cell_type": "code",
   "execution_count": 117,
   "metadata": {},
   "outputs": [
    {
     "data": {
      "text/plain": [
       "                               2000q1       2000q2       2000q3       2000q4       2001q1  ...       2015q4       2016q1       2016q2    2016q3                label\n",
       "State     RegionName                                                                       ...                                                                      \n",
       "Alabama   Adamsville       69033.3333   69166.6667   69800.0000   71966.6667   73466.6667  ...   73866.6667   74166.6667   74933.3333   74700.0  non-university town\n",
       "          Alabaster       122133.3333  123066.6667  123166.6667  123700.0000  123233.3333  ...  151733.3333  153466.6667  155100.0000  155850.0  non-university town\n",
       "          Albertville      73966.6667   72600.0000   72833.3333   74200.0000   75900.0000  ...   91366.6667   92000.0000   92466.6667   92200.0  non-university town\n",
       "          Arab             83766.6667   81566.6667   81333.3333   82966.6667   84200.0000  ...  112233.3333  110033.3333  110100.0000  112000.0  non-university town\n",
       "          Ardmore                 NaN          NaN          NaN          NaN          NaN  ...  143966.6667  142566.6667  143233.3333  141950.0  non-university town\n",
       "          Axis                    NaN          NaN          NaN          NaN          NaN  ...  109600.0000  110266.6667  112200.0000  112750.0  non-university town\n",
       "          Baileyton               NaN          NaN          NaN          NaN          NaN  ...   97233.3333   96766.6667   98900.0000  102200.0  non-university town\n",
       "          Bay Minette      81700.0000   78533.3333   79133.3333   81300.0000   85700.0000  ...  121433.3333  120266.6667  118333.3333  118500.0  non-university town\n",
       "          Bayou La Batre   44066.6667   44500.0000   44266.6667   43666.6667   42500.0000  ...   48933.3333   48566.6667   47833.3333   47400.0  non-university town\n",
       "          Bessemer                NaN          NaN          NaN          NaN          NaN  ...   59433.3333   59766.6667   59866.6667   59800.0  non-university town\n",
       "...                               ...          ...          ...          ...          ...  ...          ...          ...          ...       ...                  ...\n",
       "Wisconsin Wolf River       95166.6667   99333.3333  103800.0000  107633.3333  111400.0000  ...  163266.6667  159500.0000  160933.3333  168050.0  non-university town\n",
       "          Woodruff                NaN          NaN          NaN          NaN          NaN  ...  165600.0000  162533.3333  161966.6667  164200.0  non-university town\n",
       "          Woodville               NaN          NaN          NaN          NaN          NaN  ...  181800.0000  182633.3333  186666.6667  193100.0  non-university town\n",
       "          Yorkville       139066.6667  134900.0000  135033.3333  140300.0000  148800.0000  ...  244800.0000  248466.6667  255200.0000  265950.0  non-university town\n",
       "Wyoming   Bar Nunn         93033.3333   89666.6667   88900.0000   93500.0000   98833.3333  ...  211800.0000  210200.0000  208833.3333  207450.0  non-university town\n",
       "          Burns           101533.3333  104566.6667  108366.6667  113000.0000  115833.3333  ...  164300.0000  168266.6667  171600.0000  170500.0  non-university town\n",
       "          Casper           89233.3333   89600.0000   89733.3333   93166.6667   95500.0000  ...  182700.0000  184333.3333  185166.6667  184350.0  non-university town\n",
       "          Cheyenne        116866.6667  120033.3333  121533.3333  123633.3333  125533.3333  ...  190666.6667  194433.3333  196500.0000  199100.0  non-university town\n",
       "          Evansville      128033.3333  128766.6667  130833.3333  132066.6667  130566.6667  ...  304200.0000  309433.3333  309200.0000  309050.0  non-university town\n",
       "          Pine Bluffs      93733.3333   95066.6667   94633.3333   98066.6667  103233.3333  ...  169200.0000  166833.3333  163800.0000  157650.0  non-university town\n",
       "\n",
       "[10730 rows x 68 columns]"
      ]
     },
     "execution_count": 117,
     "metadata": {},
     "output_type": "execute_result"
    }
   ],
   "source": [
    "df_home_price_quarter.sort_index()"
   ]
  },
  {
   "cell_type": "code",
   "execution_count": 119,
   "metadata": {},
   "outputs": [
    {
     "data": {
      "text/plain": [
       "                                   label\n",
       "State     RegionName                    \n",
       "Alabama   Auburn         university town\n",
       "          Florence       university town\n",
       "          Jacksonville   university town\n",
       "          Livingston     university town\n",
       "          Montevallo     university town\n",
       "          Troy           university town\n",
       "          Tuscaloosa     university town\n",
       "          Tuskegee       university town\n",
       "Alaska    Fairbanks      university town\n",
       "Arizona   Flagstaff      university town\n",
       "...                                  ...\n",
       "Wisconsin Madison        university town\n",
       "          Menomonie      university town\n",
       "          Milwaukee      university town\n",
       "          Oshkosh        university town\n",
       "          Platteville    university town\n",
       "          River Falls    university town\n",
       "          Stevens Point  university town\n",
       "          Waukesha       university town\n",
       "          Whitewater     university town\n",
       "Wyoming   Laramie        university town\n",
       "\n",
       "[517 rows x 1 columns]"
      ]
     },
     "execution_count": 119,
     "metadata": {},
     "output_type": "execute_result"
    }
   ],
   "source": [
    "df_uni_town.loc[:, \"label\"] = \"university town\"\n",
    "df_uni_town = df_uni_town.set_index([\"State\", \"RegionName\"])\n",
    "\n",
    "df_uni_town"
   ]
  },
  {
   "cell_type": "code",
   "execution_count": 120,
   "metadata": {},
   "outputs": [
    {
     "data": {
      "text/plain": [
       "array([False, False, False, ..., False, False, False])"
      ]
     },
     "execution_count": 120,
     "metadata": {},
     "output_type": "execute_result"
    }
   ],
   "source": [
    "df_home_price_quarter.index.isin(df_uni_town.index)"
   ]
  },
  {
   "cell_type": "code",
   "execution_count": 127,
   "metadata": {},
   "outputs": [
    {
     "data": {
      "text/plain": [
       "                                       2000q1       2000q2       2000q3       2000q4       2001q1  ...       2015q4       2016q1       2016q2    2016q3                label\n",
       "State        RegionName                                                                            ...                                                                      \n",
       "New York     New York                     NaN          NaN          NaN          NaN          NaN  ...  572833.3333  582866.6667  591633.3333  587200.0  non-university town\n",
       "California   Los Angeles          207066.6667  214466.6667  220966.6667  226166.6667  233000.0000  ...  557733.3333  566033.3333  577466.6667  584050.0  non-university town\n",
       "Illinois     Chicago              138400.0000  143633.3333  147866.6667  152133.3333  156933.3333  ...  207900.0000  206066.6667  208200.0000  212000.0  non-university town\n",
       "Pennsylvania Philadelphia          53000.0000   53633.3333   54133.3333   54700.0000   55333.3333  ...  122200.0000  123433.3333  126933.3333  128700.0  non-university town\n",
       "Arizona      Phoenix              111833.3333  114366.6667  116000.0000  117400.0000  119600.0000  ...  183833.3333  187900.0000  191433.3333  195200.0  non-university town\n",
       "Nevada       Las Vegas            132600.0000  134366.6667  135400.0000  137000.0000  139533.3333  ...  190633.3333  194600.0000  197200.0000  199950.0      university town\n",
       "California   San Diego            222900.0000  234366.6667  245433.3333  256033.3333  267200.0000  ...  525466.6667  529333.3333  536233.3333  539750.0      university town\n",
       "Texas        Dallas                84466.6667   83866.6667   84866.6667   87833.3333   89733.3333  ...  134600.0000  140500.0000  144600.0000  149300.0      university town\n",
       "California   San Jose             374266.6667  406566.6667  431866.6667  455500.0000  470666.6667  ...  789133.3333  803600.0000  818933.3333  822200.0  non-university town\n",
       "Florida      Jacksonville          88600.0000   89700.0000   91700.0000   93100.0000   94400.0000  ...  132000.0000  133966.6667  137200.0000  139900.0  non-university town\n",
       "...                                       ...          ...          ...          ...          ...  ...          ...          ...          ...       ...                  ...\n",
       "California   Forest Falls         113533.3333  114400.0000  114166.6667  111133.3333  113433.3333  ...  198733.3333  188633.3333  189866.6667  186650.0  non-university town\n",
       "Missouri     Bois D Arc           107800.0000  106966.6667  107100.0000  108100.0000  110700.0000  ...  149433.3333  146866.6667  143766.6667  144000.0  non-university town\n",
       "Virginia     Henrico              128566.6667  130766.6667  132266.6667  133266.6667  135233.3333  ...  213966.6667  216033.3333  216200.0000  220150.0  non-university town\n",
       "New Jersey   Diamond Beach        173966.6667  183100.0000  188966.6667  193133.3333  194400.0000  ...  400433.3333  404533.3333  403900.0000  399000.0  non-university town\n",
       "Tennessee    Gruetli Laager        35400.0000   35466.6667   36666.6667   37300.0000   37733.3333  ...   71700.0000   75333.3333   76466.6667   77500.0  non-university town\n",
       "Wisconsin    Town of Wrightstown  101766.6667  105400.0000  111366.6667  114866.6667  125966.6667  ...  149933.3333  149833.3333  151266.6667  155000.0  non-university town\n",
       "New York     Urbana                79200.0000   81666.6667   91700.0000   98366.6667   94866.6667  ...  136166.6667  138966.6667  144200.0000  143000.0  non-university town\n",
       "Wisconsin    New Denmark          114566.6667  119266.6667  126066.6667  131966.6667  143800.0000  ...  188933.3333  191066.6667  192833.3333  197600.0  non-university town\n",
       "California   Angels               151000.0000  155900.0000  158100.0000  167466.6667  176833.3333  ...  279500.0000  276533.3333  271600.0000  269950.0  non-university town\n",
       "Wisconsin    Holland              151033.3333  150500.0000  153233.3333  155833.3333  161866.6667  ...  217833.3333  221966.6667  228033.3333  234950.0  non-university town\n",
       "\n",
       "[10730 rows x 68 columns]"
      ]
     },
     "execution_count": 127,
     "metadata": {},
     "output_type": "execute_result"
    }
   ],
   "source": [
    "\n",
    "df_home_price_quarter.loc[:, \"label\"] = np.where(df_home_price_quarter.index.isin(df_uni_town.index), \"university town\", \"non-university town\")\n",
    "\n",
    "df_home_price_quarter"
   ]
  },
  {
   "cell_type": "code",
   "execution_count": 131,
   "metadata": {},
   "outputs": [],
   "source": [
    "quarter_before_recession = \"2008q2\"\n",
    "recession_bottom = \"2009q2\""
   ]
  },
  {
   "cell_type": "code",
   "execution_count": 132,
   "metadata": {},
   "outputs": [
    {
     "data": {
      "text/plain": [
       "                                       2000q1       2000q2       2000q3       2000q4       2001q1  ...       2016q1       2016q2    2016q3                label  price ratio\n",
       "State        RegionName                                                                            ...                                                                      \n",
       "New York     New York                     NaN          NaN          NaN          NaN          NaN  ...  582866.6667  591633.3333  587200.0  non-university town       1.0818\n",
       "California   Los Angeles          207066.6667  214466.6667  220966.6667  226166.6667  233000.0000  ...  566033.3333  577466.6667  584050.0  non-university town       1.2135\n",
       "Illinois     Chicago              138400.0000  143633.3333  147866.6667  152133.3333  156933.3333  ...  206066.6667  208200.0000  212000.0  non-university town       1.0828\n",
       "Pennsylvania Philadelphia          53000.0000   53633.3333   54133.3333   54700.0000   55333.3333  ...  123433.3333  126933.3333  128700.0  non-university town       1.0169\n",
       "Arizona      Phoenix              111833.3333  114366.6667  116000.0000  117400.0000  119600.0000  ...  187900.0000  191433.3333  195200.0  non-university town       1.2201\n",
       "Nevada       Las Vegas            132600.0000  134366.6667  135400.0000  137000.0000  139533.3333  ...  194600.0000  197200.0000  199950.0      university town       1.4136\n",
       "California   San Diego            222900.0000  234366.6667  245433.3333  256033.3333  267200.0000  ...  529333.3333  536233.3333  539750.0      university town       1.1332\n",
       "Texas        Dallas                84466.6667   83866.6667   84866.6667   87833.3333   89733.3333  ...  140500.0000  144600.0000  149300.0      university town       1.0977\n",
       "California   San Jose             374266.6667  406566.6667  431866.6667  455500.0000  470666.6667  ...  803600.0000  818933.3333  822200.0  non-university town       1.1536\n",
       "Florida      Jacksonville          88600.0000   89700.0000   91700.0000   93100.0000   94400.0000  ...  133966.6667  137200.0000  139900.0  non-university town       1.1392\n",
       "...                                       ...          ...          ...          ...          ...  ...          ...          ...       ...                  ...          ...\n",
       "California   Forest Falls         113533.3333  114400.0000  114166.6667  111133.3333  113433.3333  ...  188633.3333  189866.6667  186650.0  non-university town       1.2032\n",
       "Missouri     Bois D Arc           107800.0000  106966.6667  107100.0000  108100.0000  110700.0000  ...  146866.6667  143766.6667  144000.0  non-university town       0.8901\n",
       "Virginia     Henrico              128566.6667  130766.6667  132266.6667  133266.6667  135233.3333  ...  216033.3333  216200.0000  220150.0  non-university town       1.0540\n",
       "New Jersey   Diamond Beach        173966.6667  183100.0000  188966.6667  193133.3333  194400.0000  ...  404533.3333  403900.0000  399000.0  non-university town       1.0876\n",
       "Tennessee    Gruetli Laager        35400.0000   35466.6667   36666.6667   37300.0000   37733.3333  ...   75333.3333   76466.6667   77500.0  non-university town       0.7321\n",
       "Wisconsin    Town of Wrightstown  101766.6667  105400.0000  111366.6667  114866.6667  125966.6667  ...  149833.3333  151266.6667  155000.0  non-university town       1.0354\n",
       "New York     Urbana                79200.0000   81666.6667   91700.0000   98366.6667   94866.6667  ...  138966.6667  144200.0000  143000.0  non-university town       0.9390\n",
       "Wisconsin    New Denmark          114566.6667  119266.6667  126066.6667  131966.6667  143800.0000  ...  191066.6667  192833.3333  197600.0  non-university town       0.9700\n",
       "California   Angels               151000.0000  155900.0000  158100.0000  167466.6667  176833.3333  ...  276533.3333  271600.0000  269950.0  non-university town       1.1597\n",
       "Wisconsin    Holland              151033.3333  150500.0000  153233.3333  155833.3333  161866.6667  ...  221966.6667  228033.3333  234950.0  non-university town       1.1357\n",
       "\n",
       "[10730 rows x 69 columns]"
      ]
     },
     "execution_count": 132,
     "metadata": {},
     "output_type": "execute_result"
    }
   ],
   "source": [
    "df_home_price_quarter.loc[:, \"price ratio\"] = df_home_price_quarter[quarter_before_recession] / df_home_price_quarter[recession_bottom]\n",
    "\n",
    "df_home_price_quarter"
   ]
  },
  {
   "cell_type": "code",
   "execution_count": null,
   "metadata": {},
   "outputs": [],
   "source": []
  },
  {
   "cell_type": "code",
   "execution_count": 134,
   "metadata": {},
   "outputs": [
    {
     "data": {
      "text/plain": [
       "Ttest_indResult(statistic=-2.998032664179151, pvalue=0.002724063704761454)"
      ]
     },
     "execution_count": 134,
     "metadata": {},
     "output_type": "execute_result"
    }
   ],
   "source": [
    "ttest_ind(\n",
    "    df_home_price_quarter.loc[df_home_price_quarter[\"label\"] == \"university town\", \"price ratio\"].dropna(),\n",
    "    df_home_price_quarter.loc[df_home_price_quarter[\"label\"] == \"non-university town\", \"price ratio\"].dropna(),\n",
    ")"
   ]
  }
 ],
 "metadata": {
  "kernelspec": {
   "display_name": "Python 3",
   "language": "python",
   "name": "python3"
  },
  "language_info": {
   "codemirror_mode": {
    "name": "ipython",
    "version": 3
   },
   "file_extension": ".py",
   "mimetype": "text/x-python",
   "name": "python",
   "nbconvert_exporter": "python",
   "pygments_lexer": "ipython3",
   "version": "3.7.3"
  }
 },
 "nbformat": 4,
 "nbformat_minor": 2
}

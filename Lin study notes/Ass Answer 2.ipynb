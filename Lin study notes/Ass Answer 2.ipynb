{
 "cells": [
  {
   "cell_type": "code",
   "execution_count": 2,
   "metadata": {
    "pycharm": {
     "is_executing": false
    }
   },
   "outputs": [],
   "source": [
    "import pandas as pd\n",
    "import numpy as np\n",
    "\n",
    "pd.set_option('display.max_rows', 30)\n",
    "pd.set_option('display.max_columns', 15)\n",
    "pd.set_option('display.width', 1000)\n",
    "pd.set_option('display.max_colwidth', 36)\n",
    "pd.set_option('display.notebook_repr_html', False)\n",
    "pd.set_option('display.expand_frame_repr', False)\n",
    "pd.set_option('display.precision', 6)"
   ]
  },
  {
   "cell_type": "code",
   "execution_count": 3,
   "metadata": {
    "pycharm": {
     "is_executing": false
    }
   },
   "outputs": [],
   "source": [
    "DATASET_LOCATION = \"C:\\\\Users\\\\jianx\\\\Downloads\\\\\""
   ]
  },
  {
   "cell_type": "code",
   "execution_count": 4,
   "metadata": {
    "pycharm": {
     "is_executing": false
    }
   },
   "outputs": [
    {
     "data": {
      "text/plain": "                         № Summer  01 !  02 !  03 !  Total  № Winter  01 !.1  02 !.1  03 !.1  Total.1  № Games  01 !.2  02 !.2  03 !.2  Combined total\nAfghanistan (AFG)              13     0     0     2      2         0       0       0       0        0       13       0       0       2               2\nAlgeria (ALG)                  12     5     2     8     15         3       0       0       0        0       15       5       2       8              15\nArgentina (ARG)                23    18    24    28     70        18       0       0       0        0       41      18      24      28              70\nArmenia (ARM)                   5     1     2     9     12         6       0       0       0        0       11       1       2       9              12\nAustralasia (ANZ) [ANZ]         2     3     4     5     12         0       0       0       0        0        2       3       4       5              12"
     },
     "metadata": {},
     "output_type": "execute_result",
     "execution_count": 4
    }
   ],
   "source": [
    "df = pd.read_csv(DATASET_LOCATION + 'olympics.csv',index_col=0, skiprows=1)  \n",
    "df.head()"
   ]
  },
  {
   "cell_type": "code",
   "execution_count": 5,
   "metadata": {
    "pycharm": {
     "is_executing": false
    }
   },
   "outputs": [
    {
     "data": {
      "text/plain": "             # Summer  Gold  Silver  Bronze  Total  # Winter  Gold.1  ...  Total.1  # Games  Gold.2  Silver.2  Bronze.2  Combined total   ID\nAfghanistan        13     0       0       2      2         0       0  ...        0       13       0         0         2               2  AFG\nAlgeria            12     5       2       8     15         3       0  ...        0       15       5         2         8              15  ALG\nArgentina          23    18      24      28     70        18       0  ...        0       41      18        24        28              70  ARG\nArmenia             5     1       2       9     12         6       0  ...        0       11       1         2         9              12  ARM\nAustralasia         2     3       4       5     12         0       0  ...        0        2       3         4         5              12  ANZ\n\n[5 rows x 16 columns]"
     },
     "metadata": {},
     "output_type": "execute_result",
     "execution_count": 5
    }
   ],
   "source": [
    "for col in df.columns:\n",
    "    if col[:2]=='01':\n",
    "        df.rename(columns={col:'Gold'+col[4:]}, inplace=True)\n",
    "    if col[:2]=='02':\n",
    "        df.rename(columns={col:'Silver'+col[4:]}, inplace=True)\n",
    "    if col[:2]=='03':\n",
    "        df.rename(columns={col:'Bronze'+col[4:]}, inplace=True)\n",
    "    if col[:1]=='№':\n",
    "        df.rename(columns={col:'#'+col[1:]}, inplace=True)\n",
    "\n",
    "names_ids = df.index.str.split('\\s\\(') # split the index by '('\n",
    "\n",
    "df.index = names_ids.str[0] # the [0] element is the country name (new index) \n",
    "df['ID'] = names_ids.str[1].str[:3] # the [1] element is the abbreviation or ID (take first 3 characters from that)\n",
    "\n",
    "df = df.drop('Totals')\n",
    "df.head()"
   ]
  },
  {
   "cell_type": "markdown",
   "metadata": {},
   "source": [
    "## Question 0 (Example)\n",
    "What is the first country in df?\n",
    "\n",
    "This function should return a Series."
   ]
  },
  {
   "cell_type": "code",
   "execution_count": 6,
   "metadata": {
    "pycharm": {
     "is_executing": false
    }
   },
   "outputs": [
    {
     "data": {
      "text/plain": "# Summer           13\nGold                0\nSilver              0\nBronze              2\nTotal               2\n# Winter            0\nGold.1              0\nSilver.1            0\nBronze.1            0\nTotal.1             0\n# Games            13\nGold.2              0\nSilver.2            0\nBronze.2            2\nCombined total      2\nID                AFG\nName: Afghanistan, dtype: object"
     },
     "metadata": {},
     "output_type": "execute_result",
     "execution_count": 6
    }
   ],
   "source": [
    "# You should write your whole answer within the function provided. The autograder will call\n",
    "# this function and compare the return value against the correct solution value\n",
    "def answer_zero():\n",
    "    # This function returns the row for Afghanistan, which is a Series object. The assignment\n",
    "    # question description will tell you the general format the autograder is expecting\n",
    "    return df.iloc[0]\n",
    "\n",
    "# You can examine what your function returns by calling it in the cell. If you have questions\n",
    "# about the assignment formats, check out the discussion forums for any FAQs\n",
    "answer_zero() "
   ]
  },
  {
   "cell_type": "markdown",
   "metadata": {},
   "source": [
    "## Question 1\n",
    "Which country has won the most gold medals in summer games?\n",
    "\n",
    "This function should return a single string value."
   ]
  },
  {
   "cell_type": "code",
   "execution_count": 7,
   "metadata": {
    "pycharm": {
     "is_executing": false
    }
   },
   "outputs": [
    {
     "data": {
      "text/plain": "'United States'"
     },
     "metadata": {},
     "output_type": "execute_result",
     "execution_count": 7
    }
   ],
   "source": [
    " #answer 1 breakdown\n",
    "    \n",
    "df_sorted = df.sort_values(by=\"Gold\", ascending=False)\n",
    "df_sorted.loc[:, \"Ctry Name\"] = df_sorted.index\n",
    "df_sorted.head() \n",
    "\n",
    "df_sorted[\"Ctry Name\"][0]\n",
    " \n",
    "\n",
    "\n",
    " "
   ]
  },
  {
   "cell_type": "code",
   "execution_count": 8,
   "metadata": {
    "pycharm": {
     "is_executing": false
    }
   },
   "outputs": [
    {
     "data": {
      "text/plain": "'United States'"
     },
     "metadata": {},
     "output_type": "execute_result",
     "execution_count": 8
    }
   ],
   "source": [
    "#answer 1\n",
    "\n",
    "test_ctry= (df[\"Gold\"]).idxmax()\n",
    "\n",
    "test_ctry"
   ]
  },
  {
   "cell_type": "markdown",
   "metadata": {},
   "source": [
    "## Question 2\n",
    "Which country had the biggest difference between their summer and winter gold medal counts?\n",
    "\n",
    "This function should return a single string value."
   ]
  },
  {
   "cell_type": "code",
   "execution_count": 9,
   "metadata": {
    "scrolled": true,
    "pycharm": {
     "is_executing": false
    }
   },
   "outputs": [
    {
     "data": {
      "text/plain": "Afghanistan     0\nAlgeria         5\nArgentina      18\nArmenia         1\nAustralasia     3\ndtype: int64"
     },
     "metadata": {},
     "output_type": "execute_result",
     "execution_count": 9
    }
   ],
   "source": [
    " gap=  df[\"Gold\"]-df[\"Gold.1\"] \n",
    "\n",
    "gap.head()"
   ]
  },
  {
   "cell_type": "code",
   "execution_count": 10,
   "metadata": {
    "pycharm": {
     "is_executing": false
    }
   },
   "outputs": [
    {
     "data": {
      "text/plain": "'United States'"
     },
     "metadata": {},
     "output_type": "execute_result",
     "execution_count": 10
    }
   ],
   "source": [
    "biggest_gap= (gap).idxmax()\n",
    "\n",
    "biggest_gap"
   ]
  },
  {
   "cell_type": "code",
   "execution_count": 11,
   "metadata": {
    "pycharm": {
     "is_executing": false
    }
   },
   "outputs": [
    {
     "data": {
      "text/plain": "'United States'"
     },
     "metadata": {},
     "output_type": "execute_result",
     "execution_count": 11
    }
   ],
   "source": [
    "#answer 2\n",
    "\n",
    "biggest_gap = (df[\"Gold\"]-df[\"Gold.1\"] ).idxmax()\n",
    "biggest_gap\n"
   ]
  },
  {
   "cell_type": "markdown",
   "metadata": {},
   "source": [
    "## Question 3\n",
    "Which country has the biggest difference between their summer gold medal counts and winter gold medal counts relative to their total gold medal count?\n",
    "\n",
    " (summer gold - winter gold)/ total gold\n",
    " \n",
    "Only include countries that have won at least 1 gold in both summer and winter.\n",
    "\n",
    "This function should return a single string value."
   ]
  },
  {
   "cell_type": "code",
   "execution_count": 12,
   "metadata": {
    "pycharm": {
     "is_executing": false
    }
   },
   "outputs": [
    {
     "data": {
      "text/plain": "             # Summer  Gold  Silver  Bronze  Total  # Winter  Gold.1  ...  Total.1  # Games  Gold.2  Silver.2  Bronze.2  Combined total   ID\nAfghanistan        13     0       0       2      2         0       0  ...        0       13       0         0         2               2  AFG\nAlgeria            12     5       2       8     15         3       0  ...        0       15       5         2         8              15  ALG\nArgentina          23    18      24      28     70        18       0  ...        0       41      18        24        28              70  ARG\n\n[3 rows x 16 columns]"
     },
     "metadata": {},
     "output_type": "execute_result",
     "execution_count": 12
    }
   ],
   "source": [
    "df[:3]"
   ]
  },
  {
   "cell_type": "code",
   "execution_count": 13,
   "metadata": {
    "pycharm": {
     "is_executing": false
    }
   },
   "outputs": [
    {
     "data": {
      "text/plain": "'Bulgaria'"
     },
     "metadata": {},
     "output_type": "execute_result",
     "execution_count": 13
    }
   ],
   "source": [
    "# pang pang\n",
    "\n",
    "df_result = pd.DataFrame(index=df.index)\n",
    "\n",
    "df_result.loc[:, \"Summer Gold\"] = df.loc[:, \"Gold\"]\n",
    "df_result.loc[:, \"Winter Gold\"] = df.loc[:, \"Gold.1\"]\n",
    "df_result.loc[:, \"Gold Ratio\"] = (df_result[\"Summer Gold\"] - df_result[\"Winter Gold\"]) / (df_result[\"Summer Gold\"] + df_result[\"Winter Gold\"])\n",
    "df_result.loc[:, \"eligible\"] = (df_result[\"Summer Gold\"] >= 1) & (df_result[\"Winter Gold\"]) >= 1\n",
    "df_result.loc[:,\"Ctry Name\"]= df_result.index\n",
    "\n",
    "# df_result.loc[df_result[\"eligible\"]]\n",
    "\n",
    "df_result.loc[df_result[\"eligible\"]].sort_values(by=\"Gold Ratio\",ascending=False)\n",
    "\n",
    "df_result.loc[df_result[\"eligible\"]].sort_values(by=\"Gold Ratio\",ascending=False)[\"Ctry Name\"][0]"
   ]
  },
  {
   "cell_type": "markdown",
   "metadata": {},
   "source": [
    "## Question 4\n",
    "Write a function that creates a Series called \"Points\" which is a weighted value where each gold medal (Gold.2) counts for 3 points, silver medals (Silver.2) for 2 points, and bronze medals (Bronze.2) for 1 point. The function should return only the column (a Series object) which you created, with the country names as indices.\n",
    "\n",
    "This function should return a Series named Points of length 146"
   ]
  },
  {
   "cell_type": "code",
   "execution_count": 14,
   "metadata": {
    "pycharm": {
     "is_executing": false
    }
   },
   "outputs": [
    {
     "data": {
      "text/plain": "             # Summer  Gold  Silver  Bronze  Total  # Winter  Gold.1  ...  Total.1  # Games  Gold.2  Silver.2  Bronze.2  Combined total   ID\nAfghanistan        13     0       0       2      2         0       0  ...        0       13       0         0         2               2  AFG\nAlgeria            12     5       2       8     15         3       0  ...        0       15       5         2         8              15  ALG\nArgentina          23    18      24      28     70        18       0  ...        0       41      18        24        28              70  ARG\n\n[3 rows x 16 columns]"
     },
     "metadata": {},
     "output_type": "execute_result",
     "execution_count": 14
    }
   ],
   "source": [
    "#create a list\n",
    "\n",
    "df[0:3]\n"
   ]
  },
  {
   "cell_type": "code",
   "execution_count": 15,
   "metadata": {
    "pycharm": {
     "is_executing": false
    }
   },
   "outputs": [
    {
     "data": {
      "text/plain": "                                  Gold.2  Silver.2  Bronze.2\nAfghanistan                            0         0         2\nAlgeria                                5         2         8\nArgentina                             18        24        28\nArmenia                                1         2         9\nAustralasia                            3         4         5\n...                                  ...       ...       ...\nYugoslavia                            26        32        29\nIndependent Olympic Participants       0         1         2\nZambia                                 0         1         1\nZimbabwe                               3         4         1\nMixed team                             8         5         4\n\n[146 rows x 3 columns]"
     },
     "metadata": {},
     "output_type": "execute_result",
     "execution_count": 15
    }
   ],
   "source": [
    "df_q4 = df[[\"Gold.2\",\"Silver.2\",\"Bronze.2\"]].copy()  #[[]] double square bracket is used to select multiple cols\n",
    "\n",
    "df_q4"
   ]
  },
  {
   "cell_type": "code",
   "execution_count": 16,
   "metadata": {
    "pycharm": {
     "is_executing": false
    }
   },
   "outputs": [
    {
     "data": {
      "text/plain": "             Gold.2  Silver.2  Bronze.2  Points G  Points S  Points B  Points Total\nAfghanistan       0         0         2         0         0         2             2\nAlgeria           5         2         8        15         4         8            27\nArgentina        18        24        28        54        48        28           130"
     },
     "metadata": {},
     "output_type": "execute_result",
     "execution_count": 16
    }
   ],
   "source": [
    "df_q4.loc[:,\"Points G\"] = 3 * df_q4.loc[:,\"Gold.2\"]\n",
    "df_q4.loc[:,\"Points S\"] = 2 * df_q4.loc[:,\"Silver.2\"]\n",
    "df_q4.loc[:,\"Points B\"] = 1 * df_q4.loc[:,\"Bronze.2\"]\n",
    "df_q4.loc[:,\"Points Total\"] = df_q4.loc[:,\"Points G\"]+ df_q4.loc[:,\"Points S\"]+ df_q4.loc[:,\"Points B\"]\n",
    "df_q4[:3]"
   ]
  },
  {
   "cell_type": "code",
   "execution_count": 17,
   "metadata": {
    "pycharm": {
     "is_executing": false
    }
   },
   "outputs": [
    {
     "data": {
      "text/plain": "pandas.core.frame.DataFrame"
     },
     "metadata": {},
     "output_type": "execute_result",
     "execution_count": 17
    }
   ],
   "source": [
    "# Seires VS DF??\n",
    "type(df_q4[[\"Points Total\"]])  # it is still a df by selecting the col,\n"
   ]
  },
  {
   "cell_type": "code",
   "execution_count": 18,
   "metadata": {
    "pycharm": {
     "is_executing": false
    }
   },
   "outputs": [
    {
     "data": {
      "text/plain": "Afghanistan                           2\nAlgeria                              27\nArgentina                           130\nArmenia                              16\nAustralasia                          22\n                                   ... \nYugoslavia                          171\nIndependent Olympic Participants      4\nZambia                                3\nZimbabwe                             18\nMixed team                           38\nName: Points Total, Length: 146, dtype: int64"
     },
     "metadata": {},
     "output_type": "execute_result",
     "execution_count": 18
    }
   ],
   "source": [
    "df_q4[\"Points Total\"]"
   ]
  },
  {
   "cell_type": "code",
   "execution_count": 19,
   "metadata": {
    "pycharm": {
     "is_executing": false
    }
   },
   "outputs": [
    {
     "data": {
      "text/plain": "pandas.core.series.Series"
     },
     "metadata": {},
     "output_type": "execute_result",
     "execution_count": 19
    }
   ],
   "source": [
    "type(df_q4[\"Points Total\"])"
   ]
  },
  {
   "cell_type": "markdown",
   "metadata": {},
   "source": [
    "## Part 2\n",
    "For the next set of questions, we will be using census data from the United States Census Bureau. Counties are political and geographic subdivisions of states in the United States. This dataset contains population data for counties and states in the US from 2010 to 2015. See this document for a description of the variable names.\n",
    "\n",
    "The census dataset (census.csv) should be loaded as census_df. Answer questions using this as appropriate.\n",
    "\n"
   ]
  },
  {
   "cell_type": "code",
   "execution_count": 20,
   "metadata": {
    "pycharm": {
     "is_executing": false
    }
   },
   "outputs": [
    {
     "data": {
      "text/plain": "      SUMLEV  REGION  DIVISION  STATE  COUNTY   STNAME            CTYNAME  ...  RDOMESTICMIG2014  RDOMESTICMIG2015  RNETMIG2011  RNETMIG2012  RNETMIG2013  RNETMIG2014  RNETMIG2015\n0         40       3         6      1       0  Alabama            Alabama  ...          0.582002         -0.467369     1.030015     0.826644     1.383282     1.724718     0.712594\n1         50       3         6      1       1  Alabama     Autauga County  ...          2.265971         -2.530799     7.606016    -2.626146    -2.722002     2.592270    -2.187333\n2         50       3         6      1       3  Alabama     Baldwin County  ...         19.243287         17.197872    15.844176    18.559627    22.727626    20.317142    18.293499\n3         50       3         6      1       5  Alabama     Barbour County  ...         -3.904217        -10.543299    -4.874741    -2.758113    -7.167664    -3.978583   -10.543299\n4         50       3         6      1       7  Alabama        Bibb County  ...         -0.177537          0.177258    -5.088389    -4.363636    -5.403729     0.754533     1.107861\n...      ...     ...       ...    ...     ...      ...                ...  ...               ...               ...          ...          ...          ...          ...          ...\n3188      50       4         8     56      37  Wyoming  Sweetwater County  ...        -14.252889        -14.248864     1.255221    16.243199    -5.295460   -14.075283   -14.070195\n3189      50       4         8     56      39  Wyoming       Teton County  ...         14.143021         -0.564849     0.654527     2.408578    21.160658    16.308671     1.520747\n3190      50       4         8     56      41  Wyoming       Uinta County  ...        -14.215862        -12.127022   -18.136812    -5.536861    -7.521840   -14.740608   -12.606351\n3191      50       4         8     56      43  Wyoming    Washakie County  ...        -17.781491          1.682288   -11.990126    -1.182592    -2.250385   -18.020168     1.441961\n3192      50       4         8     56      45  Wyoming      Weston County  ...          1.533635          6.935294   -12.032179    -8.040059    12.372583     1.533635     6.935294\n\n[3193 rows x 100 columns]"
     },
     "metadata": {},
     "output_type": "execute_result",
     "execution_count": 20
    }
   ],
   "source": [
    "df_cs = pd.read_csv(DATASET_LOCATION + 'census.csv' )  \n",
    "df_cs"
   ]
  },
  {
   "cell_type": "code",
   "execution_count": 21,
   "metadata": {
    "pycharm": {
     "is_executing": false
    }
   },
   "outputs": [],
   "source": [
    "def multiply(x):\n",
    "    output =  x * 10\n",
    "    return output"
   ]
  },
  {
   "cell_type": "code",
   "execution_count": 22,
   "metadata": {
    "pycharm": {
     "is_executing": false
    }
   },
   "outputs": [
    {
     "data": {
      "text/plain": "1000"
     },
     "metadata": {},
     "output_type": "execute_result",
     "execution_count": 22
    }
   ],
   "source": [
    "multiply(100)"
   ]
  },
  {
   "cell_type": "markdown",
   "metadata": {},
   "source": [
    "### Question 5\n",
    "Which state has the most counties in it? (hint: consider the sumlevel key carefully! You'll need this for future questions too...)\n",
    "\n",
    "This function should return a single string value."
   ]
  },
  {
   "cell_type": "code",
   "execution_count": 23,
   "metadata": {
    "pycharm": {
     "is_executing": false
    }
   },
   "outputs": [
    {
     "data": {
      "text/plain": "    SUMLEV  REGION  DIVISION  STATE  COUNTY   STNAME            CTYNAME  ...  RDOMESTICMIG2014  RDOMESTICMIG2015  RNETMIG2011  RNETMIG2012  RNETMIG2013  RNETMIG2014  RNETMIG2015\n0       40       3         6      1       0  Alabama            Alabama  ...          0.582002         -0.467369     1.030015     0.826644     1.383282     1.724718     0.712594\n1       50       3         6      1       1  Alabama     Autauga County  ...          2.265971         -2.530799     7.606016    -2.626146    -2.722002     2.592270    -2.187333\n2       50       3         6      1       3  Alabama     Baldwin County  ...         19.243287         17.197872    15.844176    18.559627    22.727626    20.317142    18.293499\n3       50       3         6      1       5  Alabama     Barbour County  ...         -3.904217        -10.543299    -4.874741    -2.758113    -7.167664    -3.978583   -10.543299\n4       50       3         6      1       7  Alabama        Bibb County  ...         -0.177537          0.177258    -5.088389    -4.363636    -5.403729     0.754533     1.107861\n..     ...     ...       ...    ...     ...      ...                ...  ...               ...               ...          ...          ...          ...          ...          ...\n63      50       3         6      1     125  Alabama  Tuscaloosa County  ...          4.787490          1.884402     5.306232     5.202679     6.333332     6.057539     3.158710\n64      50       3         6      1     127  Alabama      Walker County  ...         -3.300481         -3.087245    -4.085450    -3.869753    -0.181663    -2.692097    -2.460626\n65      50       3         6      1     129  Alabama  Washington County  ...          1.067236         -0.950486   -13.849940   -12.075121   -10.122411     2.193763     0.118811\n66      50       3         6      1     131  Alabama      Wilcox County  ...        -13.835235          0.090453    -7.029724   -10.239356   -12.314507   -13.835235     0.090453\n67      50       3         6      1     133  Alabama     Winston County  ...          1.077609         -6.669724     0.410332    -3.957457     2.400166     1.036162    -6.711409\n\n[68 rows x 100 columns]"
     },
     "metadata": {},
     "output_type": "execute_result",
     "execution_count": 23
    }
   ],
   "source": [
    "df_cs.loc[df_cs['STNAME'] == \"Alabama\"]"
   ]
  },
  {
   "cell_type": "code",
   "execution_count": 24,
   "metadata": {
    "pycharm": {
     "is_executing": false
    }
   },
   "outputs": [],
   "source": [
    "def compute_number_of_counties(x):\n",
    "    n_counties = len(x)\n",
    "    return n_counties"
   ]
  },
  {
   "cell_type": "code",
   "execution_count": 25,
   "metadata": {
    "pycharm": {
     "is_executing": false
    }
   },
   "outputs": [
    {
     "data": {
      "text/plain": "'Texas'"
     },
     "metadata": {},
     "output_type": "execute_result",
     "execution_count": 25
    }
   ],
   "source": [
    "df_cs.groupby([\"STNAME\"]).apply(compute_number_of_counties).sort_values(ascending=False).index[0]"
   ]
  },
  {
   "cell_type": "code",
   "execution_count": 26,
   "metadata": {
    "pycharm": {
     "is_executing": false
    }
   },
   "outputs": [
    {
     "data": {
      "text/plain": "    SUMLEV  REGION  DIVISION  STATE  COUNTY   STNAME            CTYNAME  ...  RDOMESTICMIG2014  RDOMESTICMIG2015  RNETMIG2011  RNETMIG2012  RNETMIG2013  RNETMIG2014  RNETMIG2015\n0       40       3         6      1       0  Alabama            Alabama  ...          0.582002         -0.467369     1.030015     0.826644     1.383282     1.724718     0.712594\n1       50       3         6      1       1  Alabama     Autauga County  ...          2.265971         -2.530799     7.606016    -2.626146    -2.722002     2.592270    -2.187333\n2       50       3         6      1       3  Alabama     Baldwin County  ...         19.243287         17.197872    15.844176    18.559627    22.727626    20.317142    18.293499\n3       50       3         6      1       5  Alabama     Barbour County  ...         -3.904217        -10.543299    -4.874741    -2.758113    -7.167664    -3.978583   -10.543299\n4       50       3         6      1       7  Alabama        Bibb County  ...         -0.177537          0.177258    -5.088389    -4.363636    -5.403729     0.754533     1.107861\n..     ...     ...       ...    ...     ...      ...                ...  ...               ...               ...          ...          ...          ...          ...          ...\n63      50       3         6      1     125  Alabama  Tuscaloosa County  ...          4.787490          1.884402     5.306232     5.202679     6.333332     6.057539     3.158710\n64      50       3         6      1     127  Alabama      Walker County  ...         -3.300481         -3.087245    -4.085450    -3.869753    -0.181663    -2.692097    -2.460626\n65      50       3         6      1     129  Alabama  Washington County  ...          1.067236         -0.950486   -13.849940   -12.075121   -10.122411     2.193763     0.118811\n66      50       3         6      1     131  Alabama      Wilcox County  ...        -13.835235          0.090453    -7.029724   -10.239356   -12.314507   -13.835235     0.090453\n67      50       3         6      1     133  Alabama     Winston County  ...          1.077609         -6.669724     0.410332    -3.957457     2.400166     1.036162    -6.711409\n\n[68 rows x 100 columns]"
     },
     "metadata": {},
     "output_type": "execute_result",
     "execution_count": 26
    }
   ],
   "source": [
    "df_cs.groupby([\"STNAME\"]).get_group(\"Alabama\")"
   ]
  },
  {
   "cell_type": "markdown",
   "metadata": {},
   "source": [
    "## Question 6\n",
    "Only looking at the three most populous counties for each state, what are the three most populous states (in order of highest population to lowest population)? Use CENSUS2010POP.\n",
    "\n",
    "This function should return a list of string values."
   ]
  },
  {
   "cell_type": "code",
   "execution_count": 27,
   "metadata": {
    "pycharm": {
     "is_executing": false
    }
   },
   "outputs": [
    {
     "data": {
      "text/plain": "      SUMLEV  REGION  DIVISION  STATE  COUNTY   STNAME            CTYNAME  ...  RDOMESTICMIG2014  RDOMESTICMIG2015  RNETMIG2011  RNETMIG2012  RNETMIG2013  RNETMIG2014  RNETMIG2015\n0         40       3         6      1       0  Alabama            Alabama  ...          0.582002         -0.467369     1.030015     0.826644     1.383282     1.724718     0.712594\n1         50       3         6      1       1  Alabama     Autauga County  ...          2.265971         -2.530799     7.606016    -2.626146    -2.722002     2.592270    -2.187333\n2         50       3         6      1       3  Alabama     Baldwin County  ...         19.243287         17.197872    15.844176    18.559627    22.727626    20.317142    18.293499\n3         50       3         6      1       5  Alabama     Barbour County  ...         -3.904217        -10.543299    -4.874741    -2.758113    -7.167664    -3.978583   -10.543299\n4         50       3         6      1       7  Alabama        Bibb County  ...         -0.177537          0.177258    -5.088389    -4.363636    -5.403729     0.754533     1.107861\n...      ...     ...       ...    ...     ...      ...                ...  ...               ...               ...          ...          ...          ...          ...          ...\n3188      50       4         8     56      37  Wyoming  Sweetwater County  ...        -14.252889        -14.248864     1.255221    16.243199    -5.295460   -14.075283   -14.070195\n3189      50       4         8     56      39  Wyoming       Teton County  ...         14.143021         -0.564849     0.654527     2.408578    21.160658    16.308671     1.520747\n3190      50       4         8     56      41  Wyoming       Uinta County  ...        -14.215862        -12.127022   -18.136812    -5.536861    -7.521840   -14.740608   -12.606351\n3191      50       4         8     56      43  Wyoming    Washakie County  ...        -17.781491          1.682288   -11.990126    -1.182592    -2.250385   -18.020168     1.441961\n3192      50       4         8     56      45  Wyoming      Weston County  ...          1.533635          6.935294   -12.032179    -8.040059    12.372583     1.533635     6.935294\n\n[3193 rows x 100 columns]"
     },
     "metadata": {},
     "output_type": "execute_result",
     "execution_count": 27
    }
   ],
   "source": [
    "df_cs"
   ]
  },
  {
   "cell_type": "code",
   "execution_count": 28,
   "metadata": {
    "pycharm": {
     "is_executing": false
    }
   },
   "outputs": [
    {
     "data": {
      "text/plain": "      SUMLEV  REGION  DIVISION  STATE  COUNTY   STNAME            CTYNAME  ...  RDOMESTICMIG2014  RDOMESTICMIG2015  RNETMIG2011  RNETMIG2012  RNETMIG2013  RNETMIG2014  RNETMIG2015\n1         50       3         6      1       1  Alabama     Autauga County  ...          2.265971         -2.530799     7.606016    -2.626146    -2.722002     2.592270    -2.187333\n2         50       3         6      1       3  Alabama     Baldwin County  ...         19.243287         17.197872    15.844176    18.559627    22.727626    20.317142    18.293499\n3         50       3         6      1       5  Alabama     Barbour County  ...         -3.904217        -10.543299    -4.874741    -2.758113    -7.167664    -3.978583   -10.543299\n4         50       3         6      1       7  Alabama        Bibb County  ...         -0.177537          0.177258    -5.088389    -4.363636    -5.403729     0.754533     1.107861\n5         50       3         6      1       9  Alabama      Blount County  ...         -2.062535         -1.369970     1.859511    -0.848580    -1.402476    -1.577232    -0.884411\n...      ...     ...       ...    ...     ...      ...                ...  ...               ...               ...          ...          ...          ...          ...          ...\n3188      50       4         8     56      37  Wyoming  Sweetwater County  ...        -14.252889        -14.248864     1.255221    16.243199    -5.295460   -14.075283   -14.070195\n3189      50       4         8     56      39  Wyoming       Teton County  ...         14.143021         -0.564849     0.654527     2.408578    21.160658    16.308671     1.520747\n3190      50       4         8     56      41  Wyoming       Uinta County  ...        -14.215862        -12.127022   -18.136812    -5.536861    -7.521840   -14.740608   -12.606351\n3191      50       4         8     56      43  Wyoming    Washakie County  ...        -17.781491          1.682288   -11.990126    -1.182592    -2.250385   -18.020168     1.441961\n3192      50       4         8     56      45  Wyoming      Weston County  ...          1.533635          6.935294   -12.032179    -8.040059    12.372583     1.533635     6.935294\n\n[3142 rows x 100 columns]"
     },
     "metadata": {},
     "output_type": "execute_result",
     "execution_count": 28
    }
   ],
   "source": [
    "df_q6 = df_cs.loc[df_cs[\"SUMLEV\"] == 50]\n",
    "df_q6"
   ]
  },
  {
   "cell_type": "code",
   "execution_count": 29,
   "metadata": {
    "pycharm": {
     "is_executing": false
    }
   },
   "outputs": [
    {
     "data": {
      "text/plain": "['California', 'Texas', 'Illinois']"
     },
     "metadata": {},
     "output_type": "execute_result",
     "execution_count": 29
    }
   ],
   "source": [
    "def compute_q6(df_group):\n",
    "    df_group = df_group.sort_values(\"CENSUS2010POP\", ascending=False)\n",
    "    df_top3 = df_group[:3]\n",
    "    top3_population = df_top3[\"CENSUS2010POP\"].sum()\n",
    "    return top3_population\n",
    "    \n",
    "df_q6.groupby(\"STNAME\").apply(compute_q6).sort_values(ascending=False).index[:3].tolist()"
   ]
  },
  {
   "cell_type": "code",
   "execution_count": 29,
   "metadata": {
    "pycharm": {
     "is_executing": false
    }
   },
   "outputs": [],
   "source": []
  },
  {
   "cell_type": "code",
   "execution_count": 30,
   "metadata": {
    "pycharm": {
     "is_executing": false
    }
   },
   "outputs": [
    {
     "traceback": [
      "\u001b[1;31m---------------------------------------------------------------------------\u001b[0m",
      "\u001b[1;31mNameError\u001b[0m                                 Traceback (most recent call last)",
      "\u001b[1;32m<ipython-input-30-6caca1875f14>\u001b[0m in \u001b[0;36m<module>\u001b[1;34m\u001b[0m\n\u001b[1;32m----> 1\u001b[1;33m \u001b[0mgroupview\u001b[0m\u001b[1;33m[\u001b[0m\u001b[1;34m\"CENSUS2010POP\"\u001b[0m\u001b[1;33m]\u001b[0m\u001b[1;33m.\u001b[0m\u001b[0mmax\u001b[0m\u001b[1;33m(\u001b[0m\u001b[1;33m)\u001b[0m\u001b[1;33m.\u001b[0m\u001b[0msort_values\u001b[0m\u001b[1;33m(\u001b[0m\u001b[0mascending\u001b[0m\u001b[1;33m=\u001b[0m\u001b[1;32mFalse\u001b[0m\u001b[1;33m)\u001b[0m\u001b[1;33m.\u001b[0m\u001b[0mindex\u001b[0m\u001b[1;33m[\u001b[0m\u001b[1;33m:\u001b[0m\u001b[1;36m3\u001b[0m\u001b[1;33m]\u001b[0m\u001b[1;33m.\u001b[0m\u001b[0mtolist\u001b[0m\u001b[1;33m(\u001b[0m\u001b[1;33m)\u001b[0m\u001b[1;33m\u001b[0m\u001b[1;33m\u001b[0m\u001b[0m\n\u001b[0m\u001b[0;32m      2\u001b[0m \u001b[1;33m\u001b[0m\u001b[0m\n",
      "\u001b[1;31mNameError\u001b[0m: name 'groupview' is not defined"
     ],
     "ename": "NameError",
     "evalue": "name 'groupview' is not defined",
     "output_type": "error"
    }
   ],
   "source": [
    "groupview[\"CENSUS2010POP\"].max().sort_values(ascending=False).index[:3].tolist()"
   ]
  },
  {
   "cell_type": "code",
   "execution_count": null,
   "metadata": {
    "pycharm": {
     "is_executing": false
    }
   },
   "outputs": [],
   "source": [
    "df_cs.head()"
   ]
  },
  {
   "cell_type": "code",
   "execution_count": null,
   "metadata": {
    "pycharm": {
     "is_executing": false
    }
   },
   "outputs": [],
   "source": []
  },
  {
   "cell_type": "markdown",
   "metadata": {},
   "source": [
    "## Question 7\n",
    "Which county has had the largest absolute change in population within the period 2010-2015? (Hint: population values are stored in columns POPESTIMATE2010 through POPESTIMATE2015, you need to consider all six columns.)\n",
    "\n",
    "e.g. If County Population in the 5 year period is 100, 120, 80, 105, 100, 130, then its largest change in the period would be |130-80| = 50.\n",
    "\n",
    "This function should return a single string value."
   ]
  },
  {
   "cell_type": "code",
   "execution_count": null,
   "metadata": {
    "pycharm": {
     "is_executing": false
    }
   },
   "outputs": [],
   "source": [
    "df_q7 = df_cs.loc[\n",
    "    df_cs[\"SUMLEV\"] == 50, \n",
    "    [\"CTYNAME\", \"POPESTIMATE2010\", \"POPESTIMATE2011\", \"POPESTIMATE2012\", \"POPESTIMATE2013\", \"POPESTIMATE2014\", \"POPESTIMATE2015\", ]\n",
    "    ].copy()\n",
    "df_q7 = df_q7.set_index(\"CTYNAME\")\n",
    "\n",
    "df_q7.loc[:,\"Max C\"] = df_q7.max(axis=1)\n",
    "df_q7.loc[:,\"Min C\"] = df_q7.min(axis=1)\n",
    "\n",
    "df_q7.loc[:,\"Diff\"] = df_q7[\"Max C\"] - df_q7[\"Min C\"]\n",
    "df_q7 = df_q7.sort_values(by=\"Diff\", ascending=False)\n",
    "df_q7.index[0]"
   ]
  },
  {
   "cell_type": "markdown",
   "metadata": {},
   "source": [
    "## Question 8\n",
    "In this datafile, the United States is broken up into four regions using the \"REGION\" column.\n",
    "\n",
    "Create a query that finds the counties that belong to regions 1 or 2, whose name starts with 'Washington', and whose POPESTIMATE2015 was greater than their POPESTIMATE 2014.\n",
    "\n",
    "This function should return a 5x2 DataFrame with the columns = ['STNAME', 'CTYNAME'] and the same index ID as the census_df (sorted ascending by index)."
   ]
  },
  {
   "cell_type": "code",
   "execution_count": null,
   "metadata": {
    "pycharm": {
     "is_executing": false
    }
   },
   "outputs": [],
   "source": [
    "df_q8 = df_cs[[\"REGION\",\"STNAME\",\"CTYNAME\",\"POPESTIMATE2015\",\"POPESTIMATE2014\"]]\n",
    "\n",
    "df_q8"
   ]
  },
  {
   "cell_type": "code",
   "execution_count": null,
   "metadata": {
    "pycharm": {
     "is_executing": false
    }
   },
   "outputs": [],
   "source": [
    "df_q8.loc[:, \"isRegionRight\"] = df_q8.loc[:, \"REGION\"].isin([1, 2])\n",
    "df_q8.loc[:,\"CTY Wash\"] = df_q8.loc[:,\"CTYNAME\"].str.startswith(\"Washington\")\n",
    "# df_q8.loc[df_q8[\"CTY Wash\"], :]\n",
    "\n",
    "df_q8.loc[:,\"2015-2014\"] = df_q8[\"POPESTIMATE2015\"] > df_q8[\"POPESTIMATE2014\"]\n",
    "df_q8.loc[df_q8[\"isRegionRight\"] & df_q8[\"CTY Wash\"] & df_q8[\"2015-2014\"], :] \n",
    "#"
   ]
  },
  {
   "cell_type": "code",
   "execution_count": null,
   "metadata": {
    "pycharm": {
     "is_executing": false
    }
   },
   "outputs": [],
   "source": [
    "df_q8_answer =  df_q8.loc[df_q8[\"isRegionRight\"] & df_q8[\"CTY Wash\"] & df_q8[\"2015-2014\"], ['STNAME', 'CTYNAME']].sort_index(ascending=True)\n",
    "\n",
    "df_q8_answer.sort_index(ascending=True)"
   ]
  },
  {
   "cell_type": "code",
   "execution_count": null,
   "metadata": {
    "pycharm": {
     "is_executing": false
    }
   },
   "outputs": [],
   "source": []
  },
  {
   "cell_type": "code",
   "execution_count": null,
   "metadata": {
    "pycharm": {
     "is_executing": false
    }
   },
   "outputs": [],
   "source": []
  },
  {
   "cell_type": "code",
   "execution_count": null,
   "metadata": {
    "pycharm": {
     "is_executing": false
    }
   },
   "outputs": [],
   "source": []
  },
  {
   "cell_type": "code",
   "execution_count": null,
   "metadata": {
    "pycharm": {
     "is_executing": false
    }
   },
   "outputs": [],
   "source": []
  },
  {
   "cell_type": "code",
   "execution_count": null,
   "metadata": {
    "pycharm": {
     "is_executing": false
    }
   },
   "outputs": [],
   "source": []
  },
  {
   "cell_type": "code",
   "execution_count": null,
   "metadata": {
    "pycharm": {
     "is_executing": false
    }
   },
   "outputs": [],
   "source": []
  },
  {
   "cell_type": "code",
   "execution_count": null,
   "metadata": {
    "pycharm": {
     "is_executing": false
    }
   },
   "outputs": [],
   "source": []
  },
  {
   "cell_type": "code",
   "execution_count": null,
   "metadata": {
    "pycharm": {
     "is_executing": false
    }
   },
   "outputs": [],
   "source": []
  },
  {
   "cell_type": "code",
   "execution_count": null,
   "metadata": {
    "pycharm": {
     "is_executing": false
    }
   },
   "outputs": [],
   "source": []
  },
  {
   "cell_type": "code",
   "execution_count": null,
   "metadata": {
    "pycharm": {
     "is_executing": false
    }
   },
   "outputs": [],
   "source": []
  },
  {
   "cell_type": "code",
   "execution_count": null,
   "metadata": {
    "pycharm": {
     "is_executing": false
    }
   },
   "outputs": [],
   "source": []
  },
  {
   "cell_type": "code",
   "execution_count": null,
   "metadata": {
    "pycharm": {
     "is_executing": false
    }
   },
   "outputs": [],
   "source": []
  },
  {
   "cell_type": "code",
   "execution_count": null,
   "metadata": {
    "pycharm": {
     "is_executing": false
    }
   },
   "outputs": [],
   "source": []
  }
 ],
 "metadata": {
  "kernelspec": {
   "display_name": "Python 3",
   "language": "python",
   "name": "python3"
  },
  "language_info": {
   "codemirror_mode": {
    "name": "ipython",
    "version": 3
   },
   "file_extension": ".py",
   "mimetype": "text/x-python",
   "name": "python",
   "nbconvert_exporter": "python",
   "pygments_lexer": "ipython3",
   "version": "3.7.3"
  }
 },
 "nbformat": 4,
 "nbformat_minor": 2
}
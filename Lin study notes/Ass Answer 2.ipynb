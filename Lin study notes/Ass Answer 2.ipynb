{
 "cells": [
  {
   "cell_type": "code",
   "execution_count": 130,
   "metadata": {},
   "outputs": [],
   "source": [
    "import pandas as pd\n",
    "import numpy as np\n",
    "\n",
    "pd.set_option('display.max_rows', 30)\n",
    "pd.set_option('display.max_columns', 15)\n",
    "pd.set_option('display.width', 1000)\n",
    "pd.set_option('display.max_colwidth', 36)\n",
    "pd.set_option('display.notebook_repr_html', False)\n",
    "pd.set_option('display.expand_frame_repr', False)\n",
    "pd.set_option('display.precision', 6)"
   ]
  },
  {
   "cell_type": "code",
   "execution_count": 68,
   "metadata": {},
   "outputs": [],
   "source": [
    "DATASET_LOCATION = \"C:\\\\Users\\\\jianx\\\\Downloads\\\\\""
   ]
  },
  {
   "cell_type": "code",
   "execution_count": 69,
   "metadata": {},
   "outputs": [
    {
     "data": {
      "text/plain": [
       "                         № Summer  01 !  02 !  03 !  Total  № Winter  01 !.1  02 !.1  03 !.1  Total.1  № Games  01 !.2  02 !.2  03 !.2  Combined total\n",
       "Afghanistan (AFG)              13     0     0     2      2         0       0       0       0        0       13       0       0       2               2\n",
       "Algeria (ALG)                  12     5     2     8     15         3       0       0       0        0       15       5       2       8              15\n",
       "Argentina (ARG)                23    18    24    28     70        18       0       0       0        0       41      18      24      28              70\n",
       "Armenia (ARM)                   5     1     2     9     12         6       0       0       0        0       11       1       2       9              12\n",
       "Australasia (ANZ) [ANZ]         2     3     4     5     12         0       0       0       0        0        2       3       4       5              12"
      ]
     },
     "execution_count": 69,
     "metadata": {},
     "output_type": "execute_result"
    }
   ],
   "source": [
    "df = pd.read_csv(DATASET_LOCATION + 'olympics.csv',index_col=0, skiprows=1)  \n",
    "df.head()"
   ]
  },
  {
   "cell_type": "code",
   "execution_count": 70,
   "metadata": {},
   "outputs": [
    {
     "data": {
      "text/plain": [
       "             # Summer  Gold  Silver  Bronze  Total  # Winter  Gold.1  ...  Total.1  # Games  Gold.2  Silver.2  Bronze.2  Combined total   ID\n",
       "Afghanistan        13     0       0       2      2         0       0  ...        0       13       0         0         2               2  AFG\n",
       "Algeria            12     5       2       8     15         3       0  ...        0       15       5         2         8              15  ALG\n",
       "Argentina          23    18      24      28     70        18       0  ...        0       41      18        24        28              70  ARG\n",
       "Armenia             5     1       2       9     12         6       0  ...        0       11       1         2         9              12  ARM\n",
       "Australasia         2     3       4       5     12         0       0  ...        0        2       3         4         5              12  ANZ\n",
       "\n",
       "[5 rows x 16 columns]"
      ]
     },
     "execution_count": 70,
     "metadata": {},
     "output_type": "execute_result"
    }
   ],
   "source": [
    "for col in df.columns:\n",
    "    if col[:2]=='01':\n",
    "        df.rename(columns={col:'Gold'+col[4:]}, inplace=True)\n",
    "    if col[:2]=='02':\n",
    "        df.rename(columns={col:'Silver'+col[4:]}, inplace=True)\n",
    "    if col[:2]=='03':\n",
    "        df.rename(columns={col:'Bronze'+col[4:]}, inplace=True)\n",
    "    if col[:1]=='№':\n",
    "        df.rename(columns={col:'#'+col[1:]}, inplace=True)\n",
    "\n",
    "names_ids = df.index.str.split('\\s\\(') # split the index by '('\n",
    "\n",
    "df.index = names_ids.str[0] # the [0] element is the country name (new index) \n",
    "df['ID'] = names_ids.str[1].str[:3] # the [1] element is the abbreviation or ID (take first 3 characters from that)\n",
    "\n",
    "df = df.drop('Totals')\n",
    "df.head()"
   ]
  },
  {
   "cell_type": "markdown",
   "metadata": {},
   "source": [
    "## Question 0 (Example)\n",
    "What is the first country in df?\n",
    "\n",
    "This function should return a Series."
   ]
  },
  {
   "cell_type": "code",
   "execution_count": 71,
   "metadata": {},
   "outputs": [
    {
     "data": {
      "text/plain": [
       "# Summer           13\n",
       "Gold                0\n",
       "Silver              0\n",
       "Bronze              2\n",
       "Total               2\n",
       "# Winter            0\n",
       "Gold.1              0\n",
       "Silver.1            0\n",
       "Bronze.1            0\n",
       "Total.1             0\n",
       "# Games            13\n",
       "Gold.2              0\n",
       "Silver.2            0\n",
       "Bronze.2            2\n",
       "Combined total      2\n",
       "ID                AFG\n",
       "Name: Afghanistan, dtype: object"
      ]
     },
     "execution_count": 71,
     "metadata": {},
     "output_type": "execute_result"
    }
   ],
   "source": [
    "# You should write your whole answer within the function provided. The autograder will call\n",
    "# this function and compare the return value against the correct solution value\n",
    "def answer_zero():\n",
    "    # This function returns the row for Afghanistan, which is a Series object. The assignment\n",
    "    # question description will tell you the general format the autograder is expecting\n",
    "    return df.iloc[0]\n",
    "\n",
    "# You can examine what your function returns by calling it in the cell. If you have questions\n",
    "# about the assignment formats, check out the discussion forums for any FAQs\n",
    "answer_zero() "
   ]
  },
  {
   "cell_type": "markdown",
   "metadata": {},
   "source": [
    "## Question 1\n",
    "Which country has won the most gold medals in summer games?\n",
    "\n",
    "This function should return a single string value."
   ]
  },
  {
   "cell_type": "code",
   "execution_count": 72,
   "metadata": {},
   "outputs": [
    {
     "data": {
      "text/plain": [
       "'United States'"
      ]
     },
     "execution_count": 72,
     "metadata": {},
     "output_type": "execute_result"
    }
   ],
   "source": [
    " #answer 1 breakdown\n",
    "    \n",
    "df_sorted = df.sort_values(by=\"Gold\", ascending=False)\n",
    "df_sorted.loc[:, \"Ctry Name\"] = df_sorted.index\n",
    "df_sorted.head() \n",
    "\n",
    "df_sorted[\"Ctry Name\"][0]\n",
    " \n",
    "\n",
    "\n",
    " "
   ]
  },
  {
   "cell_type": "code",
   "execution_count": 73,
   "metadata": {},
   "outputs": [
    {
     "data": {
      "text/plain": [
       "'United States'"
      ]
     },
     "execution_count": 73,
     "metadata": {},
     "output_type": "execute_result"
    }
   ],
   "source": [
    "#answer 1\n",
    "\n",
    "test_ctry= (df[\"Gold\"]).idxmax()\n",
    "\n",
    "test_ctry"
   ]
  },
  {
   "cell_type": "markdown",
   "metadata": {},
   "source": [
    "## Question 2\n",
    "Which country had the biggest difference between their summer and winter gold medal counts?\n",
    "\n",
    "This function should return a single string value."
   ]
  },
  {
   "cell_type": "code",
   "execution_count": 74,
   "metadata": {
    "scrolled": true
   },
   "outputs": [
    {
     "data": {
      "text/plain": [
       "Afghanistan     0\n",
       "Algeria         5\n",
       "Argentina      18\n",
       "Armenia         1\n",
       "Australasia     3\n",
       "dtype: int64"
      ]
     },
     "execution_count": 74,
     "metadata": {},
     "output_type": "execute_result"
    }
   ],
   "source": [
    " gap=  df[\"Gold\"]-df[\"Gold.1\"] \n",
    "\n",
    "gap.head()"
   ]
  },
  {
   "cell_type": "code",
   "execution_count": 75,
   "metadata": {},
   "outputs": [
    {
     "data": {
      "text/plain": [
       "'United States'"
      ]
     },
     "execution_count": 75,
     "metadata": {},
     "output_type": "execute_result"
    }
   ],
   "source": [
    "biggest_gap= (gap).idxmax()\n",
    "\n",
    "biggest_gap"
   ]
  },
  {
   "cell_type": "code",
   "execution_count": 76,
   "metadata": {},
   "outputs": [
    {
     "data": {
      "text/plain": [
       "'United States'"
      ]
     },
     "execution_count": 76,
     "metadata": {},
     "output_type": "execute_result"
    }
   ],
   "source": [
    "#answer 2\n",
    "\n",
    "biggest_gap = (df[\"Gold\"]-df[\"Gold.1\"] ).idxmax()\n",
    "biggest_gap\n"
   ]
  },
  {
   "cell_type": "markdown",
   "metadata": {},
   "source": [
    "## Question 3\n",
    "Which country has the biggest difference between their summer gold medal counts and winter gold medal counts relative to their total gold medal count?\n",
    "\n",
    " (summer gold - winter gold)/ total gold\n",
    " \n",
    "Only include countries that have won at least 1 gold in both summer and winter.\n",
    "\n",
    "This function should return a single string value."
   ]
  },
  {
   "cell_type": "code",
   "execution_count": 77,
   "metadata": {},
   "outputs": [
    {
     "data": {
      "text/plain": [
       "             # Summer  Gold  Silver  Bronze  Total  # Winter  Gold.1  ...  Total.1  # Games  Gold.2  Silver.2  Bronze.2  Combined total   ID\n",
       "Afghanistan        13     0       0       2      2         0       0  ...        0       13       0         0         2               2  AFG\n",
       "Algeria            12     5       2       8     15         3       0  ...        0       15       5         2         8              15  ALG\n",
       "Argentina          23    18      24      28     70        18       0  ...        0       41      18        24        28              70  ARG\n",
       "\n",
       "[3 rows x 16 columns]"
      ]
     },
     "execution_count": 77,
     "metadata": {},
     "output_type": "execute_result"
    }
   ],
   "source": [
    "df[:3]"
   ]
  },
  {
   "cell_type": "code",
   "execution_count": 78,
   "metadata": {},
   "outputs": [
    {
     "data": {
      "text/plain": [
       "'Bulgaria'"
      ]
     },
     "execution_count": 78,
     "metadata": {},
     "output_type": "execute_result"
    }
   ],
   "source": [
    "# pang pang\n",
    "\n",
    "df_result = pd.DataFrame(index=df.index)\n",
    "\n",
    "df_result.loc[:, \"Summer Gold\"] = df.loc[:, \"Gold\"]\n",
    "df_result.loc[:, \"Winter Gold\"] = df.loc[:, \"Gold.1\"]\n",
    "df_result.loc[:, \"Gold Ratio\"] = (df_result[\"Summer Gold\"] - df_result[\"Winter Gold\"]) / (df_result[\"Summer Gold\"] + df_result[\"Winter Gold\"])\n",
    "df_result.loc[:, \"eligible\"] = (df_result[\"Summer Gold\"] >= 1) & (df_result[\"Winter Gold\"]) >= 1\n",
    "df_result.loc[:,\"Ctry Name\"]= df_result.index\n",
    "\n",
    "# df_result.loc[df_result[\"eligible\"]]\n",
    "\n",
    "df_result.loc[df_result[\"eligible\"]].sort_values(by=\"Gold Ratio\",ascending=False)\n",
    "\n",
    "df_result.loc[df_result[\"eligible\"]].sort_values(by=\"Gold Ratio\",ascending=False)[\"Ctry Name\"][0]"
   ]
  },
  {
   "cell_type": "markdown",
   "metadata": {},
   "source": [
    "## Question 4\n",
    "Write a function that creates a Series called \"Points\" which is a weighted value where each gold medal (Gold.2) counts for 3 points, silver medals (Silver.2) for 2 points, and bronze medals (Bronze.2) for 1 point. The function should return only the column (a Series object) which you created, with the country names as indices.\n",
    "\n",
    "This function should return a Series named Points of length 146"
   ]
  },
  {
   "cell_type": "code",
   "execution_count": 79,
   "metadata": {},
   "outputs": [
    {
     "data": {
      "text/plain": [
       "             # Summer  Gold  Silver  Bronze  Total  # Winter  Gold.1  ...  Total.1  # Games  Gold.2  Silver.2  Bronze.2  Combined total   ID\n",
       "Afghanistan        13     0       0       2      2         0       0  ...        0       13       0         0         2               2  AFG\n",
       "Algeria            12     5       2       8     15         3       0  ...        0       15       5         2         8              15  ALG\n",
       "Argentina          23    18      24      28     70        18       0  ...        0       41      18        24        28              70  ARG\n",
       "\n",
       "[3 rows x 16 columns]"
      ]
     },
     "execution_count": 79,
     "metadata": {},
     "output_type": "execute_result"
    }
   ],
   "source": [
    "#create a list\n",
    "\n",
    "df[0:3]\n"
   ]
  },
  {
   "cell_type": "code",
   "execution_count": 80,
   "metadata": {},
   "outputs": [
    {
     "data": {
      "text/plain": [
       "                                  Gold.2  Silver.2  Bronze.2\n",
       "Afghanistan                            0         0         2\n",
       "Algeria                                5         2         8\n",
       "Argentina                             18        24        28\n",
       "Armenia                                1         2         9\n",
       "Australasia                            3         4         5\n",
       "Australia                            144       155       181\n",
       "Austria                               77       111       116\n",
       "Azerbaijan                             6         5        15\n",
       "Bahamas                                5         2         5\n",
       "Bahrain                                0         0         1\n",
       "Barbados                               0         0         1\n",
       "Belarus                               18        28        44\n",
       "Belgium                               38        53        56\n",
       "Bermuda                                0         0         1\n",
       "Bohemia                                0         1         3\n",
       "Botswana                               0         1         0\n",
       "Brazil                                23        30        55\n",
       "British West Indies                    0         0         2\n",
       "Bulgaria                              52        87        81\n",
       "Burundi                                1         0         0\n",
       "Cameroon                               3         1         1\n",
       "Canada                               121       155       173\n",
       "Chile                                  2         7         4\n",
       "China                                213       168       145\n",
       "Colombia                               2         6        11\n",
       "Costa Rica                             1         1         2\n",
       "Ivory Coast                            0         1         0\n",
       "Croatia                               10        13        11\n",
       "Cuba                                  72        67        70\n",
       "Cyprus                                 0         1         0\n",
       "Czech Republic                        21        24        23\n",
       "Czechoslovakia                        51        57        60\n",
       "Denmark                               43        69        68\n",
       "Djibouti                               0         0         1\n",
       "Dominican Republic                     3         2         1\n",
       "Ecuador                                1         1         0\n",
       "Egypt                                  7         9        10\n",
       "Eritrea                                0         0         1\n",
       "Estonia                               13        11        16\n",
       "Ethiopia                              21         7        17\n",
       "Finland                              143       146       174\n",
       "France                               233       254       293\n",
       "Gabon                                  0         1         0\n",
       "Georgia                                6         5        14\n",
       "Germany                              252       260       270\n",
       "United Team of Germany                36        60        41\n",
       "East Germany                         192       165       162\n",
       "West Germany                          67        82        94\n",
       "Ghana                                  0         1         3\n",
       "Great Britain                        246       276       284\n",
       "...                                  ...       ...       ...\n",
       "Paraguay                               0         1         0\n",
       "Peru                                   1         3         0\n",
       "Philippines                            0         2         7\n",
       "Poland                                70        89       132\n",
       "Portugal                               4         8        11\n",
       "Puerto Rico                            0         2         6\n",
       "Qatar                                  0         0         4\n",
       "Romania                               88        94       120\n",
       "Russia                               181       161       177\n",
       "Russian Empire                         1         4         3\n",
       "Soviet Union                         473       376       355\n",
       "Unified Team                          54        44        37\n",
       "Saudi Arabia                           0         1         2\n",
       "Senegal                                0         1         0\n",
       "Serbia                                 1         2         4\n",
       "Serbia and Montenegro                  2         4         3\n",
       "Singapore                              0         2         2\n",
       "Slovakia                               9        11         9\n",
       "Slovenia                               6        10        18\n",
       "South Africa                          23        26        27\n",
       "Spain                                 38        59        36\n",
       "Sri Lanka                              0         2         0\n",
       "Sudan                                  0         1         0\n",
       "Suriname                               1         0         1\n",
       "Sweden                               193       204       230\n",
       "Switzerland                           97       113       113\n",
       "Syria                                  1         1         1\n",
       "Chinese Taipei                         2         7        12\n",
       "Tajikistan                             0         1         2\n",
       "Tanzania                               0         2         0\n",
       "Thailand                               7         6        11\n",
       "Togo                                   0         0         1\n",
       "Tonga                                  0         1         0\n",
       "Trinidad and Tobago                    2         5        11\n",
       "Tunisia                                3         3         4\n",
       "Turkey                                39        25        24\n",
       "Uganda                                 2         3         2\n",
       "Ukraine                               35        28        59\n",
       "United Arab Emirates                   1         0         0\n",
       "United States                       1072       859       750\n",
       "Uruguay                                2         2         6\n",
       "Uzbekistan                             6         5        10\n",
       "Venezuela                              2         2         8\n",
       "Vietnam                                0         2         0\n",
       "Virgin Islands                         0         1         0\n",
       "Yugoslavia                            26        32        29\n",
       "Independent Olympic Participants       0         1         2\n",
       "Zambia                                 0         1         1\n",
       "Zimbabwe                               3         4         1\n",
       "Mixed team                             8         5         4\n",
       "\n",
       "[146 rows x 3 columns]"
      ]
     },
     "execution_count": 80,
     "metadata": {},
     "output_type": "execute_result"
    }
   ],
   "source": [
    "df_q4 = df[[\"Gold.2\",\"Silver.2\",\"Bronze.2\"]].copy()  #[[]] double square bracket is used to select multiple cols\n",
    "\n",
    "df_q4"
   ]
  },
  {
   "cell_type": "code",
   "execution_count": 81,
   "metadata": {},
   "outputs": [
    {
     "data": {
      "text/plain": [
       "             Gold.2  Silver.2  Bronze.2  Points G  Points S  Points B  Points Total\n",
       "Afghanistan       0         0         2         0         0         2             2\n",
       "Algeria           5         2         8        15         4         8            27\n",
       "Argentina        18        24        28        54        48        28           130"
      ]
     },
     "execution_count": 81,
     "metadata": {},
     "output_type": "execute_result"
    }
   ],
   "source": [
    "df_q4.loc[:,\"Points G\"] = 3 * df_q4.loc[:,\"Gold.2\"]\n",
    "df_q4.loc[:,\"Points S\"] = 2 * df_q4.loc[:,\"Silver.2\"]\n",
    "df_q4.loc[:,\"Points B\"] = 1 * df_q4.loc[:,\"Bronze.2\"]\n",
    "df_q4.loc[:,\"Points Total\"] = df_q4.loc[:,\"Points G\"]+ df_q4.loc[:,\"Points S\"]+ df_q4.loc[:,\"Points B\"]\n",
    "df_q4[:3]"
   ]
  },
  {
   "cell_type": "code",
   "execution_count": 82,
   "metadata": {},
   "outputs": [
    {
     "data": {
      "text/plain": [
       "pandas.core.frame.DataFrame"
      ]
     },
     "execution_count": 82,
     "metadata": {},
     "output_type": "execute_result"
    }
   ],
   "source": [
    "# Seires VS DF??\n",
    "type(df_q4[[\"Points Total\"]])  # it is still a df by selecting the col,\n"
   ]
  },
  {
   "cell_type": "code",
   "execution_count": 83,
   "metadata": {},
   "outputs": [
    {
     "data": {
      "text/plain": [
       "Afghanistan                            2\n",
       "Algeria                               27\n",
       "Argentina                            130\n",
       "Armenia                               16\n",
       "Australasia                           22\n",
       "Australia                            923\n",
       "Austria                              569\n",
       "Azerbaijan                            43\n",
       "Bahamas                               24\n",
       "Bahrain                                1\n",
       "Barbados                               1\n",
       "Belarus                              154\n",
       "Belgium                              276\n",
       "Bermuda                                1\n",
       "Bohemia                                5\n",
       "Botswana                               2\n",
       "Brazil                               184\n",
       "British West Indies                    2\n",
       "Bulgaria                             411\n",
       "Burundi                                3\n",
       "Cameroon                              12\n",
       "Canada                               846\n",
       "Chile                                 24\n",
       "China                               1120\n",
       "Colombia                              29\n",
       "Costa Rica                             7\n",
       "Ivory Coast                            2\n",
       "Croatia                               67\n",
       "Cuba                                 420\n",
       "Cyprus                                 2\n",
       "Czech Republic                       134\n",
       "Czechoslovakia                       327\n",
       "Denmark                              335\n",
       "Djibouti                               1\n",
       "Dominican Republic                    14\n",
       "Ecuador                                5\n",
       "Egypt                                 49\n",
       "Eritrea                                1\n",
       "Estonia                               77\n",
       "Ethiopia                              94\n",
       "Finland                              895\n",
       "France                              1500\n",
       "Gabon                                  2\n",
       "Georgia                               42\n",
       "Germany                             1546\n",
       "United Team of Germany               269\n",
       "East Germany                        1068\n",
       "West Germany                         459\n",
       "Ghana                                  5\n",
       "Great Britain                       1574\n",
       "                                    ... \n",
       "Paraguay                               2\n",
       "Peru                                   9\n",
       "Philippines                           11\n",
       "Poland                               520\n",
       "Portugal                              39\n",
       "Puerto Rico                           10\n",
       "Qatar                                  4\n",
       "Romania                              572\n",
       "Russia                              1042\n",
       "Russian Empire                        14\n",
       "Soviet Union                        2526\n",
       "Unified Team                         287\n",
       "Saudi Arabia                           4\n",
       "Senegal                                2\n",
       "Serbia                                11\n",
       "Serbia and Montenegro                 17\n",
       "Singapore                              6\n",
       "Slovakia                              58\n",
       "Slovenia                              56\n",
       "South Africa                         148\n",
       "Spain                                268\n",
       "Sri Lanka                              4\n",
       "Sudan                                  2\n",
       "Suriname                               4\n",
       "Sweden                              1217\n",
       "Switzerland                          630\n",
       "Syria                                  6\n",
       "Chinese Taipei                        32\n",
       "Tajikistan                             4\n",
       "Tanzania                               4\n",
       "Thailand                              44\n",
       "Togo                                   1\n",
       "Tonga                                  2\n",
       "Trinidad and Tobago                   27\n",
       "Tunisia                               19\n",
       "Turkey                               191\n",
       "Uganda                                14\n",
       "Ukraine                              220\n",
       "United Arab Emirates                   3\n",
       "United States                       5684\n",
       "Uruguay                               16\n",
       "Uzbekistan                            38\n",
       "Venezuela                             18\n",
       "Vietnam                                4\n",
       "Virgin Islands                         2\n",
       "Yugoslavia                           171\n",
       "Independent Olympic Participants       4\n",
       "Zambia                                 3\n",
       "Zimbabwe                              18\n",
       "Mixed team                            38\n",
       "Name: Points Total, Length: 146, dtype: int64"
      ]
     },
     "execution_count": 83,
     "metadata": {},
     "output_type": "execute_result"
    }
   ],
   "source": [
    "df_q4[\"Points Total\"]"
   ]
  },
  {
   "cell_type": "code",
   "execution_count": 84,
   "metadata": {},
   "outputs": [
    {
     "data": {
      "text/plain": [
       "pandas.core.series.Series"
      ]
     },
     "execution_count": 84,
     "metadata": {},
     "output_type": "execute_result"
    }
   ],
   "source": [
    "type(df_q4[\"Points Total\"])"
   ]
  },
  {
   "cell_type": "markdown",
   "metadata": {},
   "source": [
    "## Part 2\n",
    "For the next set of questions, we will be using census data from the United States Census Bureau. Counties are political and geographic subdivisions of states in the United States. This dataset contains population data for counties and states in the US from 2010 to 2015. See this document for a description of the variable names.\n",
    "\n",
    "The census dataset (census.csv) should be loaded as census_df. Answer questions using this as appropriate.\n",
    "\n"
   ]
  },
  {
   "cell_type": "code",
   "execution_count": 160,
   "metadata": {},
   "outputs": [
    {
     "data": {
      "text/plain": [
       "      SUMLEV  REGION  DIVISION  STATE  COUNTY   STNAME             CTYNAME  ...  RDOMESTICMIG2014  RDOMESTICMIG2015  RNETMIG2011  RNETMIG2012  RNETMIG2013  RNETMIG2014  RNETMIG2015\n",
       "0         40       3         6      1       0  Alabama             Alabama  ...          0.582002         -0.467369     1.030015     0.826644     1.383282     1.724718     0.712594\n",
       "1         50       3         6      1       1  Alabama      Autauga County  ...          2.265971         -2.530799     7.606016    -2.626146    -2.722002     2.592270    -2.187333\n",
       "2         50       3         6      1       3  Alabama      Baldwin County  ...         19.243287         17.197872    15.844176    18.559627    22.727626    20.317142    18.293499\n",
       "3         50       3         6      1       5  Alabama      Barbour County  ...         -3.904217        -10.543299    -4.874741    -2.758113    -7.167664    -3.978583   -10.543299\n",
       "4         50       3         6      1       7  Alabama         Bibb County  ...         -0.177537          0.177258    -5.088389    -4.363636    -5.403729     0.754533     1.107861\n",
       "5         50       3         6      1       9  Alabama       Blount County  ...         -2.062535         -1.369970     1.859511    -0.848580    -1.402476    -1.577232    -0.884411\n",
       "6         50       3         6      1      11  Alabama      Bullock County  ...         14.354290        -16.167247   -29.001673    -2.825524     1.507017    17.243790   -13.193961\n",
       "7         50       3         6      1      13  Alabama       Butler County  ...          1.085428         -6.529805   -13.936612   -11.586865    -5.557058     1.184103    -6.430868\n",
       "8         50       3         6      1      15  Alabama      Calhoun County  ...         -4.463211         -3.376322    -5.791579    -4.092677    -5.062836    -3.912834    -2.806406\n",
       "9         50       3         6      1      17  Alabama     Chambers County  ...         -2.287222          1.349468    -1.821092     4.701181     3.781439    -1.290228     2.346901\n",
       "10        50       3         6      1      19  Alabama     Cherokee County  ...         -0.076806         -3.239866     6.416167     1.420264     5.757384     0.230419    -2.931307\n",
       "11        50       3         6      1      21  Alabama      Chilton County  ...          0.456017         -2.253483    -0.823761    -2.447504     0.868651     0.957636    -1.752709\n",
       "12        50       3         6      1      23  Alabama      Choctaw County  ...         -1.274984         -5.291205   -15.528177    -0.737028    -8.766391    -1.274984    -5.291205\n",
       "13        50       3         6      1      25  Alabama       Clarke County  ...         -8.686428         -5.613667    -6.077488   -17.509958    -0.159172    -8.486280    -5.411736\n",
       "14        50       3         6      1      27  Alabama         Clay County  ...          5.702648          3.912450   -10.816697   -13.345130     4.977157     5.776708     3.986270\n",
       "...      ...     ...       ...    ...     ...      ...                 ...  ...               ...               ...          ...          ...          ...          ...          ...\n",
       "3178      50       4         8     56      17  Wyoming  Hot Springs County  ...         -6.017222         -5.454164     5.191569     6.001656     2.888981    -6.224712    -5.663940\n",
       "3179      50       4         8     56      19  Wyoming      Johnson County  ...        -10.715742          0.933652     5.227392    -4.058912    -0.812583   -10.715742     0.933652\n",
       "3180      50       4         8     56      21  Wyoming      Laramie County  ...         -1.226133          0.278940    -0.973320    17.914554     6.003143    -0.207819     1.673640\n",
       "3181      50       4         8     56      23  Wyoming      Lincoln County  ...          6.125989          1.555544    -9.691801   -11.566801    13.619696     6.234414     1.662823\n",
       "3182      50       4         8     56      25  Wyoming      Natrona County  ...         -0.958472         -0.061057     7.689674    23.749508    25.085233    -0.110593     0.793743\n",
       "3183      50       4         8     56      27  Wyoming     Niobrara County  ...        -12.603387          7.492114    -0.401849     0.806452    29.066295   -12.603387     7.492114\n",
       "3184      50       4         8     56      29  Wyoming         Park County  ...         -9.252437         -2.878980     6.486639    11.127389    10.877797    -5.585731     0.856839\n",
       "3185      50       4         8     56      31  Wyoming       Platte County  ...          6.055759          4.662270     4.373094     4.933173     2.176403     5.598720     4.207414\n",
       "3186      50       4         8     56      33  Wyoming     Sheridan County  ...          3.678069         -3.298406     2.122524     9.342778     5.523001     4.781489    -2.198937\n",
       "3187      50       4         8     56      35  Wyoming     Sublette County  ...        -16.596273        -22.870900   -21.092907    16.828794   -39.211861   -14.409938   -20.664059\n",
       "3188      50       4         8     56      37  Wyoming   Sweetwater County  ...        -14.252889        -14.248864     1.255221    16.243199    -5.295460   -14.075283   -14.070195\n",
       "3189      50       4         8     56      39  Wyoming        Teton County  ...         14.143021         -0.564849     0.654527     2.408578    21.160658    16.308671     1.520747\n",
       "3190      50       4         8     56      41  Wyoming        Uinta County  ...        -14.215862        -12.127022   -18.136812    -5.536861    -7.521840   -14.740608   -12.606351\n",
       "3191      50       4         8     56      43  Wyoming     Washakie County  ...        -17.781491          1.682288   -11.990126    -1.182592    -2.250385   -18.020168     1.441961\n",
       "3192      50       4         8     56      45  Wyoming       Weston County  ...          1.533635          6.935294   -12.032179    -8.040059    12.372583     1.533635     6.935294\n",
       "\n",
       "[3193 rows x 100 columns]"
      ]
     },
     "execution_count": 160,
     "metadata": {},
     "output_type": "execute_result"
    }
   ],
   "source": [
    "df_cs = pd.read_csv(DATASET_LOCATION + 'census.csv' )  \n",
    "df_cs"
   ]
  },
  {
   "cell_type": "code",
   "execution_count": 86,
   "metadata": {},
   "outputs": [],
   "source": [
    "def multiply(x):\n",
    "    output =  x * 10\n",
    "    return output"
   ]
  },
  {
   "cell_type": "code",
   "execution_count": 87,
   "metadata": {},
   "outputs": [
    {
     "data": {
      "text/plain": [
       "1000"
      ]
     },
     "execution_count": 87,
     "metadata": {},
     "output_type": "execute_result"
    }
   ],
   "source": [
    "multiply(100)"
   ]
  },
  {
   "cell_type": "markdown",
   "metadata": {},
   "source": [
    "### Question 5\n",
    "Which state has the most counties in it? (hint: consider the sumlevel key carefully! You'll need this for future questions too...)\n",
    "\n",
    "This function should return a single string value."
   ]
  },
  {
   "cell_type": "code",
   "execution_count": 161,
   "metadata": {},
   "outputs": [
    {
     "data": {
      "text/plain": [
       "    SUMLEV  REGION  DIVISION  STATE  COUNTY   STNAME            CTYNAME  ...  RDOMESTICMIG2014  RDOMESTICMIG2015  RNETMIG2011  RNETMIG2012  RNETMIG2013  RNETMIG2014  RNETMIG2015\n",
       "0       40       3         6      1       0  Alabama            Alabama  ...          0.582002         -0.467369     1.030015     0.826644     1.383282     1.724718     0.712594\n",
       "1       50       3         6      1       1  Alabama     Autauga County  ...          2.265971         -2.530799     7.606016    -2.626146    -2.722002     2.592270    -2.187333\n",
       "2       50       3         6      1       3  Alabama     Baldwin County  ...         19.243287         17.197872    15.844176    18.559627    22.727626    20.317142    18.293499\n",
       "3       50       3         6      1       5  Alabama     Barbour County  ...         -3.904217        -10.543299    -4.874741    -2.758113    -7.167664    -3.978583   -10.543299\n",
       "4       50       3         6      1       7  Alabama        Bibb County  ...         -0.177537          0.177258    -5.088389    -4.363636    -5.403729     0.754533     1.107861\n",
       "5       50       3         6      1       9  Alabama      Blount County  ...         -2.062535         -1.369970     1.859511    -0.848580    -1.402476    -1.577232    -0.884411\n",
       "6       50       3         6      1      11  Alabama     Bullock County  ...         14.354290        -16.167247   -29.001673    -2.825524     1.507017    17.243790   -13.193961\n",
       "7       50       3         6      1      13  Alabama      Butler County  ...          1.085428         -6.529805   -13.936612   -11.586865    -5.557058     1.184103    -6.430868\n",
       "8       50       3         6      1      15  Alabama     Calhoun County  ...         -4.463211         -3.376322    -5.791579    -4.092677    -5.062836    -3.912834    -2.806406\n",
       "9       50       3         6      1      17  Alabama    Chambers County  ...         -2.287222          1.349468    -1.821092     4.701181     3.781439    -1.290228     2.346901\n",
       "10      50       3         6      1      19  Alabama    Cherokee County  ...         -0.076806         -3.239866     6.416167     1.420264     5.757384     0.230419    -2.931307\n",
       "11      50       3         6      1      21  Alabama     Chilton County  ...          0.456017         -2.253483    -0.823761    -2.447504     0.868651     0.957636    -1.752709\n",
       "12      50       3         6      1      23  Alabama     Choctaw County  ...         -1.274984         -5.291205   -15.528177    -0.737028    -8.766391    -1.274984    -5.291205\n",
       "13      50       3         6      1      25  Alabama      Clarke County  ...         -8.686428         -5.613667    -6.077488   -17.509958    -0.159172    -8.486280    -5.411736\n",
       "14      50       3         6      1      27  Alabama        Clay County  ...          5.702648          3.912450   -10.816697   -13.345130     4.977157     5.776708     3.986270\n",
       "..     ...     ...       ...    ...     ...      ...                ...  ...               ...               ...          ...          ...          ...          ...          ...\n",
       "53      50       3         6      1     105  Alabama       Perry County  ...        -11.386538        -16.096786    -3.895487   -30.256162   -13.582511   -11.185006   -15.891731\n",
       "54      50       3         6      1     107  Alabama     Pickens County  ...         47.451138         24.852559   -16.788228     0.723253     2.995868    47.451138    24.852559\n",
       "55      50       3         6      1     109  Alabama        Pike County  ...        -21.462830         -6.290069    -3.735196     3.211732    14.804825   -17.865707    -2.661183\n",
       "56      50       3         6      1     111  Alabama    Randolph County  ...         -5.275290          9.959718    -2.407371    -7.131851     0.795439    -5.496941     9.738391\n",
       "57      50       3         6      1     113  Alabama     Russell County  ...         -1.728057         -6.232617    24.222029    44.584517    23.569942    -1.107299    -5.193848\n",
       "58      50       3         6      1     115  Alabama   St. Clair County  ...          1.551186          3.121490     2.093630     7.104209    10.013421     2.118411     3.685893\n",
       "59      50       3         6      1     117  Alabama      Shelby County  ...          5.037501          5.986812     3.065733     8.755939     9.897345     6.359052     7.307574\n",
       "60      50       3         6      1     119  Alabama      Sumter County  ...        -13.135673        -12.981098   -15.120376    -2.225602    -3.053663   -10.958904   -10.855538\n",
       "61      50       3         6      1     121  Alabama   Talladega County  ...          1.230224         -4.231434    -1.879286     2.064097    -5.402922     1.919150    -3.540587\n",
       "62      50       3         6      1     123  Alabama  Tallapoosa County  ...         -0.194404         -5.978818     0.072328    -6.415222     2.088545     0.218704    -5.515154\n",
       "63      50       3         6      1     125  Alabama  Tuscaloosa County  ...          4.787490          1.884402     5.306232     5.202679     6.333332     6.057539     3.158710\n",
       "64      50       3         6      1     127  Alabama      Walker County  ...         -3.300481         -3.087245    -4.085450    -3.869753    -0.181663    -2.692097    -2.460626\n",
       "65      50       3         6      1     129  Alabama  Washington County  ...          1.067236         -0.950486   -13.849940   -12.075121   -10.122411     2.193763     0.118811\n",
       "66      50       3         6      1     131  Alabama      Wilcox County  ...        -13.835235          0.090453    -7.029724   -10.239356   -12.314507   -13.835235     0.090453\n",
       "67      50       3         6      1     133  Alabama     Winston County  ...          1.077609         -6.669724     0.410332    -3.957457     2.400166     1.036162    -6.711409\n",
       "\n",
       "[68 rows x 100 columns]"
      ]
     },
     "execution_count": 161,
     "metadata": {},
     "output_type": "execute_result"
    }
   ],
   "source": [
    "df_cs.loc[df_cs['STNAME'] == \"Alabama\"]"
   ]
  },
  {
   "cell_type": "code",
   "execution_count": 89,
   "metadata": {},
   "outputs": [],
   "source": [
    "def compute_number_of_counties(x):\n",
    "    n_counties = len(x)\n",
    "    return n_counties"
   ]
  },
  {
   "cell_type": "code",
   "execution_count": 90,
   "metadata": {},
   "outputs": [
    {
     "data": {
      "text/plain": [
       "'Texas'"
      ]
     },
     "execution_count": 90,
     "metadata": {},
     "output_type": "execute_result"
    }
   ],
   "source": [
    "df_cs.groupby([\"STNAME\"]).apply(compute_number_of_counties).sort_values(ascending=False).index[0]"
   ]
  },
  {
   "cell_type": "code",
   "execution_count": 91,
   "metadata": {},
   "outputs": [
    {
     "data": {
      "text/plain": [
       "    SUMLEV  REGION  DIVISION  STATE  COUNTY   STNAME            CTYNAME  ...  RDOMESTICMIG2014  RDOMESTICMIG2015  RNETMIG2011  RNETMIG2012  RNETMIG2013  RNETMIG2014  RNETMIG2015\n",
       "0       40       3         6      1       0  Alabama            Alabama  ...          0.582002         -0.467369     1.030015     0.826644     1.383282     1.724718     0.712594\n",
       "1       50       3         6      1       1  Alabama     Autauga County  ...          2.265971         -2.530799     7.606016    -2.626146    -2.722002     2.592270    -2.187333\n",
       "2       50       3         6      1       3  Alabama     Baldwin County  ...         19.243287         17.197872    15.844176    18.559627    22.727626    20.317142    18.293499\n",
       "3       50       3         6      1       5  Alabama     Barbour County  ...         -3.904217        -10.543299    -4.874741    -2.758113    -7.167664    -3.978583   -10.543299\n",
       "4       50       3         6      1       7  Alabama        Bibb County  ...         -0.177537          0.177258    -5.088389    -4.363636    -5.403729     0.754533     1.107861\n",
       "5       50       3         6      1       9  Alabama      Blount County  ...         -2.062535         -1.369970     1.859511    -0.848580    -1.402476    -1.577232    -0.884411\n",
       "6       50       3         6      1      11  Alabama     Bullock County  ...         14.354290        -16.167247   -29.001673    -2.825524     1.507017    17.243790   -13.193961\n",
       "7       50       3         6      1      13  Alabama      Butler County  ...          1.085428         -6.529805   -13.936612   -11.586865    -5.557058     1.184103    -6.430868\n",
       "8       50       3         6      1      15  Alabama     Calhoun County  ...         -4.463211         -3.376322    -5.791579    -4.092677    -5.062836    -3.912834    -2.806406\n",
       "9       50       3         6      1      17  Alabama    Chambers County  ...         -2.287222          1.349468    -1.821092     4.701181     3.781439    -1.290228     2.346901\n",
       "10      50       3         6      1      19  Alabama    Cherokee County  ...         -0.076806         -3.239866     6.416167     1.420264     5.757384     0.230419    -2.931307\n",
       "11      50       3         6      1      21  Alabama     Chilton County  ...          0.456017         -2.253483    -0.823761    -2.447504     0.868651     0.957636    -1.752709\n",
       "12      50       3         6      1      23  Alabama     Choctaw County  ...         -1.274984         -5.291205   -15.528177    -0.737028    -8.766391    -1.274984    -5.291205\n",
       "13      50       3         6      1      25  Alabama      Clarke County  ...         -8.686428         -5.613667    -6.077488   -17.509958    -0.159172    -8.486280    -5.411736\n",
       "14      50       3         6      1      27  Alabama        Clay County  ...          5.702648          3.912450   -10.816697   -13.345130     4.977157     5.776708     3.986270\n",
       "15      50       3         6      1      29  Alabama    Cleburne County  ...          3.654485         -3.123961    -3.673524    -5.151880     7.345821     3.654485    -3.123961\n",
       "16      50       3         6      1      31  Alabama      Coffee County  ...         -3.602859          2.214774     2.166460    11.513368   -10.438741    -0.767822     5.350738\n",
       "17      50       3         6      1      33  Alabama     Colbert County  ...          1.835688         -0.110260     0.513964     1.469035     2.276420     2.533249     0.588052\n",
       "18      50       3         6      1      35  Alabama     Conecuh County  ...        -14.645416          2.684140    -4.861559    -7.504690    -6.107224   -14.645416     2.684140\n",
       "19      50       3         6      1      37  Alabama       Coosa County  ...        -22.958017         -5.387581   -34.017138   -10.380162    -4.403703   -23.049483    -5.387581\n",
       "20      50       3         6      1      39  Alabama   Covington County  ...          3.697932         -0.316945     6.881460    -4.559952     0.793147     3.750759    -0.264121\n",
       "21      50       3         6      1      41  Alabama    Crenshaw County  ...          3.084648          3.439504     2.666763     5.099293    -0.502098     4.734577     5.087600\n",
       "22      50       3         6      1      43  Alabama     Cullman County  ...          5.087142          7.915406    -1.031427    -0.634159     4.542916     5.593387     8.417777\n",
       "23      50       3         6      1      45  Alabama        Dale County  ...        -11.979785         -5.107706    -9.575283    -0.776637   -12.640155    -9.503292    -1.998668\n",
       "24      50       3         6      1      47  Alabama      Dallas County  ...         -9.344789        -14.687232   -15.727573   -11.378047   -16.792849    -9.368689   -14.711389\n",
       "25      50       3         6      1      49  Alabama      DeKalb County  ...          0.267830          0.028141     1.375159    -8.656001    -1.029539     1.198187     0.956790\n",
       "26      50       3         6      1      51  Alabama      Elmore County  ...         -1.507057          2.067820     3.674511     1.558176     2.306047    -0.951175     2.757093\n",
       "27      50       3         6      1      53  Alabama    Escambia County  ...         -1.189831          1.190902    -3.397716    -3.803428    -4.769999    -1.136950     1.243830\n",
       "28      50       3         6      1      55  Alabama      Etowah County  ...         -1.726932         -2.082234    -0.632554     2.446383    -1.518596    -1.234901    -1.588308\n",
       "29      50       3         6      1      57  Alabama     Fayette County  ...          0.296745         -2.797536    -5.132243    -0.705426    -3.785079     0.237396    -2.857058\n",
       "30      50       3         6      1      59  Alabama    Franklin County  ...         -1.267849         -2.401719     0.063029    -3.471291    -5.700261     1.553115     0.442422\n",
       "31      50       3         6      1      61  Alabama      Geneva County  ...          0.374118          3.141126     1.081545     7.986924    -7.180327     0.299295     3.066338\n",
       "32      50       3         6      1      63  Alabama      Greene County  ...        -22.481024         -8.806952   -10.049690    -8.565793   -10.033635   -22.481024    -8.806952\n",
       "33      50       3         6      1      65  Alabama        Hale County  ...        -12.612080         -4.304778   -23.537734    -0.650089    -7.422600   -12.283640    -3.973642\n",
       "34      50       3         6      1      67  Alabama       Henry County  ...         -0.349020          4.186412     8.127035    -6.174977    -0.696561     0.174510     4.709713\n",
       "35      50       3         6      1      69  Alabama     Houston County  ...          3.042557         -1.353927     2.468108     5.763521     0.966347     3.475833    -0.921823\n",
       "36      50       3         6      1      71  Alabama     Jackson County  ...         -4.320146         -3.274631     2.743252    -1.937401    -0.113224    -3.543277    -2.513089\n",
       "37      50       3         6      1      73  Alabama   Jefferson County  ...         -0.970225         -3.337536    -2.985041    -3.536344    -0.647113     0.221333    -2.126089\n",
       "38      50       3         6      1      75  Alabama       Lamar County  ...         -4.674718         -7.588774    -9.865564    -0.490471     0.351630    -4.603889    -7.517182\n",
       "39      50       3         6      1      77  Alabama  Lauderdale County  ...          5.113245         -4.782962     0.593424     2.039957     2.373132     5.597658    -4.308975\n",
       "40      50       3         6      1      79  Alabama    Lawrence County  ...         -1.850940         -7.604334    -5.501097    -7.667242    -5.969440    -1.731524    -7.484108\n",
       "41      50       3         6      1      81  Alabama         Lee County  ...          9.198122          6.255238    17.060473    20.343441    18.496685    13.015964    10.134256\n",
       "42      50       3         6      1      83  Alabama   Limestone County  ...         14.976432          6.824853    23.458985    16.971506    13.621581    15.934746     7.801399\n",
       "43      50       3         6      1      85  Alabama     Lowndes County  ...        -16.071429         -7.804692   -13.485755   -28.310045   -11.401029   -15.883459    -7.614334\n",
       "44      50       3         6      1      87  Alabama       Macon County  ...        -20.642728        -10.599605   -12.005419   -38.421002   -28.464457   -20.642728   -10.599605\n",
       "45      50       3         6      1      89  Alabama     Madison County  ...          4.064107          2.480087     5.739131     4.880766     7.818211     5.734524     4.180881\n",
       "46      50       3         6      1      91  Alabama     Marengo County  ...         -4.808407         -8.315905   -11.572629   -14.286756   -10.133058    -3.420413    -6.921621\n",
       "47      50       3         6      1      93  Alabama      Marion County  ...          1.420924         -0.033105     1.527785    -3.853565    -4.605793     1.916595     0.463469\n",
       "48      50       3         6      1      95  Alabama    Marshall County  ...         -2.246560          0.423099     5.249877     1.009918    -0.148458    -1.155071     1.533734\n",
       "49      50       3         6      1      97  Alabama      Mobile County  ...         -2.311087         -3.873201    -3.751237    -2.281051    -1.753896    -0.759909    -2.288272\n",
       "50      50       3         6      1      99  Alabama      Monroe County  ...        -10.669451         -5.967409    -8.697933    -6.613611   -17.389749   -10.669451    -5.967409\n",
       "51      50       3         6      1     101  Alabama  Montgomery County  ...         -8.910671         -5.820167     2.441356   -15.057012   -14.486528    -6.784461    -3.598965\n",
       "52      50       3         6      1     103  Alabama      Morgan County  ...         -1.997409         -3.670246     0.993538     0.024994    -5.288490    -1.036313    -2.700432\n",
       "53      50       3         6      1     105  Alabama       Perry County  ...        -11.386538        -16.096786    -3.895487   -30.256162   -13.582511   -11.185006   -15.891731\n",
       "54      50       3         6      1     107  Alabama     Pickens County  ...         47.451138         24.852559   -16.788228     0.723253     2.995868    47.451138    24.852559\n",
       "55      50       3         6      1     109  Alabama        Pike County  ...        -21.462830         -6.290069    -3.735196     3.211732    14.804825   -17.865707    -2.661183\n",
       "56      50       3         6      1     111  Alabama    Randolph County  ...         -5.275290          9.959718    -2.407371    -7.131851     0.795439    -5.496941     9.738391\n",
       "57      50       3         6      1     113  Alabama     Russell County  ...         -1.728057         -6.232617    24.222029    44.584517    23.569942    -1.107299    -5.193848\n",
       "58      50       3         6      1     115  Alabama   St. Clair County  ...          1.551186          3.121490     2.093630     7.104209    10.013421     2.118411     3.685893\n",
       "59      50       3         6      1     117  Alabama      Shelby County  ...          5.037501          5.986812     3.065733     8.755939     9.897345     6.359052     7.307574\n",
       "60      50       3         6      1     119  Alabama      Sumter County  ...        -13.135673        -12.981098   -15.120376    -2.225602    -3.053663   -10.958904   -10.855538\n",
       "61      50       3         6      1     121  Alabama   Talladega County  ...          1.230224         -4.231434    -1.879286     2.064097    -5.402922     1.919150    -3.540587\n",
       "62      50       3         6      1     123  Alabama  Tallapoosa County  ...         -0.194404         -5.978818     0.072328    -6.415222     2.088545     0.218704    -5.515154\n",
       "63      50       3         6      1     125  Alabama  Tuscaloosa County  ...          4.787490          1.884402     5.306232     5.202679     6.333332     6.057539     3.158710\n",
       "64      50       3         6      1     127  Alabama      Walker County  ...         -3.300481         -3.087245    -4.085450    -3.869753    -0.181663    -2.692097    -2.460626\n",
       "65      50       3         6      1     129  Alabama  Washington County  ...          1.067236         -0.950486   -13.849940   -12.075121   -10.122411     2.193763     0.118811\n",
       "66      50       3         6      1     131  Alabama      Wilcox County  ...        -13.835235          0.090453    -7.029724   -10.239356   -12.314507   -13.835235     0.090453\n",
       "67      50       3         6      1     133  Alabama     Winston County  ...          1.077609         -6.669724     0.410332    -3.957457     2.400166     1.036162    -6.711409\n",
       "\n",
       "[68 rows x 100 columns]"
      ]
     },
     "execution_count": 91,
     "metadata": {},
     "output_type": "execute_result"
    }
   ],
   "source": [
    "df_cs.groupby([\"STNAME\"]).get_group(\"Alabama\")"
   ]
  },
  {
   "cell_type": "markdown",
   "metadata": {},
   "source": [
    "## Question 6\n",
    "Only looking at the three most populous counties for each state, what are the three most populous states (in order of highest population to lowest population)? Use CENSUS2010POP.\n",
    "\n",
    "This function should return a list of string values."
   ]
  },
  {
   "cell_type": "code",
   "execution_count": 163,
   "metadata": {},
   "outputs": [
    {
     "data": {
      "text/plain": [
       "      SUMLEV  REGION  DIVISION  STATE  COUNTY   STNAME             CTYNAME  ...  RDOMESTICMIG2014  RDOMESTICMIG2015  RNETMIG2011  RNETMIG2012  RNETMIG2013  RNETMIG2014  RNETMIG2015\n",
       "0         40       3         6      1       0  Alabama             Alabama  ...          0.582002         -0.467369     1.030015     0.826644     1.383282     1.724718     0.712594\n",
       "1         50       3         6      1       1  Alabama      Autauga County  ...          2.265971         -2.530799     7.606016    -2.626146    -2.722002     2.592270    -2.187333\n",
       "2         50       3         6      1       3  Alabama      Baldwin County  ...         19.243287         17.197872    15.844176    18.559627    22.727626    20.317142    18.293499\n",
       "3         50       3         6      1       5  Alabama      Barbour County  ...         -3.904217        -10.543299    -4.874741    -2.758113    -7.167664    -3.978583   -10.543299\n",
       "4         50       3         6      1       7  Alabama         Bibb County  ...         -0.177537          0.177258    -5.088389    -4.363636    -5.403729     0.754533     1.107861\n",
       "5         50       3         6      1       9  Alabama       Blount County  ...         -2.062535         -1.369970     1.859511    -0.848580    -1.402476    -1.577232    -0.884411\n",
       "6         50       3         6      1      11  Alabama      Bullock County  ...         14.354290        -16.167247   -29.001673    -2.825524     1.507017    17.243790   -13.193961\n",
       "7         50       3         6      1      13  Alabama       Butler County  ...          1.085428         -6.529805   -13.936612   -11.586865    -5.557058     1.184103    -6.430868\n",
       "8         50       3         6      1      15  Alabama      Calhoun County  ...         -4.463211         -3.376322    -5.791579    -4.092677    -5.062836    -3.912834    -2.806406\n",
       "9         50       3         6      1      17  Alabama     Chambers County  ...         -2.287222          1.349468    -1.821092     4.701181     3.781439    -1.290228     2.346901\n",
       "10        50       3         6      1      19  Alabama     Cherokee County  ...         -0.076806         -3.239866     6.416167     1.420264     5.757384     0.230419    -2.931307\n",
       "11        50       3         6      1      21  Alabama      Chilton County  ...          0.456017         -2.253483    -0.823761    -2.447504     0.868651     0.957636    -1.752709\n",
       "12        50       3         6      1      23  Alabama      Choctaw County  ...         -1.274984         -5.291205   -15.528177    -0.737028    -8.766391    -1.274984    -5.291205\n",
       "13        50       3         6      1      25  Alabama       Clarke County  ...         -8.686428         -5.613667    -6.077488   -17.509958    -0.159172    -8.486280    -5.411736\n",
       "14        50       3         6      1      27  Alabama         Clay County  ...          5.702648          3.912450   -10.816697   -13.345130     4.977157     5.776708     3.986270\n",
       "...      ...     ...       ...    ...     ...      ...                 ...  ...               ...               ...          ...          ...          ...          ...          ...\n",
       "3178      50       4         8     56      17  Wyoming  Hot Springs County  ...         -6.017222         -5.454164     5.191569     6.001656     2.888981    -6.224712    -5.663940\n",
       "3179      50       4         8     56      19  Wyoming      Johnson County  ...        -10.715742          0.933652     5.227392    -4.058912    -0.812583   -10.715742     0.933652\n",
       "3180      50       4         8     56      21  Wyoming      Laramie County  ...         -1.226133          0.278940    -0.973320    17.914554     6.003143    -0.207819     1.673640\n",
       "3181      50       4         8     56      23  Wyoming      Lincoln County  ...          6.125989          1.555544    -9.691801   -11.566801    13.619696     6.234414     1.662823\n",
       "3182      50       4         8     56      25  Wyoming      Natrona County  ...         -0.958472         -0.061057     7.689674    23.749508    25.085233    -0.110593     0.793743\n",
       "3183      50       4         8     56      27  Wyoming     Niobrara County  ...        -12.603387          7.492114    -0.401849     0.806452    29.066295   -12.603387     7.492114\n",
       "3184      50       4         8     56      29  Wyoming         Park County  ...         -9.252437         -2.878980     6.486639    11.127389    10.877797    -5.585731     0.856839\n",
       "3185      50       4         8     56      31  Wyoming       Platte County  ...          6.055759          4.662270     4.373094     4.933173     2.176403     5.598720     4.207414\n",
       "3186      50       4         8     56      33  Wyoming     Sheridan County  ...          3.678069         -3.298406     2.122524     9.342778     5.523001     4.781489    -2.198937\n",
       "3187      50       4         8     56      35  Wyoming     Sublette County  ...        -16.596273        -22.870900   -21.092907    16.828794   -39.211861   -14.409938   -20.664059\n",
       "3188      50       4         8     56      37  Wyoming   Sweetwater County  ...        -14.252889        -14.248864     1.255221    16.243199    -5.295460   -14.075283   -14.070195\n",
       "3189      50       4         8     56      39  Wyoming        Teton County  ...         14.143021         -0.564849     0.654527     2.408578    21.160658    16.308671     1.520747\n",
       "3190      50       4         8     56      41  Wyoming        Uinta County  ...        -14.215862        -12.127022   -18.136812    -5.536861    -7.521840   -14.740608   -12.606351\n",
       "3191      50       4         8     56      43  Wyoming     Washakie County  ...        -17.781491          1.682288   -11.990126    -1.182592    -2.250385   -18.020168     1.441961\n",
       "3192      50       4         8     56      45  Wyoming       Weston County  ...          1.533635          6.935294   -12.032179    -8.040059    12.372583     1.533635     6.935294\n",
       "\n",
       "[3193 rows x 100 columns]"
      ]
     },
     "execution_count": 163,
     "metadata": {},
     "output_type": "execute_result"
    }
   ],
   "source": [
    "df_cs"
   ]
  },
  {
   "cell_type": "code",
   "execution_count": 176,
   "metadata": {},
   "outputs": [
    {
     "data": {
      "text/plain": [
       "      SUMLEV  REGION  DIVISION  STATE  COUNTY   STNAME             CTYNAME  ...  RDOMESTICMIG2014  RDOMESTICMIG2015  RNETMIG2011  RNETMIG2012  RNETMIG2013  RNETMIG2014  RNETMIG2015\n",
       "1         50       3         6      1       1  Alabama      Autauga County  ...          2.265971         -2.530799     7.606016    -2.626146    -2.722002     2.592270    -2.187333\n",
       "2         50       3         6      1       3  Alabama      Baldwin County  ...         19.243287         17.197872    15.844176    18.559627    22.727626    20.317142    18.293499\n",
       "3         50       3         6      1       5  Alabama      Barbour County  ...         -3.904217        -10.543299    -4.874741    -2.758113    -7.167664    -3.978583   -10.543299\n",
       "4         50       3         6      1       7  Alabama         Bibb County  ...         -0.177537          0.177258    -5.088389    -4.363636    -5.403729     0.754533     1.107861\n",
       "5         50       3         6      1       9  Alabama       Blount County  ...         -2.062535         -1.369970     1.859511    -0.848580    -1.402476    -1.577232    -0.884411\n",
       "6         50       3         6      1      11  Alabama      Bullock County  ...         14.354290        -16.167247   -29.001673    -2.825524     1.507017    17.243790   -13.193961\n",
       "7         50       3         6      1      13  Alabama       Butler County  ...          1.085428         -6.529805   -13.936612   -11.586865    -5.557058     1.184103    -6.430868\n",
       "8         50       3         6      1      15  Alabama      Calhoun County  ...         -4.463211         -3.376322    -5.791579    -4.092677    -5.062836    -3.912834    -2.806406\n",
       "9         50       3         6      1      17  Alabama     Chambers County  ...         -2.287222          1.349468    -1.821092     4.701181     3.781439    -1.290228     2.346901\n",
       "10        50       3         6      1      19  Alabama     Cherokee County  ...         -0.076806         -3.239866     6.416167     1.420264     5.757384     0.230419    -2.931307\n",
       "11        50       3         6      1      21  Alabama      Chilton County  ...          0.456017         -2.253483    -0.823761    -2.447504     0.868651     0.957636    -1.752709\n",
       "12        50       3         6      1      23  Alabama      Choctaw County  ...         -1.274984         -5.291205   -15.528177    -0.737028    -8.766391    -1.274984    -5.291205\n",
       "13        50       3         6      1      25  Alabama       Clarke County  ...         -8.686428         -5.613667    -6.077488   -17.509958    -0.159172    -8.486280    -5.411736\n",
       "14        50       3         6      1      27  Alabama         Clay County  ...          5.702648          3.912450   -10.816697   -13.345130     4.977157     5.776708     3.986270\n",
       "15        50       3         6      1      29  Alabama     Cleburne County  ...          3.654485         -3.123961    -3.673524    -5.151880     7.345821     3.654485    -3.123961\n",
       "...      ...     ...       ...    ...     ...      ...                 ...  ...               ...               ...          ...          ...          ...          ...          ...\n",
       "3178      50       4         8     56      17  Wyoming  Hot Springs County  ...         -6.017222         -5.454164     5.191569     6.001656     2.888981    -6.224712    -5.663940\n",
       "3179      50       4         8     56      19  Wyoming      Johnson County  ...        -10.715742          0.933652     5.227392    -4.058912    -0.812583   -10.715742     0.933652\n",
       "3180      50       4         8     56      21  Wyoming      Laramie County  ...         -1.226133          0.278940    -0.973320    17.914554     6.003143    -0.207819     1.673640\n",
       "3181      50       4         8     56      23  Wyoming      Lincoln County  ...          6.125989          1.555544    -9.691801   -11.566801    13.619696     6.234414     1.662823\n",
       "3182      50       4         8     56      25  Wyoming      Natrona County  ...         -0.958472         -0.061057     7.689674    23.749508    25.085233    -0.110593     0.793743\n",
       "3183      50       4         8     56      27  Wyoming     Niobrara County  ...        -12.603387          7.492114    -0.401849     0.806452    29.066295   -12.603387     7.492114\n",
       "3184      50       4         8     56      29  Wyoming         Park County  ...         -9.252437         -2.878980     6.486639    11.127389    10.877797    -5.585731     0.856839\n",
       "3185      50       4         8     56      31  Wyoming       Platte County  ...          6.055759          4.662270     4.373094     4.933173     2.176403     5.598720     4.207414\n",
       "3186      50       4         8     56      33  Wyoming     Sheridan County  ...          3.678069         -3.298406     2.122524     9.342778     5.523001     4.781489    -2.198937\n",
       "3187      50       4         8     56      35  Wyoming     Sublette County  ...        -16.596273        -22.870900   -21.092907    16.828794   -39.211861   -14.409938   -20.664059\n",
       "3188      50       4         8     56      37  Wyoming   Sweetwater County  ...        -14.252889        -14.248864     1.255221    16.243199    -5.295460   -14.075283   -14.070195\n",
       "3189      50       4         8     56      39  Wyoming        Teton County  ...         14.143021         -0.564849     0.654527     2.408578    21.160658    16.308671     1.520747\n",
       "3190      50       4         8     56      41  Wyoming        Uinta County  ...        -14.215862        -12.127022   -18.136812    -5.536861    -7.521840   -14.740608   -12.606351\n",
       "3191      50       4         8     56      43  Wyoming     Washakie County  ...        -17.781491          1.682288   -11.990126    -1.182592    -2.250385   -18.020168     1.441961\n",
       "3192      50       4         8     56      45  Wyoming       Weston County  ...          1.533635          6.935294   -12.032179    -8.040059    12.372583     1.533635     6.935294\n",
       "\n",
       "[3142 rows x 100 columns]"
      ]
     },
     "execution_count": 176,
     "metadata": {},
     "output_type": "execute_result"
    }
   ],
   "source": [
    "df_q6 = df_cs.loc[df_cs[\"SUMLEV\"] == 50]\n",
    "df_q6"
   ]
  },
  {
   "cell_type": "code",
   "execution_count": 190,
   "metadata": {},
   "outputs": [
    {
     "data": {
      "text/plain": [
       "['California', 'Texas', 'Illinois']"
      ]
     },
     "execution_count": 190,
     "metadata": {},
     "output_type": "execute_result"
    }
   ],
   "source": [
    "def compute_q6(df_group):\n",
    "    df_group = df_group.sort_values(\"CENSUS2010POP\", ascending=False)\n",
    "    df_top3 = df_group[:3]\n",
    "    top3_population = df_top3[\"CENSUS2010POP\"].sum()\n",
    "    return top3_population\n",
    "    \n",
    "df_q6.groupby(\"STNAME\").apply(compute_q6).sort_values(ascending=False).index[:3].tolist()"
   ]
  },
  {
   "cell_type": "code",
   "execution_count": 174,
   "metadata": {},
   "outputs": [
    {
     "data": {
      "text/plain": [
       "CTYNAME\n",
       "Los Angeles County          9818605\n",
       "Cook County                 5194675\n",
       "Harris County               4092459\n",
       "Maricopa County             3817117\n",
       "San Diego County            3095313\n",
       "Orange County               3010232\n",
       "Kings County                2504700\n",
       "Miami-Dade County           2496435\n",
       "Dallas County               2368139\n",
       "Queens County               2230722\n",
       "Riverside County            2189641\n",
       "San Bernardino County       2035210\n",
       "Clark County                1951269\n",
       "King County                 1931249\n",
       "Wayne County                1820584\n",
       "                             ...   \n",
       "Billings County                 783\n",
       "Esmeralda County                783\n",
       "Hooker County                   736\n",
       "Slope County                    727\n",
       "Treasure County                 718\n",
       "McMullen County                 707\n",
       "Banner County                   690\n",
       "Yakutat City and Borough        662\n",
       "Borden County                   641\n",
       "Loup County                     632\n",
       "Petroleum County                494\n",
       "Arthur County                   460\n",
       "Kenedy County                   416\n",
       "Kalawao County                   90\n",
       "Loving County                    82\n",
       "Length: 1877, dtype: int64"
      ]
     },
     "execution_count": 174,
     "metadata": {},
     "output_type": "execute_result"
    }
   ],
   "source": []
  },
  {
   "cell_type": "code",
   "execution_count": 173,
   "metadata": {},
   "outputs": [
    {
     "data": {
      "text/plain": [
       "['Los Angeles County', 'Cook County', 'Harris County']"
      ]
     },
     "execution_count": 173,
     "metadata": {},
     "output_type": "execute_result"
    }
   ],
   "source": [
    "groupview[\"CENSUS2010POP\"].max().sort_values(ascending=False).index[:3].tolist()"
   ]
  },
  {
   "cell_type": "code",
   "execution_count": 159,
   "metadata": {},
   "outputs": [
    {
     "data": {
      "text/plain": [
       "   SUMLEV  REGION  DIVISION  STATE  COUNTY   STNAME         CTYNAME  ...  RDOMESTICMIG2014  RDOMESTICMIG2015  RNETMIG2011  RNETMIG2012  RNETMIG2013  RNETMIG2014  RNETMIG2015\n",
       "0      40       3         6      1       0  Alabama         Alabama  ...          0.582002         -0.467369     1.030015     0.826644     1.383282     1.724718     0.712594\n",
       "1      50       3         6      1       1  Alabama  Autauga County  ...          2.265971         -2.530799     7.606016    -2.626146    -2.722002     2.592270    -2.187333\n",
       "2      50       3         6      1       3  Alabama  Baldwin County  ...         19.243287         17.197872    15.844176    18.559627    22.727626    20.317142    18.293499\n",
       "3      50       3         6      1       5  Alabama  Barbour County  ...         -3.904217        -10.543299    -4.874741    -2.758113    -7.167664    -3.978583   -10.543299\n",
       "4      50       3         6      1       7  Alabama     Bibb County  ...         -0.177537          0.177258    -5.088389    -4.363636    -5.403729     0.754533     1.107861\n",
       "\n",
       "[5 rows x 100 columns]"
      ]
     },
     "execution_count": 159,
     "metadata": {},
     "output_type": "execute_result"
    }
   ],
   "source": [
    "df_cs.head()"
   ]
  },
  {
   "cell_type": "code",
   "execution_count": null,
   "metadata": {},
   "outputs": [],
   "source": []
  },
  {
   "cell_type": "markdown",
   "metadata": {},
   "source": [
    "## Question 7\n",
    "Which county has had the largest absolute change in population within the period 2010-2015? (Hint: population values are stored in columns POPESTIMATE2010 through POPESTIMATE2015, you need to consider all six columns.)\n",
    "\n",
    "e.g. If County Population in the 5 year period is 100, 120, 80, 105, 100, 130, then its largest change in the period would be |130-80| = 50.\n",
    "\n",
    "This function should return a single string value."
   ]
  },
  {
   "cell_type": "code",
   "execution_count": 195,
   "metadata": {},
   "outputs": [
    {
     "data": {
      "text/plain": [
       "'Harris County'"
      ]
     },
     "execution_count": 195,
     "metadata": {},
     "output_type": "execute_result"
    }
   ],
   "source": [
    "df_q7 = df_cs.loc[\n",
    "    df_cs[\"SUMLEV\"] == 50, \n",
    "    [\"CTYNAME\", \"POPESTIMATE2010\", \"POPESTIMATE2011\", \"POPESTIMATE2012\", \"POPESTIMATE2013\", \"POPESTIMATE2014\", \"POPESTIMATE2015\", ]\n",
    "    ].copy()\n",
    "df_q7 = df_q7.set_index(\"CTYNAME\")\n",
    "\n",
    "df_q7.loc[:,\"Max C\"] = df_q7.max(axis=1)\n",
    "df_q7.loc[:,\"Min C\"] = df_q7.min(axis=1)\n",
    "\n",
    "df_q7.loc[:,\"Diff\"] = df_q7[\"Max C\"] - df_q7[\"Min C\"]\n",
    "df_q7 = df_q7.sort_values(by=\"Diff\", ascending=False)\n",
    "df_q7.index[0]"
   ]
  },
  {
   "cell_type": "markdown",
   "metadata": {},
   "source": [
    "## Question 8\n",
    "In this datafile, the United States is broken up into four regions using the \"REGION\" column.\n",
    "\n",
    "Create a query that finds the counties that belong to regions 1 or 2, whose name starts with 'Washington', and whose POPESTIMATE2015 was greater than their POPESTIMATE 2014.\n",
    "\n",
    "This function should return a 5x2 DataFrame with the columns = ['STNAME', 'CTYNAME'] and the same index ID as the census_df (sorted ascending by index)."
   ]
  },
  {
   "cell_type": "code",
   "execution_count": 133,
   "metadata": {},
   "outputs": [
    {
     "data": {
      "text/plain": [
       "      REGION   STNAME             CTYNAME  POPESTIMATE2015  POPESTIMATE2014\n",
       "0          3  Alabama             Alabama          4858979          4846411\n",
       "1          3  Alabama      Autauga County            55347            55290\n",
       "2          3  Alabama      Baldwin County           203709           199713\n",
       "3          3  Alabama      Barbour County            26489            26815\n",
       "4          3  Alabama         Bibb County            22583            22549\n",
       "5          3  Alabama       Blount County            57673            57658\n",
       "6          3  Alabama      Bullock County            10696            10829\n",
       "7          3  Alabama       Butler County            20154            20276\n",
       "8          3  Alabama      Calhoun County           115620           115993\n",
       "9          3  Alabama     Chambers County            34123            34052\n",
       "10         3  Alabama     Cherokee County            25859            25995\n",
       "11         3  Alabama      Chilton County            43943            43921\n",
       "12         3  Alabama      Choctaw County            13170            13289\n",
       "13         3  Alabama       Clarke County            24675            24847\n",
       "14         3  Alabama         Clay County            13555            13538\n",
       "...      ...      ...                 ...              ...              ...\n",
       "3178       4  Wyoming  Hot Springs County             4741             4793\n",
       "3179       4  Wyoming      Johnson County             8585             8552\n",
       "3180       4  Wyoming      Laramie County            97121            96469\n",
       "3181       4  Wyoming      Lincoln County            18722            18564\n",
       "3182       4  Wyoming      Natrona County            82178            81603\n",
       "3183       4  Wyoming     Niobrara County             2542             2530\n",
       "3184       4  Wyoming         Park County            29228            29126\n",
       "3185       4  Wyoming       Platte County             8812             8776\n",
       "3186       4  Wyoming     Sheridan County            30009            30020\n",
       "3187       4  Wyoming     Sublette County             9899            10039\n",
       "3188       4  Wyoming   Sweetwater County            44626            44925\n",
       "3189       4  Wyoming        Teton County            23125            22905\n",
       "3190       4  Wyoming        Uinta County            20822            20903\n",
       "3191       4  Wyoming     Washakie County             8328             8316\n",
       "3192       4  Wyoming       Weston County             7234             7185\n",
       "\n",
       "[3193 rows x 5 columns]"
      ]
     },
     "execution_count": 133,
     "metadata": {},
     "output_type": "execute_result"
    }
   ],
   "source": [
    "df_q8 = df_cs[[\"REGION\",\"STNAME\",\"CTYNAME\",\"POPESTIMATE2015\",\"POPESTIMATE2014\"]]\n",
    "\n",
    "df_q8"
   ]
  },
  {
   "cell_type": "code",
   "execution_count": 155,
   "metadata": {},
   "outputs": [
    {
     "data": {
      "text/plain": [
       "      REGION        STNAME            CTYNAME  POPESTIMATE2015  POPESTIMATE2014  isRegionRight  CTY Wash  2015-2014\n",
       "896        2          Iowa  Washington County            22247            22087           True      True       True\n",
       "1419       2     Minnesota  Washington County           251597           249320           True      True       True\n",
       "2345       1  Pennsylvania  Washington County           208261           208175           True      True       True\n",
       "2355       1  Rhode Island  Washington County           126517           126430           True      True       True\n",
       "3163       2     Wisconsin  Washington County           133674           133301           True      True       True"
      ]
     },
     "execution_count": 155,
     "metadata": {},
     "output_type": "execute_result"
    }
   ],
   "source": [
    "df_q8.loc[:, \"isRegionRight\"] = df_q8.loc[:, \"REGION\"].isin([1, 2])\n",
    "df_q8.loc[:,\"CTY Wash\"] = df_q8.loc[:,\"CTYNAME\"].str.startswith(\"Washington\")\n",
    "# df_q8.loc[df_q8[\"CTY Wash\"], :]\n",
    "\n",
    "df_q8.loc[:,\"2015-2014\"] = df_q8[\"POPESTIMATE2015\"] > df_q8[\"POPESTIMATE2014\"]\n",
    "df_q8.loc[df_q8[\"isRegionRight\"] & df_q8[\"CTY Wash\"] & df_q8[\"2015-2014\"], :] \n",
    "#"
   ]
  },
  {
   "cell_type": "code",
   "execution_count": 158,
   "metadata": {},
   "outputs": [
    {
     "data": {
      "text/plain": [
       "            STNAME            CTYNAME\n",
       "896           Iowa  Washington County\n",
       "1419     Minnesota  Washington County\n",
       "2345  Pennsylvania  Washington County\n",
       "2355  Rhode Island  Washington County\n",
       "3163     Wisconsin  Washington County"
      ]
     },
     "execution_count": 158,
     "metadata": {},
     "output_type": "execute_result"
    }
   ],
   "source": [
    "df_q8_answer =  df_q8.loc[df_q8[\"isRegionRight\"] & df_q8[\"CTY Wash\"] & df_q8[\"2015-2014\"], ['STNAME', 'CTYNAME']].sort_index(ascending=True)\n",
    "\n",
    "df_q8_answer.sort_index(ascending=True)"
   ]
  },
  {
   "cell_type": "code",
   "execution_count": null,
   "metadata": {},
   "outputs": [],
   "source": []
  },
  {
   "cell_type": "code",
   "execution_count": null,
   "metadata": {},
   "outputs": [],
   "source": []
  },
  {
   "cell_type": "code",
   "execution_count": null,
   "metadata": {},
   "outputs": [],
   "source": []
  },
  {
   "cell_type": "code",
   "execution_count": null,
   "metadata": {},
   "outputs": [],
   "source": []
  },
  {
   "cell_type": "code",
   "execution_count": null,
   "metadata": {},
   "outputs": [],
   "source": []
  },
  {
   "cell_type": "code",
   "execution_count": null,
   "metadata": {},
   "outputs": [],
   "source": []
  },
  {
   "cell_type": "code",
   "execution_count": null,
   "metadata": {},
   "outputs": [],
   "source": []
  },
  {
   "cell_type": "code",
   "execution_count": null,
   "metadata": {},
   "outputs": [],
   "source": []
  },
  {
   "cell_type": "code",
   "execution_count": null,
   "metadata": {},
   "outputs": [],
   "source": []
  },
  {
   "cell_type": "code",
   "execution_count": null,
   "metadata": {},
   "outputs": [],
   "source": []
  },
  {
   "cell_type": "code",
   "execution_count": null,
   "metadata": {},
   "outputs": [],
   "source": []
  },
  {
   "cell_type": "code",
   "execution_count": null,
   "metadata": {},
   "outputs": [],
   "source": []
  },
  {
   "cell_type": "code",
   "execution_count": null,
   "metadata": {},
   "outputs": [],
   "source": []
  }
 ],
 "metadata": {
  "kernelspec": {
   "display_name": "Python 3",
   "language": "python",
   "name": "python3"
  },
  "language_info": {
   "codemirror_mode": {
    "name": "ipython",
    "version": 3
   },
   "file_extension": ".py",
   "mimetype": "text/x-python",
   "name": "python",
   "nbconvert_exporter": "python",
   "pygments_lexer": "ipython3",
   "version": "3.7.3"
  }
 },
 "nbformat": 4,
 "nbformat_minor": 2
}

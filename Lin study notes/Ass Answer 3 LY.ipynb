{
 "cells": [
  {
   "cell_type": "markdown",
   "metadata": {},
   "source": [
    "## Assignment 3 - Answers"
   ]
  },
  {
   "cell_type": "code",
   "execution_count": 419,
   "metadata": {},
   "outputs": [],
   "source": [
    "import pandas as pd\n",
    "import numpy as np\n",
    "import warnings\n",
    "warnings.simplefilter(action='ignore', category=FutureWarning)\n",
    "\n",
    "\n",
    "pd.set_option('display.max_rows', 20)\n",
    "pd.set_option('display.max_columns', 10)\n",
    "pd.set_option('display.width', 1000)\n",
    "pd.set_option('display.max_colwidth', 20)\n",
    "pd.set_option('display.notebook_repr_html', False)\n",
    "pd.set_option('display.expand_frame_repr', False)\n",
    "pd.set_option('display.precision', 4)"
   ]
  },
  {
   "cell_type": "markdown",
   "metadata": {},
   "source": [
    "# Load DataFrame Engergy"
   ]
  },
  {
   "cell_type": "code",
   "execution_count": 420,
   "metadata": {},
   "outputs": [
    {
     "data": {
      "text/plain": [
       "                 Country  Energy Supply  Energy Supply per Capita  % Renewable\n",
       "0            Afghanistan          321.0                 10.0           78.6693\n",
       "1                Albania          102.0                 35.0          100.0000\n",
       "2                Algeria         1959.0                 51.0            0.5510\n",
       "3         American Samoa            NaN                  NaN            0.6410\n",
       "4                Andorra            9.0                121.0           88.6957\n",
       "5                 Angola          642.0                 27.0           70.9091\n",
       "6               Anguilla            2.0                136.0            0.0000\n",
       "7    Antigua and Barbuda            8.0                 84.0            0.0000\n",
       "8              Argentina         3378.0                 79.0           24.0645\n",
       "9                Armenia          143.0                 48.0           28.2361\n",
       "..                   ...            ...                  ...               ...\n",
       "217  United States Vi...            NaN                  NaN            0.0000\n",
       "218              Uruguay          196.0                 58.0           71.6050\n",
       "219           Uzbekistan         1798.0                 62.0           21.3284\n",
       "220              Vanuatu            3.0                 10.0           14.7059\n",
       "221  Venezuela (Boliv...         2871.0                 95.0           67.8345\n",
       "222             Viet Nam         2554.0                 28.0           45.3215\n",
       "223  Wallis and Futun...            0.0                 26.0            0.0000\n",
       "224                Yemen          344.0                 13.0            0.0000\n",
       "225               Zambia          400.0                 26.0           99.7147\n",
       "226             Zimbabwe          480.0                 32.0           52.5361\n",
       "\n",
       "[227 rows x 4 columns]"
      ]
     },
     "execution_count": 420,
     "metadata": {},
     "output_type": "execute_result"
    }
   ],
   "source": [
    "df_energy = pd.read_excel(\n",
    "    \"Energy Indicators.xls\",  sheet_name=\"Energy\", \n",
    "    header=17, skipfooter=38, \n",
    "    na_values = \"...\",\n",
    "    usecols=\"C:F\", names=['Country', 'Energy Supply', 'Energy Supply per Capita', '% Renewable']\n",
    ")\n",
    "\n",
    "df_energy"
   ]
  },
  {
   "cell_type": "code",
   "execution_count": 421,
   "metadata": {},
   "outputs": [],
   "source": [
    "# remove () in country name:  'Bolivia (Plurinational State of)' should be 'Bolivia',\n",
    "\n",
    "df_energy['Country'] = df_energy['Country'].str.replace(r\"\\(.*\\)\",\"\").str.strip()"
   ]
  },
  {
   "cell_type": "code",
   "execution_count": 422,
   "metadata": {},
   "outputs": [],
   "source": [
    "# Convert Energy Supply to gigajoules (there are 1,000,000 gigajoules in a petajoule). \n",
    "\n",
    "df_energy[\"Energy Supply\"] =df_energy[\"Energy Supply\"]*1000000\n"
   ]
  },
  {
   "cell_type": "code",
   "execution_count": 423,
   "metadata": {},
   "outputs": [
    {
     "data": {
      "text/plain": [
       "                 Country  Energy Supply  Energy Supply per Capita  % Renewable\n",
       "0            Afghanistan     3.2100e+08                 10.0           78.6693\n",
       "1                Albania     1.0200e+08                 35.0          100.0000\n",
       "2                Algeria     1.9590e+09                 51.0            0.5510\n",
       "3         American Samoa            NaN                  NaN            0.6410\n",
       "4                Andorra     9.0000e+06                121.0           88.6957\n",
       "5                 Angola     6.4200e+08                 27.0           70.9091\n",
       "6               Anguilla     2.0000e+06                136.0            0.0000\n",
       "7    Antigua and Barbuda     8.0000e+06                 84.0            0.0000\n",
       "8              Argentina     3.3780e+09                 79.0           24.0645\n",
       "9                Armenia     1.4300e+08                 48.0           28.2361\n",
       "..                   ...            ...                  ...               ...\n",
       "217  United States Vi...            NaN                  NaN            0.0000\n",
       "218              Uruguay     1.9600e+08                 58.0           71.6050\n",
       "219           Uzbekistan     1.7980e+09                 62.0           21.3284\n",
       "220              Vanuatu     3.0000e+06                 10.0           14.7059\n",
       "221            Venezuela     2.8710e+09                 95.0           67.8345\n",
       "222             Viet Nam     2.5540e+09                 28.0           45.3215\n",
       "223  Wallis and Futun...     0.0000e+00                 26.0            0.0000\n",
       "224                Yemen     3.4400e+08                 13.0            0.0000\n",
       "225               Zambia     4.0000e+08                 26.0           99.7147\n",
       "226             Zimbabwe     4.8000e+08                 32.0           52.5361\n",
       "\n",
       "[227 rows x 4 columns]"
      ]
     },
     "execution_count": 423,
     "metadata": {},
     "output_type": "execute_result"
    }
   ],
   "source": [
    "# remove numbers in country name: 'Switzerland17' should be 'Switzerland'.\n",
    "\n",
    "df_energy['Country'] = df_energy['Country'].str.replace('\\d+', '')\n",
    "\n",
    "df_energy"
   ]
  },
  {
   "cell_type": "code",
   "execution_count": 361,
   "metadata": {},
   "outputs": [],
   "source": [
    "# change a few country names"
   ]
  },
  {
   "cell_type": "code",
   "execution_count": 424,
   "metadata": {
    "scrolled": true
   },
   "outputs": [
    {
     "data": {
      "text/plain": [
       "            Country  Energy Supply  Energy Supply per Capita  % Renewable\n",
       "43        Hong Kong     5.8500e+08                 82.0            0.0000\n",
       "98             Iran     9.1720e+09                119.0            5.7077\n",
       "164     South Korea     1.1007e+10                221.0            2.2794\n",
       "214  United Kingdom     7.9200e+09                124.0           10.6005\n",
       "216   United States     9.0838e+10                286.0           11.5710"
      ]
     },
     "execution_count": 424,
     "metadata": {},
     "output_type": "execute_result"
    }
   ],
   "source": [
    "df_energy.loc[df_energy[\"Country\"] == 'Republic of Korea', \"Country\"] = \"South Korea\",\n",
    "df_energy.loc[df_energy[\"Country\"] == 'United States of America', \"Country\"] = \"United States\",\n",
    "df_energy.loc[df_energy[\"Country\"] == 'United Kingdom of Great Britain and Northern Ireland', \"Country\"] = \"United Kingdom\",\n",
    "df_energy.loc[df_energy[\"Country\"] == 'China, Hong Kong Special Administrative Region', \"Country\"] = \"Hong Kong\",\n",
    "\n",
    "df_energy.loc[df_energy[\"Country\"]. isin([ \"South Korea\",\"United States\",\"Hong Kong\",\"United Kingdom\",\"Iran\"]), : ]"
   ]
  },
  {
   "cell_type": "code",
   "execution_count": 425,
   "metadata": {
    "scrolled": true
   },
   "outputs": [
    {
     "data": {
      "text/plain": [
       "         Country  Energy Supply  Energy Supply per Capita  % Renewable\n",
       "95       Iceland     3.1200e+08                957.0           99.9724\n",
       "96         India     3.3195e+10                 26.0           14.9691\n",
       "97     Indonesia     8.7540e+09                 35.0           12.1890\n",
       "98          Iran     9.1720e+09                119.0            5.7077\n",
       "99          Iraq     2.0770e+09                 61.0            7.8716\n",
       "100      Ireland     5.4800e+08                117.0           20.9211\n",
       "101  Isle of Man     0.0000e+00                  4.0            0.7937\n",
       "102       Israel     9.9700e+08                128.0            0.8725\n",
       "103        Italy     6.5300e+09                109.0           33.6672"
      ]
     },
     "execution_count": 425,
     "metadata": {},
     "output_type": "execute_result"
    }
   ],
   "source": [
    "df_energy.loc[   df_energy[\"Country\"].str.startswith('I', na=False), :]"
   ]
  },
  {
   "cell_type": "code",
   "execution_count": 426,
   "metadata": {
    "scrolled": true
   },
   "outputs": [
    {
     "data": {
      "text/plain": [
       "                 Country  Energy Supply  Energy Supply per Capita  % Renewable\n",
       "0            Afghanistan     3.2100e+08                 10.0           78.6693\n",
       "1                Albania     1.0200e+08                 35.0          100.0000\n",
       "2                Algeria     1.9590e+09                 51.0            0.5510\n",
       "3         American Samoa            NaN                  NaN            0.6410\n",
       "4                Andorra     9.0000e+06                121.0           88.6957\n",
       "5                 Angola     6.4200e+08                 27.0           70.9091\n",
       "6               Anguilla     2.0000e+06                136.0            0.0000\n",
       "7    Antigua and Barbuda     8.0000e+06                 84.0            0.0000\n",
       "8              Argentina     3.3780e+09                 79.0           24.0645\n",
       "9                Armenia     1.4300e+08                 48.0           28.2361\n",
       "..                   ...            ...                  ...               ...\n",
       "217  United States Vi...            NaN                  NaN            0.0000\n",
       "218              Uruguay     1.9600e+08                 58.0           71.6050\n",
       "219           Uzbekistan     1.7980e+09                 62.0           21.3284\n",
       "220              Vanuatu     3.0000e+06                 10.0           14.7059\n",
       "221            Venezuela     2.8710e+09                 95.0           67.8345\n",
       "222             Viet Nam     2.5540e+09                 28.0           45.3215\n",
       "223  Wallis and Futun...     0.0000e+00                 26.0            0.0000\n",
       "224                Yemen     3.4400e+08                 13.0            0.0000\n",
       "225               Zambia     4.0000e+08                 26.0           99.7147\n",
       "226             Zimbabwe     4.8000e+08                 32.0           52.5361\n",
       "\n",
       "[227 rows x 4 columns]"
      ]
     },
     "execution_count": 426,
     "metadata": {},
     "output_type": "execute_result"
    }
   ],
   "source": [
    "df_energy"
   ]
  },
  {
   "cell_type": "markdown",
   "metadata": {},
   "source": [
    "# Load DataFrame GDP"
   ]
  },
  {
   "cell_type": "code",
   "execution_count": 427,
   "metadata": {},
   "outputs": [
    {
     "data": {
      "text/plain": [
       "            Country Name Country Code       Indicator Name  Indicator Code        1960  ...        2011        2012        2013        2014        2015\n",
       "0                  Aruba          ABW  GDP at market pr...  NY.GDP.MKTP.KD         NaN  ...         NaN         NaN         NaN         NaN         NaN\n",
       "1                Andorra          AND  GDP at market pr...  NY.GDP.MKTP.KD         NaN  ...  3.1856e+09  3.1295e+09  3.1275e+09         NaN         NaN\n",
       "2            Afghanistan          AFG  GDP at market pr...  NY.GDP.MKTP.KD         NaN  ...  1.6911e+10  1.9352e+10  1.9731e+10  1.9990e+10  2.0294e+10\n",
       "3                 Angola          AGO  GDP at market pr...  NY.GDP.MKTP.KD         NaN  ...  8.5703e+10  9.0121e+10  9.6261e+10  1.0089e+11  1.0391e+11\n",
       "4                Albania          ALB  GDP at market pr...  NY.GDP.MKTP.KD         NaN  ...  1.2231e+10  1.2405e+10  1.2542e+10  1.2793e+10  1.3121e+10\n",
       "5             Arab World          ARB  GDP at market pr...  NY.GDP.MKTP.KD         NaN  ...  2.1739e+12  2.3183e+12  2.3856e+12  2.4367e+12  2.5091e+12\n",
       "6    United Arab Emir...          ARE  GDP at market pr...  NY.GDP.MKTP.KD         NaN  ...  3.0095e+11  3.2169e+11  3.3559e+11  3.5093e+11  3.6210e+11\n",
       "7              Argentina          ARG  GDP at market pr...  NY.GDP.MKTP.KD  1.2067e+11  ...  5.0036e+11  5.0437e+11  5.1892e+11  5.2127e+11         NaN\n",
       "8                Armenia          ARM  GDP at market pr...  NY.GDP.MKTP.KD         NaN  ...  9.6955e+09  1.0394e+10  1.0737e+10  1.1112e+10  1.1446e+10\n",
       "9         American Samoa          ASM  GDP at market pr...  NY.GDP.MKTP.KD         NaN  ...         NaN         NaN         NaN         NaN         NaN\n",
       "..                   ...          ...                  ...             ...         ...  ...         ...         ...         ...         ...         ...\n",
       "254              Vietnam          VNM  GDP at market pr...  NY.GDP.MKTP.KD         NaN  ...  1.2317e+11  1.2963e+11  1.3666e+11  1.4483e+11  1.5451e+11\n",
       "255              Vanuatu          VUT  GDP at market pr...  NY.GDP.MKTP.KD         NaN  ...  7.0938e+08  7.2182e+08  7.3604e+08  7.5300e+08         NaN\n",
       "256   West Bank and Gaza          PSE  GDP at market pr...  NY.GDP.MKTP.KD         NaN  ...  9.6115e+09  1.1009e+10  1.0537e+10  1.0422e+10  1.1714e+10\n",
       "257                World          WLD  GDP at market pr...  NY.GDP.MKTP.KD  1.1187e+13  ...  6.7702e+13  6.9379e+13  7.1042e+13  7.2911e+13  7.4709e+13\n",
       "258                Samoa          WSM  GDP at market pr...  NY.GDP.MKTP.KD         NaN  ...  6.9474e+08  6.9754e+08  6.8405e+08  6.9223e+08  7.0354e+08\n",
       "259          Yemen, Rep.          YEM  GDP at market pr...  NY.GDP.MKTP.KD         NaN  ...  2.6243e+10  2.6892e+10  2.8009e+10         NaN         NaN\n",
       "260         South Africa          ZAF  GDP at market pr...  NY.GDP.MKTP.KD  7.7071e+10  ...  3.8741e+11  3.9601e+11  4.0477e+11  4.1104e+11  4.1631e+11\n",
       "261     Congo, Dem. Rep.          COD  GDP at market pr...  NY.GDP.MKTP.KD  1.5080e+10  ...  2.1932e+10  2.3502e+10  2.5500e+10  2.7788e+10  2.9710e+10\n",
       "262               Zambia          ZMB  GDP at market pr...  NY.GDP.MKTP.KD  4.5930e+09  ...  2.1404e+10  2.3024e+10  2.4206e+10  2.5422e+10  2.6241e+10\n",
       "263             Zimbabwe          ZWE  GDP at market pr...  NY.GDP.MKTP.KD  3.3383e+09  ...  1.0544e+10  1.1658e+10  1.2181e+10  1.2649e+10  1.2785e+10\n",
       "\n",
       "[264 rows x 60 columns]"
      ]
     },
     "execution_count": 427,
     "metadata": {},
     "output_type": "execute_result"
    }
   ],
   "source": [
    "df_gdp = pd. read_csv(\"world_bank.csv\", header=4)\n",
    "\n",
    "df_gdp"
   ]
  },
  {
   "cell_type": "code",
   "execution_count": 428,
   "metadata": {},
   "outputs": [
    {
     "data": {
      "text/plain": [
       "Country Name       object\n",
       "Country Code       object\n",
       "Indicator Name     object\n",
       "Indicator Code     object\n",
       "1960              float64\n",
       "1961              float64\n",
       "1962              float64\n",
       "1963              float64\n",
       "1964              float64\n",
       "1965              float64\n",
       "                   ...   \n",
       "2006              float64\n",
       "2007              float64\n",
       "2008              float64\n",
       "2009              float64\n",
       "2010              float64\n",
       "2011              float64\n",
       "2012              float64\n",
       "2013              float64\n",
       "2014              float64\n",
       "2015              float64\n",
       "Length: 60, dtype: object"
      ]
     },
     "execution_count": 428,
     "metadata": {},
     "output_type": "execute_result"
    }
   ],
   "source": [
    "df_gdp.dtypes \n",
    "\n",
    "# df_gdp[\"2012\"].dtype  --> check 1 var"
   ]
  },
  {
   "cell_type": "code",
   "execution_count": 429,
   "metadata": {},
   "outputs": [
    {
     "data": {
      "text/plain": [
       "    Country Name Country Code       Indicator Name  Indicator Code        1960  ...        2011        2012        2013        2014        2015\n",
       "93     Hong Kong          HKG  GDP at market pr...  NY.GDP.MKTP.KD         NaN  ...  2.3965e+11  2.4372e+11  2.5121e+11  2.5778e+11  2.6386e+11\n",
       "109         Iran          IRN  GDP at market pr...  NY.GDP.MKTP.KD  5.5008e+10  ...  4.8533e+11  4.5326e+11  4.4459e+11  4.6390e+11         NaN\n",
       "123  South Korea          KOR  GDP at market pr...  NY.GDP.MKTP.KD  2.7577e+10  ...  1.1348e+12  1.1608e+12  1.1944e+12  1.2343e+12  1.2666e+12\n",
       "\n",
       "[3 rows x 60 columns]"
      ]
     },
     "execution_count": 429,
     "metadata": {},
     "output_type": "execute_result"
    }
   ],
   "source": [
    "# update a few country names\n",
    "\n",
    " \n",
    "df_gdp.loc[df_gdp[\"Country Name\"] == 'Korea, Rep.', \"Country Name\"] = \"South Korea\",\n",
    "df_gdp.loc[df_gdp[\"Country Name\"] == 'Iran, Islamic Rep.', \"Country Name\"] = \"Iran\",\n",
    "df_gdp.loc[df_gdp[\"Country Name\"] == 'Hong Kong SAR, China', \"Country Name\"] = \"Hong Kong\"\n",
    "\n",
    "df_gdp.loc[df_gdp[\"Country Name\"]. isin([ \"South Korea\",\"Iran\",\"Hong Kong\"]), : ]"
   ]
  },
  {
   "cell_type": "markdown",
   "metadata": {},
   "source": [
    "# Load DataFrame ScimEn"
   ]
  },
  {
   "cell_type": "code",
   "execution_count": 430,
   "metadata": {},
   "outputs": [
    {
     "data": {
      "text/plain": [
       "     Rank             Country  Documents  Citable documents  Citations  Self-citations  Citations per document  H index\n",
       "0       1               China     127050             126767     597237          411683                 4.70         138\n",
       "1       2       United States      96661              94747     792274          265436                 8.20         230\n",
       "2       3               Japan      30504              30287     223024           61554                 7.31         134\n",
       "3       4      United Kingdom      20944              20357     206091           37874                 9.84         139\n",
       "4       5  Russian Federation      18534              18301      34266           12422                 1.85          57\n",
       "5       6              Canada      17899              17620     215003           40930                12.01         149\n",
       "6       7             Germany      17027              16831     140566           27426                 8.26         126\n",
       "7       8               India      15005              14841     128763           37209                 8.58         115\n",
       "8       9              France      13153              12973     130632           28601                 9.93         114\n",
       "9      10         South Korea      11983              11923     114675           22595                 9.57         104\n",
       "..    ...                 ...        ...                ...        ...             ...                  ...         ...\n",
       "181   182           Gibraltar          1                  1          0               0                 0.00           0\n",
       "182   183            Maldives          1                  1          1               0                 1.00           1\n",
       "183   184              Gambia          1                  1          0               0                 0.00           0\n",
       "184   185              Belize          1                  1          6               0                 6.00           1\n",
       "185   186               Palau          1                  1          0               0                 0.00           0\n",
       "186   187              Guyana          1                  1          0               0                 0.00           0\n",
       "187   188    Christmas Island          1                  1          0               0                 0.00           0\n",
       "188   189             Reunion          1                  1          2               1                 2.00           1\n",
       "189   190         Saint Lucia          1                  1          0               0                 0.00           0\n",
       "190   191          Mauritania          1                  1          1               0                 1.00           1\n",
       "\n",
       "[191 rows x 8 columns]"
      ]
     },
     "execution_count": 430,
     "metadata": {},
     "output_type": "execute_result"
    }
   ],
   "source": [
    "df_ScimEn = pd.read_excel(\n",
    "    \"scimagojr-3.xlsx\",   \n",
    "    header=0,  \n",
    "    na_values = \"...\",\n",
    " \n",
    ")\n",
    "\n",
    "df_ScimEn "
   ]
  },
  {
   "cell_type": "markdown",
   "metadata": {},
   "source": [
    "## Join DataFrames"
   ]
  },
  {
   "cell_type": "code",
   "execution_count": 431,
   "metadata": {},
   "outputs": [
    {
     "data": {
      "text/plain": [
       "  Country Name Country Code       Indicator Name  Indicator Code  1960  ...        2011        2012        2013        2014        2015\n",
       "0        Aruba          ABW  GDP at market pr...  NY.GDP.MKTP.KD   NaN  ...         NaN         NaN         NaN         NaN         NaN\n",
       "1      Andorra          AND  GDP at market pr...  NY.GDP.MKTP.KD   NaN  ...  3.1856e+09  3.1295e+09  3.1275e+09         NaN         NaN\n",
       "2  Afghanistan          AFG  GDP at market pr...  NY.GDP.MKTP.KD   NaN  ...  1.6911e+10  1.9352e+10  1.9731e+10  1.9990e+10  2.0294e+10\n",
       "3       Angola          AGO  GDP at market pr...  NY.GDP.MKTP.KD   NaN  ...  8.5703e+10  9.0121e+10  9.6261e+10  1.0089e+11  1.0391e+11\n",
       "4      Albania          ALB  GDP at market pr...  NY.GDP.MKTP.KD   NaN  ...  1.2231e+10  1.2405e+10  1.2542e+10  1.2793e+10  1.3121e+10\n",
       "\n",
       "[5 rows x 60 columns]"
      ]
     },
     "execution_count": 431,
     "metadata": {},
     "output_type": "execute_result"
    }
   ],
   "source": [
    "df_gdp.head()"
   ]
  },
  {
   "cell_type": "code",
   "execution_count": 370,
   "metadata": {},
   "outputs": [
    {
     "data": {
      "text/plain": [
       "          Country  Energy Supply  Energy Supply per Capita  % Renewable\n",
       "0     Afghanistan     3.2100e+08                 10.0           78.6693\n",
       "1         Albania     1.0200e+08                 35.0          100.0000\n",
       "2         Algeria     1.9590e+09                 51.0            0.5510\n",
       "3  American Samoa            NaN                  NaN            0.6410\n",
       "4         Andorra     9.0000e+06                121.0           88.6957"
      ]
     },
     "execution_count": 370,
     "metadata": {},
     "output_type": "execute_result"
    }
   ],
   "source": [
    "df_energy.head()"
   ]
  },
  {
   "cell_type": "code",
   "execution_count": 371,
   "metadata": {},
   "outputs": [
    {
     "data": {
      "text/plain": [
       "   Rank             Country  Documents  Citable documents  Citations  Self-citations  Citations per document  H index\n",
       "0     1               China     127050             126767     597237          411683                 4.70         138\n",
       "1     2       United States      96661              94747     792274          265436                 8.20         230\n",
       "2     3               Japan      30504              30287     223024           61554                 7.31         134\n",
       "3     4      United Kingdom      20944              20357     206091           37874                 9.84         139\n",
       "4     5  Russian Federation      18534              18301      34266           12422                 1.85          57"
      ]
     },
     "execution_count": 371,
     "metadata": {},
     "output_type": "execute_result"
    }
   ],
   "source": [
    "df_ScimEn.head()"
   ]
  },
  {
   "cell_type": "code",
   "execution_count": 432,
   "metadata": {},
   "outputs": [
    {
     "data": {
      "text/plain": [
       "            Country Name Country Code       Indicator Name  Indicator Code        2006  ...        2011        2012        2013        2014        2015\n",
       "0                  Aruba          ABW  GDP at market pr...  NY.GDP.MKTP.KD         NaN  ...         NaN         NaN         NaN         NaN         NaN\n",
       "1                Andorra          AND  GDP at market pr...  NY.GDP.MKTP.KD  4.0182e+09  ...  3.1856e+09  3.1295e+09  3.1275e+09         NaN         NaN\n",
       "2            Afghanistan          AFG  GDP at market pr...  NY.GDP.MKTP.KD  1.0305e+10  ...  1.6911e+10  1.9352e+10  1.9731e+10  1.9990e+10  2.0294e+10\n",
       "3                 Angola          AGO  GDP at market pr...  NY.GDP.MKTP.KD  5.5811e+10  ...  8.5703e+10  9.0121e+10  9.6261e+10  1.0089e+11  1.0391e+11\n",
       "4                Albania          ALB  GDP at market pr...  NY.GDP.MKTP.KD  9.7718e+09  ...  1.2231e+10  1.2405e+10  1.2542e+10  1.2793e+10  1.3121e+10\n",
       "5             Arab World          ARB  GDP at market pr...  NY.GDP.MKTP.KD  1.7638e+12  ...  2.1739e+12  2.3183e+12  2.3856e+12  2.4367e+12  2.5091e+12\n",
       "6    United Arab Emir...          ARE  GDP at market pr...  NY.GDP.MKTP.KD  2.7895e+11  ...  3.0095e+11  3.2169e+11  3.3559e+11  3.5093e+11  3.6210e+11\n",
       "7              Argentina          ARG  GDP at market pr...  NY.GDP.MKTP.KD  3.7881e+11  ...  5.0036e+11  5.0437e+11  5.1892e+11  5.2127e+11         NaN\n",
       "8                Armenia          ARM  GDP at market pr...  NY.GDP.MKTP.KD  8.6797e+09  ...  9.6955e+09  1.0394e+10  1.0737e+10  1.1112e+10  1.1446e+10\n",
       "9         American Samoa          ASM  GDP at market pr...  NY.GDP.MKTP.KD         NaN  ...         NaN         NaN         NaN         NaN         NaN\n",
       "..                   ...          ...                  ...             ...         ...  ...         ...         ...         ...         ...         ...\n",
       "254              Vietnam          VNM  GDP at market pr...  NY.GDP.MKTP.KD  9.1308e+10  ...  1.2317e+11  1.2963e+11  1.3666e+11  1.4483e+11  1.5451e+11\n",
       "255              Vanuatu          VUT  GDP at market pr...  NY.GDP.MKTP.KD  5.9617e+08  ...  7.0938e+08  7.2182e+08  7.3604e+08  7.5300e+08         NaN\n",
       "256   West Bank and Gaza          PSE  GDP at market pr...  NY.GDP.MKTP.KD  8.0167e+09  ...  9.6115e+09  1.1009e+10  1.0537e+10  1.0422e+10  1.1714e+10\n",
       "257                World          WLD  GDP at market pr...  NY.GDP.MKTP.KD  6.0235e+13  ...  6.7702e+13  6.9379e+13  7.1042e+13  7.2911e+13  7.4709e+13\n",
       "258                Samoa          WSM  GDP at market pr...  NY.GDP.MKTP.KD  6.3939e+08  ...  6.9474e+08  6.9754e+08  6.8405e+08  6.9223e+08  7.0354e+08\n",
       "259          Yemen, Rep.          YEM  GDP at market pr...  NY.GDP.MKTP.KD  2.6726e+10  ...  2.6243e+10  2.6892e+10  2.8009e+10         NaN         NaN\n",
       "260         South Africa          ZAF  GDP at market pr...  NY.GDP.MKTP.KD  3.4029e+11  ...  3.8741e+11  3.9601e+11  4.0477e+11  4.1104e+11  4.1631e+11\n",
       "261     Congo, Dem. Rep.          COD  GDP at market pr...  NY.GDP.MKTP.KD  1.6509e+10  ...  2.1932e+10  2.3502e+10  2.5500e+10  2.7788e+10  2.9710e+10\n",
       "262               Zambia          ZMB  GDP at market pr...  NY.GDP.MKTP.KD  1.4406e+10  ...  2.1404e+10  2.3024e+10  2.4206e+10  2.5422e+10  2.6241e+10\n",
       "263             Zimbabwe          ZWE  GDP at market pr...  NY.GDP.MKTP.KD  1.0063e+10  ...  1.0544e+10  1.1658e+10  1.2181e+10  1.2649e+10  1.2785e+10\n",
       "\n",
       "[264 rows x 14 columns]"
      ]
     },
     "execution_count": 432,
     "metadata": {},
     "output_type": "execute_result"
    }
   ],
   "source": [
    "#  only the last 10 years (2006-2015) of GDP data\n",
    "\n",
    "df_prep_10gdp = df_gdp.loc[:,[\"Country Name\",\"Country Code\",\"Indicator Name\",\"Indicator Code\",\"2006\",\"2007\",\"2008\",\"2009\",\"2010\",\"2011\",\"2012\",\"2013\",\"2014\",\"2015\" ]]\n",
    "                           \n",
    "df_prep_10gdp"
   ]
  },
  {
   "cell_type": "code",
   "execution_count": 433,
   "metadata": {},
   "outputs": [
    {
     "data": {
      "text/plain": [
       "    Rank             Country  Documents  Citable documents  Citations  Self-citations  Citations per document  H index\n",
       "0      1               China     127050             126767     597237          411683                 4.70         138\n",
       "1      2       United States      96661              94747     792274          265436                 8.20         230\n",
       "2      3               Japan      30504              30287     223024           61554                 7.31         134\n",
       "3      4      United Kingdom      20944              20357     206091           37874                 9.84         139\n",
       "4      5  Russian Federation      18534              18301      34266           12422                 1.85          57\n",
       "5      6              Canada      17899              17620     215003           40930                12.01         149\n",
       "6      7             Germany      17027              16831     140566           27426                 8.26         126\n",
       "7      8               India      15005              14841     128763           37209                 8.58         115\n",
       "8      9              France      13153              12973     130632           28601                 9.93         114\n",
       "9     10         South Korea      11983              11923     114675           22595                 9.57         104\n",
       "10    11               Italy      10964              10794     111850           26661                10.20         106\n",
       "11    12               Spain       9428               9330     123336           23964                13.08         115\n",
       "12    13                Iran       8896               8819      57470           19125                 6.46          72\n",
       "13    14           Australia       8831               8725      90765           15606                10.28         107\n",
       "14    15              Brazil       8668               8596      60702           14396                 7.00          86"
      ]
     },
     "execution_count": 433,
     "metadata": {},
     "output_type": "execute_result"
    }
   ],
   "source": [
    "# only the top 15 countries by Scimagojr 'Rank' (Rank 1 through 15).\n",
    "\n",
    "df_prep_15scim = df_ScimEn.sort_values(by=\"Rank\", ascending=True).iloc[:15,:]\n",
    "# df_prep_15scim = df_ScimEn.sort_values(by=\"Rank\", ascending=True)[:15]  --> same thing\n",
    "df_prep_15scim "
   ]
  },
  {
   "cell_type": "code",
   "execution_count": 434,
   "metadata": {},
   "outputs": [
    {
     "data": {
      "text/plain": [
       "                 Country  Energy Supply  Energy Supply per Capita  % Renewable         Country Name  ...        2011        2012        2013        2014        2015\n",
       "0            Afghanistan     3.2100e+08                 10.0           78.6693          Afghanistan  ...  1.6911e+10  1.9352e+10  1.9731e+10  1.9990e+10  2.0294e+10\n",
       "1                Albania     1.0200e+08                 35.0          100.0000              Albania  ...  1.2231e+10  1.2405e+10  1.2542e+10  1.2793e+10  1.3121e+10\n",
       "2                Algeria     1.9590e+09                 51.0            0.5510              Algeria  ...  1.6588e+11  1.7152e+11  1.7632e+11  1.8303e+11  1.9016e+11\n",
       "3         American Samoa            NaN                  NaN            0.6410       American Samoa  ...         NaN         NaN         NaN         NaN         NaN\n",
       "4                Andorra     9.0000e+06                121.0           88.6957              Andorra  ...  3.1856e+09  3.1295e+09  3.1275e+09         NaN         NaN\n",
       "5                 Angola     6.4200e+08                 27.0           70.9091               Angola  ...  8.5703e+10  9.0121e+10  9.6261e+10  1.0089e+11  1.0391e+11\n",
       "6    Antigua and Barbuda     8.0000e+06                 84.0            0.0000  Antigua and Barbuda  ...  1.1152e+09  1.1600e+09  1.1560e+09  1.2117e+09  1.2561e+09\n",
       "7              Argentina     3.3780e+09                 79.0           24.0645            Argentina  ...  5.0036e+11  5.0437e+11  5.1892e+11  5.2127e+11         NaN\n",
       "8                Armenia     1.4300e+08                 48.0           28.2361              Armenia  ...  9.6955e+09  1.0394e+10  1.0737e+10  1.1112e+10  1.1446e+10\n",
       "9                  Aruba     1.2000e+07                120.0           14.8707                Aruba  ...         NaN         NaN         NaN         NaN         NaN\n",
       "..                   ...            ...                  ...               ...                  ...  ...         ...         ...         ...         ...         ...\n",
       "176               Uganda     4.5200e+08                 12.0           68.0182               Uganda  ...  2.2134e+10  2.3110e+10  2.3866e+10  2.5016e+10  2.6277e+10\n",
       "177              Ukraine     4.8440e+09                107.0            8.0673              Ukraine  ...  1.4351e+11  1.4380e+11  1.4380e+11  1.3431e+11  1.2101e+11\n",
       "178  United Arab Emir...     2.7100e+09                300.0            0.0000  United Arab Emir...  ...  3.0095e+11  3.2169e+11  3.3559e+11  3.5093e+11  3.6210e+11\n",
       "179       United Kingdom     7.9200e+09                124.0           10.6005       United Kingdom  ...  2.4509e+12  2.4798e+12  2.5334e+12  2.6056e+12  2.6663e+12\n",
       "180        United States     9.0838e+10                286.0           11.5710        United States  ...  1.5204e+13  1.5542e+13  1.5774e+13  1.6157e+13  1.6549e+13\n",
       "181              Uruguay     1.9600e+08                 58.0           71.6050              Uruguay  ...  4.2364e+10  4.3863e+10  4.5897e+10  4.7384e+10  4.7849e+10\n",
       "182           Uzbekistan     1.7980e+09                 62.0           21.3284           Uzbekistan  ...  4.2597e+10  4.6090e+10  4.9778e+10  5.3810e+10  5.8114e+10\n",
       "183              Vanuatu     3.0000e+06                 10.0           14.7059              Vanuatu  ...  7.0938e+08  7.2182e+08  7.3604e+08  7.5300e+08         NaN\n",
       "184               Zambia     4.0000e+08                 26.0           99.7147               Zambia  ...  2.1404e+10  2.3024e+10  2.4206e+10  2.5422e+10  2.6241e+10\n",
       "185             Zimbabwe     4.8000e+08                 32.0           52.5361             Zimbabwe  ...  1.0544e+10  1.1658e+10  1.2181e+10  1.2649e+10  1.2785e+10\n",
       "\n",
       "[186 rows x 18 columns]"
      ]
     },
     "execution_count": 434,
     "metadata": {},
     "output_type": "execute_result"
    }
   ],
   "source": [
    "df_q1_prep = pd.merge(df_energy, df_prep_10gdp, how=\"inner\", left_on=\"Country\", right_on=\"Country Name\")\n",
    "\n",
    "df_q1_prep"
   ]
  },
  {
   "cell_type": "code",
   "execution_count": 435,
   "metadata": {},
   "outputs": [
    {
     "data": {
      "text/plain": [
       "                    Rank  Documents  Citable documents  Citations  Self-citations  ...        2011        2012        2013        2014        2015\n",
       "Country                                                                            ...                                                            \n",
       "China                  1     127050             126767     597237          411683  ...  6.6125e+12  7.1250e+12  7.6724e+12  8.2301e+12  8.7980e+12\n",
       "United States          2      96661              94747     792274          265436  ...  1.5204e+13  1.5542e+13  1.5774e+13  1.6157e+13  1.6549e+13\n",
       "Japan                  3      30504              30287     223024           61554  ...  5.4737e+12  5.5691e+12  5.6447e+12  5.6429e+12  5.6696e+12\n",
       "United Kingdom         4      20944              20357     206091           37874  ...  2.4509e+12  2.4798e+12  2.5334e+12  2.6056e+12  2.6663e+12\n",
       "Russian Federation     5      18534              18301      34266           12422  ...  1.5899e+12  1.6459e+12  1.6669e+12  1.6787e+12  1.6161e+12\n",
       "Canada                 6      17899              17620     215003           40930  ...  1.6641e+12  1.6931e+12  1.7307e+12  1.7735e+12  1.7926e+12\n",
       "Germany                7      17027              16831     140566           27426  ...  3.5424e+12  3.5567e+12  3.5673e+12  3.6244e+12  3.6856e+12\n",
       "India                  8      15005              14841     128763           37209  ...  1.8219e+12  1.9242e+12  2.0520e+12  2.2006e+12  2.3672e+12\n",
       "France                 9      13153              12973     130632           28601  ...  2.7020e+12  2.7070e+12  2.7226e+12  2.7296e+12  2.7612e+12\n",
       "South Korea           10      11983              11923     114675           22595  ...  1.1348e+12  1.1608e+12  1.1944e+12  1.2343e+12  1.2666e+12\n",
       "Italy                 11      10964              10794     111850           26661  ...  2.1374e+12  2.0772e+12  2.0409e+12  2.0339e+12  2.0493e+12\n",
       "Spain                 12       9428               9330     123336           23964  ...  1.4174e+12  1.3802e+12  1.3571e+12  1.3756e+12  1.4198e+12\n",
       "Iran                  13       8896               8819      57470           19125  ...  4.8533e+11  4.5326e+11  4.4459e+11  4.6390e+11         NaN\n",
       "Australia             14       8831               8725      90765           15606  ...  1.1694e+12  1.2119e+12  1.2415e+12  1.2725e+12  1.3013e+12\n",
       "Brazil                15       8668               8596      60702           14396  ...  2.2952e+12  2.3392e+12  2.4097e+12  2.4122e+12  2.3194e+12\n",
       "\n",
       "[15 rows x 20 columns]"
      ]
     },
     "execution_count": 435,
     "metadata": {},
     "output_type": "execute_result"
    }
   ],
   "source": [
    "df_q1_prep2 =pd. merge(df_q1_prep, df_prep_15scim , how=\"inner\", left_on=\"Country\", right_on=\"Country\").loc[:,[\"Country\",\n",
    "                  'Rank', 'Documents', 'Citable documents', 'Citations', 'Self-citations', 'Citations per document', 'H index', \n",
    "                 'Energy Supply', 'Energy Supply per Capita', '% Renewable', '2006', '2007', '2008', '2009', '2010', '2011', '2012', '2013', '2014', '2015']]\n",
    " \n",
    "df_q1_output = df_q1_prep2.set_index(\"Country\")\n",
    "\n",
    "df_q1_output.sort_values(by=\"Rank\")"
   ]
  },
  {
   "cell_type": "markdown",
   "metadata": {},
   "source": [
    "### Question 2"
   ]
  },
  {
   "cell_type": "code",
   "execution_count": 376,
   "metadata": {},
   "outputs": [
    {
     "data": {
      "text/plain": [
       "                 Country  Energy Supply  Energy Supply per Capita  % Renewable         Country Name  ...        2012        2013        2014        2015      _merge\n",
       "0            Afghanistan     3.2100e+08                 10.0           78.6693          Afghanistan  ...  1.9352e+10  1.9731e+10  1.9990e+10  2.0294e+10        both\n",
       "1                Albania     1.0200e+08                 35.0          100.0000              Albania  ...  1.2405e+10  1.2542e+10  1.2793e+10  1.3121e+10        both\n",
       "2                Algeria     1.9590e+09                 51.0            0.5510              Algeria  ...  1.7152e+11  1.7632e+11  1.8303e+11  1.9016e+11        both\n",
       "3         American Samoa            NaN                  NaN            0.6410       American Samoa  ...         NaN         NaN         NaN         NaN        both\n",
       "4                Andorra     9.0000e+06                121.0           88.6957              Andorra  ...  3.1295e+09  3.1275e+09         NaN         NaN        both\n",
       "5                 Angola     6.4200e+08                 27.0           70.9091               Angola  ...  9.0121e+10  9.6261e+10  1.0089e+11  1.0391e+11        both\n",
       "6               Anguilla     2.0000e+06                136.0            0.0000                  NaN  ...         NaN         NaN         NaN         NaN   left_only\n",
       "7    Antigua and Barbuda     8.0000e+06                 84.0            0.0000  Antigua and Barbuda  ...  1.1600e+09  1.1560e+09  1.2117e+09  1.2561e+09        both\n",
       "8              Argentina     3.3780e+09                 79.0           24.0645            Argentina  ...  5.0437e+11  5.1892e+11  5.2127e+11         NaN        both\n",
       "9                Armenia     1.4300e+08                 48.0           28.2361              Armenia  ...  1.0394e+10  1.0737e+10  1.1112e+10  1.1446e+10        both\n",
       "..                   ...            ...                  ...               ...                  ...  ...         ...         ...         ...         ...         ...\n",
       "295                  NaN            NaN                  NaN               NaN             Tanzania  ...  3.5633e+10  3.8221e+10  4.0883e+10  4.3732e+10  right_only\n",
       "296                  NaN            NaN                  NaN               NaN  Upper middle income  ...  1.7062e+13  1.7863e+13  1.8570e+13  1.9121e+13  right_only\n",
       "297                  NaN            NaN                  NaN               NaN  St. Vincent and ...  ...  6.8770e+08  6.9919e+08  7.0378e+08  7.1400e+08  right_only\n",
       "298                  NaN            NaN                  NaN               NaN        Venezuela, RB  ...  4.3333e+11  4.3915e+11  4.2205e+11  3.9799e+11  right_only\n",
       "299                  NaN            NaN                  NaN               NaN  Virgin Islands (...  ...         NaN         NaN         NaN         NaN  right_only\n",
       "300                  NaN            NaN                  NaN               NaN              Vietnam  ...  1.2963e+11  1.3666e+11  1.4483e+11  1.5451e+11  right_only\n",
       "301                  NaN            NaN                  NaN               NaN   West Bank and Gaza  ...  1.1009e+10  1.0537e+10  1.0422e+10  1.1714e+10  right_only\n",
       "302                  NaN            NaN                  NaN               NaN                World  ...  6.9379e+13  7.1042e+13  7.2911e+13  7.4709e+13  right_only\n",
       "303                  NaN            NaN                  NaN               NaN          Yemen, Rep.  ...  2.6892e+10  2.8009e+10         NaN         NaN  right_only\n",
       "304                  NaN            NaN                  NaN               NaN     Congo, Dem. Rep.  ...  2.3502e+10  2.5500e+10  2.7788e+10  2.9710e+10  right_only\n",
       "\n",
       "[305 rows x 65 columns]"
      ]
     },
     "execution_count": 376,
     "metadata": {},
     "output_type": "execute_result"
    }
   ],
   "source": [
    "df_2_1 = pd.merge(df_energy,df_gdp, how=\"outer\", left_on=\"Country\", right_on=\"Country Name\" , indicator=True)\n",
    "\n",
    "df_2_1"
   ]
  },
  {
   "cell_type": "code",
   "execution_count": 377,
   "metadata": {},
   "outputs": [
    {
     "data": {
      "text/plain": [
       "191"
      ]
     },
     "execution_count": 377,
     "metadata": {},
     "output_type": "execute_result"
    }
   ],
   "source": [
    "n_countries_energy_table = len(df_energy[\"Country\"].unique())\n",
    "n_countries_gdp_table = len(df_gdp[\"Country Name\"].unique())\n",
    "n_countries_scimen_table = len(df_ScimEn[\"Country\"].unique())\n",
    "\n",
    "n_countries_scimen_table"
   ]
  },
  {
   "cell_type": "code",
   "execution_count": 378,
   "metadata": {},
   "outputs": [
    {
     "data": {
      "text/plain": [
       "682"
      ]
     },
     "execution_count": 378,
     "metadata": {},
     "output_type": "execute_result"
    }
   ],
   "source": [
    "n_countries_scimen_table + n_countries_gdp_table + n_countries_energy_table"
   ]
  },
  {
   "cell_type": "code",
   "execution_count": 379,
   "metadata": {},
   "outputs": [
    {
     "data": {
      "text/plain": [
       "                      Energy Supply  Energy Supply per Capita  % Renewable Country Code       Indicator Name  ... Citable documents  Citations  Self-citations  Citations per document  H index\n",
       "Afghanistan              3.2100e+08                 10.0           78.6693          AFG  GDP at market pr...  ...               3.0        0.0             0.0                 0.00         0.0\n",
       "Albania                  1.0200e+08                 35.0          100.0000          ALB  GDP at market pr...  ...              23.0      168.0            14.0                 7.30         6.0\n",
       "Algeria                  1.9590e+09                 51.0            0.5510          DZA  GDP at market pr...  ...            1197.0     7393.0          1413.0                 6.08        40.0\n",
       "American Samoa                  NaN                  NaN            0.6410          ASM  GDP at market pr...  ...               1.0        0.0             0.0                 0.00         0.0\n",
       "Andorra                  9.0000e+06                121.0           88.6957          AND  GDP at market pr...  ...               2.0       13.0             0.0                 6.50         1.0\n",
       "Angola                   6.4200e+08                 27.0           70.9091          AGO  GDP at market pr...  ...              50.0       79.0             0.0                 1.58         5.0\n",
       "Anguilla                 2.0000e+06                136.0            0.0000          NaN                  NaN  ...               NaN        NaN             NaN                  NaN         NaN\n",
       "Antigua and Barbuda      8.0000e+06                 84.0            0.0000          ATG  GDP at market pr...  ...               2.0        0.0             0.0                 0.00         0.0\n",
       "Arab World                      NaN                  NaN               NaN          ARB  GDP at market pr...  ...               NaN        NaN             NaN                  NaN         NaN\n",
       "Argentina                3.3780e+09                 79.0           24.0645          ARG  GDP at market pr...  ...            1213.0    10620.0          1654.0                 8.68        47.0\n",
       "...                             ...                  ...               ...          ...                  ...  ...               ...        ...             ...                  ...         ...\n",
       "Viet Nam                 2.5540e+09                 28.0           45.3215          NaN                  NaN  ...             258.0     1164.0            92.0                 4.46        16.0\n",
       "Vietnam                         NaN                  NaN               NaN          VNM  GDP at market pr...  ...               NaN        NaN             NaN                  NaN         NaN\n",
       "Virgin Islands (U...            NaN                  NaN               NaN          VIR  GDP at market pr...  ...               NaN        NaN             NaN                  NaN         NaN\n",
       "Wallis and Futuna...     0.0000e+00                 26.0            0.0000          NaN                  NaN  ...               NaN        NaN             NaN                  NaN         NaN\n",
       "West Bank and Gaza              NaN                  NaN               NaN          PSE  GDP at market pr...  ...               NaN        NaN             NaN                  NaN         NaN\n",
       "World                           NaN                  NaN               NaN          WLD  GDP at market pr...  ...               NaN        NaN             NaN                  NaN         NaN\n",
       "Yemen                    3.4400e+08                 13.0            0.0000          NaN                  NaN  ...              28.0      121.0            25.0                 4.32         8.0\n",
       "Yemen, Rep.                     NaN                  NaN               NaN          YEM  GDP at market pr...  ...               NaN        NaN             NaN                  NaN         NaN\n",
       "Zambia                   4.0000e+08                 26.0           99.7147          ZMB  GDP at market pr...  ...              19.0       14.0             1.0                 0.74         2.0\n",
       "Zimbabwe                 4.8000e+08                 32.0           52.5361          ZWE  GDP at market pr...  ...              21.0       27.0             1.0                 1.23         3.0\n",
       "\n",
       "[318 rows x 69 columns]"
      ]
     },
     "execution_count": 379,
     "metadata": {},
     "output_type": "execute_result"
    }
   ],
   "source": [
    "pd.concat([\n",
    "    df_energy.set_index(\"Country\"), df_gdp.set_index(\"Country Name\"), df_ScimEn.set_index(\"Country\")\n",
    "], join=\"outer\", axis=1)"
   ]
  },
  {
   "cell_type": "markdown",
   "metadata": {},
   "source": [
    "## Question 3 "
   ]
  },
  {
   "cell_type": "code",
   "execution_count": 380,
   "metadata": {},
   "outputs": [
    {
     "data": {
      "text/plain": [
       "Country\n",
       "United States         1.5364e+13\n",
       "China                 6.3486e+12\n",
       "Japan                 5.5422e+12\n",
       "Germany               3.4930e+12\n",
       "France                2.6817e+12\n",
       "United Kingdom        2.4879e+12\n",
       "Brazil                2.1898e+12\n",
       "Italy                 2.1202e+12\n",
       "India                 1.7693e+12\n",
       "Canada                1.6606e+12\n",
       "Russian Federation    1.5655e+12\n",
       "Spain                 1.4181e+12\n",
       "Australia             1.1640e+12\n",
       "South Korea           1.1067e+12\n",
       "Iran                  4.4416e+11\n",
       "Name: avg gdp, dtype: float64"
      ]
     },
     "execution_count": 380,
     "metadata": {},
     "output_type": "execute_result"
    }
   ],
   "source": [
    "q3_prep = df_q1_output.copy().loc[:, [\"2006\",\"2007\",\"2008\",\"2009\",\"2010\",\"2011\",\"2012\",\"2013\",\"2014\",\"2015\"]]\n",
    "\n",
    "q3_prep[\"avg gdp\"] = q3_prep.mean(axis= 1, skipna = True)  #?? combine to above?\n",
    "\n",
    "q3_output=q3_prep.loc[:,\"avg gdp\"].sort_values(ascending=False)\n",
    "\n",
    "q3_output"
   ]
  },
  {
   "cell_type": "markdown",
   "metadata": {},
   "source": [
    "## Question 4"
   ]
  },
  {
   "cell_type": "code",
   "execution_count": 381,
   "metadata": {},
   "outputs": [
    {
     "data": {
      "text/plain": [
       "Country\n",
       "United Kingdom    2.4879e+12\n",
       "Name: avg gdp, dtype: float64"
      ]
     },
     "execution_count": 381,
     "metadata": {},
     "output_type": "execute_result"
    }
   ],
   "source": [
    " # select 6th from q3 output\n",
    "    \n",
    "q3_output.iloc[[5]]  # ?????"
   ]
  },
  {
   "cell_type": "code",
   "execution_count": 386,
   "metadata": {},
   "outputs": [
    {
     "name": "stderr",
     "output_type": "stream",
     "text": [
      "C:\\ProgramData\\Anaconda3\\lib\\site-packages\\ipykernel_launcher.py:2: SettingWithCopyWarning: \n",
      "A value is trying to be set on a copy of a slice from a DataFrame.\n",
      "Try using .loc[row_indexer,col_indexer] = value instead\n",
      "\n",
      "See the caveats in the documentation: http://pandas.pydata.org/pandas-docs/stable/indexing.html#indexing-view-versus-copy\n",
      "  \n"
     ]
    },
    {
     "data": {
      "text/plain": [
       "                Rank  Documents  Citable documents  Citations  Self-citations  ...        2012        2013        2014        2015  value change\n",
       "Country                                                                        ...                                                              \n",
       "United Kingdom     4      20944              20357     206091           37874  ...  2.4798e+12  2.5334e+12  2.6056e+12  2.6663e+12         1.102\n",
       "\n",
       "[1 rows x 21 columns]"
      ]
     },
     "execution_count": 386,
     "metadata": {},
     "output_type": "execute_result"
    }
   ],
   "source": [
    "q4_prep = df_q1_output.loc[df_q1_output[\"Rank\"] == 4, :]\n",
    "q4_prep[\"value change\"] = (df_q1_output[\"2015\"] / df_q1_output[\"2006\"] )\n",
    "\n",
    "q4_prep"
   ]
  },
  {
   "cell_type": "code",
   "execution_count": 387,
   "metadata": {},
   "outputs": [
    {
     "name": "stdout",
     "output_type": "stream",
     "text": [
      "Country\n",
      "United Kingdom    1.102\n",
      "Name: value change, dtype: float64\n"
     ]
    }
   ],
   "source": [
    "print(q4_prep[\"value change\"])  ### to string?"
   ]
  },
  {
   "cell_type": "markdown",
   "metadata": {},
   "source": [
    "## Question 5"
   ]
  },
  {
   "cell_type": "code",
   "execution_count": 388,
   "metadata": {},
   "outputs": [
    {
     "data": {
      "text/plain": [
       "90.66666666666667"
      ]
     },
     "execution_count": 388,
     "metadata": {},
     "output_type": "execute_result"
    }
   ],
   "source": [
    " df_energy[\"Energy Supply per Capita\"].mean()"
   ]
  },
  {
   "cell_type": "markdown",
   "metadata": {},
   "source": [
    "# Question 6"
   ]
  },
  {
   "cell_type": "code",
   "execution_count": 389,
   "metadata": {},
   "outputs": [
    {
     "data": {
      "text/plain": [
       "100.0"
      ]
     },
     "execution_count": 389,
     "metadata": {},
     "output_type": "execute_result"
    }
   ],
   "source": [
    "df_energy[\"% Renewable\"].max()"
   ]
  },
  {
   "cell_type": "code",
   "execution_count": 488,
   "metadata": {},
   "outputs": [
    {
     "data": {
      "text/plain": [
       "         Country  % Renewable\n",
       "Country                      \n",
       "Brazil       NaN       69.648"
      ]
     },
     "execution_count": 488,
     "metadata": {},
     "output_type": "execute_result"
    }
   ],
   "source": [
    "df_q1_output.loc[df_q1_output[\"% Renewable\"] == df_q1_output[\"% Renewable\"].max(), [\"Country\",\"% Renewable\"]]"
   ]
  },
  {
   "cell_type": "code",
   "execution_count": 390,
   "metadata": {},
   "outputs": [
    {
     "data": {
      "text/plain": [
       "['Ireland', 20.92106]"
      ]
     },
     "execution_count": 390,
     "metadata": {},
     "output_type": "execute_result"
    }
   ],
   "source": [
    "q6 = df_energy.loc[df_energy[\"% Renewable\"].max(), [\"Country\",\"% Renewable\"]].tolist()\n",
    "\n",
    "q6"
   ]
  },
  {
   "cell_type": "markdown",
   "metadata": {},
   "source": [
    "# Question 7 "
   ]
  },
  {
   "cell_type": "code",
   "execution_count": 391,
   "metadata": {},
   "outputs": [
    {
     "data": {
      "text/plain": [
       "           Country  Citation ratio\n",
       "164  French Guiana             1.0"
      ]
     },
     "execution_count": 391,
     "metadata": {},
     "output_type": "execute_result"
    }
   ],
   "source": [
    "q7_df_ScimEn = df_ScimEn.copy()\n",
    "\n",
    "q7_df_ScimEn[\"Citation ratio\"] = df_ScimEn[\"Self-citations\"] / df_ScimEn[\"Citations\"]\n",
    "\n",
    "q7_output = q7_df_ScimEn.sort_values(by=\"Citation ratio\", ascending=False)[:1].loc[:, [\"Country\",\"Citation ratio\"]] \n",
    "\n",
    "q7_output\n",
    "#  ?? transfer to list?\n",
    "\n"
   ]
  },
  {
   "cell_type": "markdown",
   "metadata": {},
   "source": [
    "# Question 8 "
   ]
  },
  {
   "cell_type": "code",
   "execution_count": null,
   "metadata": {},
   "outputs": [],
   "source": [
    "#estimates the population using Energy Supply and Energy Supply per capita.\n"
   ]
  },
  {
   "cell_type": "code",
   "execution_count": 392,
   "metadata": {},
   "outputs": [
    {
     "data": {
      "text/plain": [
       "          Country  Energy Supply  Energy Supply per Capita  % Renewable\n",
       "0     Afghanistan     3.2100e+08                 10.0           78.6693\n",
       "1         Albania     1.0200e+08                 35.0          100.0000\n",
       "2         Algeria     1.9590e+09                 51.0            0.5510\n",
       "3  American Samoa            NaN                  NaN            0.6410\n",
       "4         Andorra     9.0000e+06                121.0           88.6957"
      ]
     },
     "execution_count": 392,
     "metadata": {},
     "output_type": "execute_result"
    }
   ],
   "source": [
    "q8_df  = df_energy.copy()\n",
    "\n",
    "q8_df.head()"
   ]
  },
  {
   "cell_type": "code",
   "execution_count": 464,
   "metadata": {
    "scrolled": true
   },
   "outputs": [
    {
     "data": {
      "text/plain": [
       "Country                     United States\n",
       "Energy Supply                   9.084e+10\n",
       "Energy Supply per Capita              286\n",
       "% Renewable                         11.57\n",
       "population                      3.176e+08\n",
       "Name: 2, dtype: object"
      ]
     },
     "execution_count": 464,
     "metadata": {},
     "output_type": "execute_result"
    }
   ],
   "source": [
    "q8_df[\"population\"] = q8_df[\"Energy Supply\"] / q8_df[\"Energy Supply per Capita\"]\n",
    "\n",
    "q8_output = q8_df.sort_values(by=\"population\", ascending = False).reset_index(drop=True) \n",
    "\n",
    "q8_output.iloc[2, :]  # only return Country  to a string ? "
   ]
  },
  {
   "cell_type": "markdown",
   "metadata": {},
   "source": [
    "## QUestion 9"
   ]
  },
  {
   "cell_type": "code",
   "execution_count": null,
   "metadata": {},
   "outputs": [],
   "source": [
    "# estimates the number of citable documents per person. \n",
    "  "
   ]
  },
  {
   "cell_type": "code",
   "execution_count": 465,
   "metadata": {},
   "outputs": [
    {
     "data": {
      "text/plain": [
       "         Country  citable documents per person  Energy Supply per Capita\n",
       "0          China                    9.2690e-05                      93.0\n",
       "1          India                    1.1624e-05                      26.0\n",
       "2  United States                    2.9831e-04                     286.0\n",
       "3      Indonesia                    3.3065e-06                      35.0\n",
       "4         Brazil                    4.1745e-05                      59.0"
      ]
     },
     "execution_count": 465,
     "metadata": {},
     "output_type": "execute_result"
    }
   ],
   "source": [
    "q9_prep = pd. merge(q8_output, df_ScimEn , how=\"outer\", on=\"Country\"  )\n",
    "q9_prep[\"citable documents per person\"] =  q9_prep[\"Citable documents\"]   / q9_prep[\"population\"]\n",
    "\n",
    "q9_output = q9_prep.loc[:,[\"Country\", \"citable documents per person\",\"Energy Supply per Capita\"]]\n",
    "\n",
    "q9_output.head()"
   ]
  },
  {
   "cell_type": "code",
   "execution_count": null,
   "metadata": {},
   "outputs": [],
   "source": [
    "#  What is the correlation between the number of citable documents per capita and the energy supply per capita?"
   ]
  },
  {
   "cell_type": "code",
   "execution_count": 466,
   "metadata": {},
   "outputs": [
    {
     "data": {
      "text/plain": [
       "                              citable documents per person  Energy Supply per Capita\n",
       "citable documents per person                        1.0000                    0.5266\n",
       "Energy Supply per Capita                            0.5266                    1.0000"
      ]
     },
     "execution_count": 466,
     "metadata": {},
     "output_type": "execute_result"
    }
   ],
   "source": [
    "q9_output.corr(method ='pearson')"
   ]
  },
  {
   "cell_type": "markdown",
   "metadata": {},
   "source": [
    "## Question 10"
   ]
  },
  {
   "cell_type": "code",
   "execution_count": null,
   "metadata": {},
   "outputs": [],
   "source": [
    "# Create a new column with a 1 if the country's % Renewable value is at or above the median for all countries in the top 15, \n",
    "#  and a 0 if the country's % Renewable value is below the median."
   ]
  },
  {
   "cell_type": "code",
   "execution_count": 467,
   "metadata": {},
   "outputs": [
    {
     "data": {
      "text/plain": [
       "Country\n",
       "Bhutan                              1\n",
       "Lesotho                             1\n",
       "Albania                             1\n",
       "Paraguay                            1\n",
       "Iceland                             1\n",
       "Ethiopia                            1\n",
       "Tajikistan                          1\n",
       "Zambia                              1\n",
       "Nepal                               0\n",
       "Democratic Republic of the Congo    0\n",
       "Norway                              0\n",
       "Liechtenstein                       0\n",
       "Namibia                             0\n",
       "Mozambique                          0\n",
       "Kyrgyzstan                          0\n",
       "Name: HighRenew, dtype: int32"
      ]
     },
     "execution_count": 467,
     "metadata": {},
     "output_type": "execute_result"
    }
   ],
   "source": [
    "q10_prep = df_energy.sort_values(by=\"% Renewable\", ascending = False)[:15].set_index(\"Country\")\n",
    "\n",
    "q10_prep[\"Median\"] =  q10_prep[\"% Renewable\"].median()\n",
    "\n",
    " \n",
    "q10_prep[\"HighRenew\"] = q10_prep.loc[q10_prep[\"% Renewable\"] >= q10_prep[\"Median\"],  \"HighRenew\"] =1\n",
    "q10_prep[\"HighRenew\"] = q10_prep.loc[q10_prep[\"% Renewable\"] < q10_prep[\"Median\"], \"HighRenew\"] = 0\n",
    "\n",
    "\n",
    "q10_prep[\"HighRenew\"] = np.where (\n",
    "\n",
    "                        q10_prep[\"% Renewable\"] >= q10_prep[\"Median\"] , 1 ,0\n",
    "                      \n",
    "\n",
    ")\n",
    "\n",
    "q10_output = q10_prep.loc[:, \"HighRenew\"]    #--> no [] when select col, makes it one list\n",
    "\n",
    "# q10_output = q10_prep.loc[:, [\"HighRenew\"] ] #--> add[] will make the result into df\n",
    "q10_output\n",
    "\n",
    "\n"
   ]
  },
  {
   "cell_type": "markdown",
   "metadata": {},
   "source": [
    "## Question 11"
   ]
  },
  {
   "cell_type": "code",
   "execution_count": null,
   "metadata": {},
   "outputs": [],
   "source": [
    "# population : q8_output  (based on --> df_energy)\n",
    "\n",
    "# key : country\n"
   ]
  },
  {
   "cell_type": "code",
   "execution_count": 468,
   "metadata": {},
   "outputs": [
    {
     "data": {
      "text/plain": [
       "               Country  Rank  Documents  Citable documents  Citations  ...        2015  Energy Supply_y  Energy Supply per Capita_y  % Renewable_y  population\n",
       "0            Australia    14       8831               8725      90765  ...  1.3013e+12       5.3860e+09                       231.0        11.8108  2.3316e+07\n",
       "1               Brazil    15       8668               8596      60702  ...  2.3194e+12       1.2149e+10                        59.0        69.6480  2.0592e+08\n",
       "2               Canada     6      17899              17620     215003  ...  1.7926e+12       1.0431e+10                       296.0        61.9454  3.5240e+07\n",
       "3                China     1     127050             126767     597237  ...  8.7980e+12       1.2719e+11                        93.0        19.7549  1.3676e+09\n",
       "4               France     9      13153              12973     130632  ...  2.7612e+12       1.0597e+10                       166.0        17.0203  6.3837e+07\n",
       "5              Germany     7      17027              16831     140566  ...  3.6856e+12       1.3261e+10                       165.0        17.9015  8.0370e+07\n",
       "6                India     8      15005              14841     128763  ...  2.3672e+12       3.3195e+10                        26.0        14.9691  1.2767e+09\n",
       "7                 Iran    13       8896               8819      57470  ...         NaN       9.1720e+09                       119.0         5.7077  7.7076e+07\n",
       "8                Italy    11      10964              10794     111850  ...  2.0493e+12       6.5300e+09                       109.0        33.6672  5.9908e+07\n",
       "9                Japan     3      30504              30287     223024  ...  5.6696e+12       1.8984e+10                       149.0        10.2328  1.2741e+08\n",
       "10         South Korea    10      11983              11923     114675  ...  1.2666e+12       1.1007e+10                       221.0         2.2794  4.9805e+07\n",
       "11  Russian Federation     5      18534              18301      34266  ...  1.6161e+12       3.0709e+10                       214.0        17.2887  1.4350e+08\n",
       "12               Spain    12       9428               9330     123336  ...  1.4198e+12       4.9230e+09                       106.0        37.9686  4.6443e+07\n",
       "13      United Kingdom     4      20944              20357     206091  ...  2.6663e+12       7.9200e+09                       124.0        10.6005  6.3871e+07\n",
       "14       United States     2      96661              94747     792274  ...  1.6549e+13       9.0838e+10                       286.0        11.5710  3.1762e+08\n",
       "\n",
       "[15 rows x 25 columns]"
      ]
     },
     "execution_count": 468,
     "metadata": {},
     "output_type": "execute_result"
    }
   ],
   "source": [
    "q11_prep = pd.merge (df_q1_output, q8_output, how=\"inner\", on= \"Country\")\n",
    "\n",
    "q11_prep"
   ]
  },
  {
   "cell_type": "code",
   "execution_count": 469,
   "metadata": {},
   "outputs": [
    {
     "data": {
      "text/plain": [
       "               Country  Rank  Documents  Citable documents  Citations  ...  Energy Supply_y  Energy Supply per Capita_y  % Renewable_y  population  ContinentDict\n",
       "0            Australia    14       8831               8725      90765  ...       5.3860e+09                       231.0        11.8108  2.3316e+07      Australia\n",
       "1               Brazil    15       8668               8596      60702  ...       1.2149e+10                        59.0        69.6480  2.0592e+08  South America\n",
       "2               Canada     6      17899              17620     215003  ...       1.0431e+10                       296.0        61.9454  3.5240e+07  North America\n",
       "3                China     1     127050             126767     597237  ...       1.2719e+11                        93.0        19.7549  1.3676e+09           Asia\n",
       "4               France     9      13153              12973     130632  ...       1.0597e+10                       166.0        17.0203  6.3837e+07         Europe\n",
       "5              Germany     7      17027              16831     140566  ...       1.3261e+10                       165.0        17.9015  8.0370e+07         Europe\n",
       "6                India     8      15005              14841     128763  ...       3.3195e+10                        26.0        14.9691  1.2767e+09           Asia\n",
       "7                 Iran    13       8896               8819      57470  ...       9.1720e+09                       119.0         5.7077  7.7076e+07           Asia\n",
       "8                Italy    11      10964              10794     111850  ...       6.5300e+09                       109.0        33.6672  5.9908e+07         Europe\n",
       "9                Japan     3      30504              30287     223024  ...       1.8984e+10                       149.0        10.2328  1.2741e+08           Asia\n",
       "10         South Korea    10      11983              11923     114675  ...       1.1007e+10                       221.0         2.2794  4.9805e+07           Asia\n",
       "11  Russian Federation     5      18534              18301      34266  ...       3.0709e+10                       214.0        17.2887  1.4350e+08         Europe\n",
       "12               Spain    12       9428               9330     123336  ...       4.9230e+09                       106.0        37.9686  4.6443e+07         Europe\n",
       "13      United Kingdom     4      20944              20357     206091  ...       7.9200e+09                       124.0        10.6005  6.3871e+07         Europe\n",
       "14       United States     2      96661              94747     792274  ...       9.0838e+10                       286.0        11.5710  3.1762e+08  North America\n",
       "\n",
       "[15 rows x 26 columns]"
      ]
     },
     "execution_count": 469,
     "metadata": {},
     "output_type": "execute_result"
    }
   ],
   "source": [
    "ContinentDict  = {\n",
    "    'China':'Asia', \n",
    "    'United States':'North America', \n",
    "    'Japan':'Asia', \n",
    "    'United Kingdom':'Europe', \n",
    "    'Russian Federation':'Europe', \n",
    "    'Canada':'North America', \n",
    "    'Germany':'Europe', \n",
    "    'India':'Asia',\n",
    "    'France':'Europe', \n",
    "    'South Korea':'Asia', \n",
    "    'Italy':'Europe', \n",
    "    'Spain':'Europe', \n",
    "    'Iran':'Asia',\n",
    "    'Australia':'Australia', \n",
    "    'Brazil':'South America'\n",
    "}\n",
    "\n",
    "\n",
    "q11_prep [\"ContinentDict\"] = q11_prep[\"Country\"].map(ContinentDict)\n",
    "\n",
    "q11_prep"
   ]
  },
  {
   "cell_type": "code",
   "execution_count": 470,
   "metadata": {},
   "outputs": [
    {
     "data": {
      "text/plain": [
       "                      sum        mean         std  size\n",
       "ContinentDict                                          \n",
       "Asia           2.8987e+09  5.7973e+08  6.7910e+08   5.0\n",
       "Australia      2.3316e+07  2.3316e+07         NaN   1.0\n",
       "Europe         4.5793e+08  7.6322e+07  3.4648e+07   6.0\n",
       "North America  3.5286e+08  1.7643e+08  1.9967e+08   2.0\n",
       "South America  2.0592e+08  2.0592e+08         NaN   1.0"
      ]
     },
     "execution_count": 470,
     "metadata": {},
     "output_type": "execute_result"
    }
   ],
   "source": [
    "q11_output =  q11_prep.groupby(\"ContinentDict\")[\"population\"].agg({\n",
    "    \"sum\": np.sum,\n",
    "    \"mean\": np.mean,\n",
    "    \"std\": np.std,\n",
    "    \"size\": len,\n",
    "})\n",
    "q11_output"
   ]
  },
  {
   "cell_type": "markdown",
   "metadata": {},
   "source": [
    "## Question 12"
   ]
  },
  {
   "cell_type": "code",
   "execution_count": 471,
   "metadata": {},
   "outputs": [
    {
     "data": {
      "text/plain": [
       "               Country  Rank  Documents  Citable documents  Citations  ...  Energy Supply per Capita_y  % Renewable_y  population  ContinentDict        renew bins\n",
       "0            Australia    14       8831               8725      90765  ...                       231.0        11.8108  2.3316e+07      Australia   (2.212, 15.753]\n",
       "1               Brazil    15       8668               8596      60702  ...                        59.0        69.6480  2.0592e+08  South America  (56.174, 69.648]\n",
       "2               Canada     6      17899              17620     215003  ...                       296.0        61.9454  3.5240e+07  North America  (56.174, 69.648]\n",
       "3                China     1     127050             126767     597237  ...                        93.0        19.7549  1.3676e+09           Asia  (15.753, 29.227]\n",
       "4               France     9      13153              12973     130632  ...                       166.0        17.0203  6.3837e+07         Europe  (15.753, 29.227]\n",
       "5              Germany     7      17027              16831     140566  ...                       165.0        17.9015  8.0370e+07         Europe  (15.753, 29.227]\n",
       "6                India     8      15005              14841     128763  ...                        26.0        14.9691  1.2767e+09           Asia   (2.212, 15.753]\n",
       "7                 Iran    13       8896               8819      57470  ...                       119.0         5.7077  7.7076e+07           Asia   (2.212, 15.753]\n",
       "8                Italy    11      10964              10794     111850  ...                       109.0        33.6672  5.9908e+07         Europe  (29.227, 42.701]\n",
       "9                Japan     3      30504              30287     223024  ...                       149.0        10.2328  1.2741e+08           Asia   (2.212, 15.753]\n",
       "10         South Korea    10      11983              11923     114675  ...                       221.0         2.2794  4.9805e+07           Asia   (2.212, 15.753]\n",
       "11  Russian Federation     5      18534              18301      34266  ...                       214.0        17.2887  1.4350e+08         Europe  (15.753, 29.227]\n",
       "12               Spain    12       9428               9330     123336  ...                       106.0        37.9686  4.6443e+07         Europe  (29.227, 42.701]\n",
       "13      United Kingdom     4      20944              20357     206091  ...                       124.0        10.6005  6.3871e+07         Europe   (2.212, 15.753]\n",
       "14       United States     2      96661              94747     792274  ...                       286.0        11.5710  3.1762e+08  North America   (2.212, 15.753]\n",
       "\n",
       "[15 rows x 27 columns]"
      ]
     },
     "execution_count": 471,
     "metadata": {},
     "output_type": "execute_result"
    }
   ],
   "source": [
    "q12_prep= q11_prep.copy()\n",
    "    \n",
    "q12_prep[\"renew bins\"] = pd.cut(q11_prep['% Renewable_x'], bins=5)\n",
    " \n",
    "\n",
    "q12_prep"
   ]
  },
  {
   "cell_type": "code",
   "execution_count": 472,
   "metadata": {},
   "outputs": [
    {
     "data": {
      "text/plain": [
       "ContinentDict  renew bins      \n",
       "Asia           (2.212, 15.753]     4\n",
       "               (15.753, 29.227]    1\n",
       "Australia      (2.212, 15.753]     1\n",
       "Europe         (2.212, 15.753]     1\n",
       "               (15.753, 29.227]    3\n",
       "               (29.227, 42.701]    2\n",
       "North America  (2.212, 15.753]     1\n",
       "               (56.174, 69.648]    1\n",
       "South America  (56.174, 69.648]    1\n",
       "dtype: int64"
      ]
     },
     "execution_count": 472,
     "metadata": {},
     "output_type": "execute_result"
    }
   ],
   "source": [
    "q12_prep.groupby([\"ContinentDict\",\"renew bins\"]).apply(lambda x: len(x))"
   ]
  },
  {
   "cell_type": "code",
   "execution_count": 455,
   "metadata": {},
   "outputs": [
    {
     "data": {
      "text/plain": [
       "                                count                              countries\n",
       "ContinentDict renew bins                                                    \n",
       "Asia          (2.212, 15.753]     4.0      [India, Iran, Japan, South Korea]\n",
       "              (15.753, 29.227]    1.0                                [China]\n",
       "Australia     (2.212, 15.753]     1.0                            [Australia]\n",
       "Europe        (2.212, 15.753]     1.0                       [United Kingdom]\n",
       "              (15.753, 29.227]    3.0  [France, Germany, Russian Federation]\n",
       "              (29.227, 42.701]    2.0                         [Italy, Spain]\n",
       "North America (2.212, 15.753]     1.0                        [United States]\n",
       "              (56.174, 69.648]    1.0                               [Canada]\n",
       "South America (56.174, 69.648]    1.0                               [Brazil]"
      ]
     },
     "execution_count": 455,
     "metadata": {},
     "output_type": "execute_result"
    }
   ],
   "source": [
    "pd.set_option('display.max_colwidth', 40)\n",
    "\n",
    "def count_countries(df_group):\n",
    "    result = pd.Series()\n",
    "    result.loc[\"count\"] = len(df_group)\n",
    "    result.loc[\"countries\"] = df_group[\"Country\"].tolist()\n",
    "    return result\n",
    "\n",
    "q12_prep.groupby([\"ContinentDict\",\"renew bins\"]).apply(count_countries).dropna()"
   ]
  },
  {
   "cell_type": "markdown",
   "metadata": {},
   "source": [
    "## Question 13"
   ]
  },
  {
   "cell_type": "code",
   "execution_count": null,
   "metadata": {},
   "outputs": [],
   "source": [
    "Convert the Population Estimate series to a string with thousands separator (using commas). Do not round the results."
   ]
  },
  {
   "cell_type": "code",
   "execution_count": 474,
   "metadata": {},
   "outputs": [
    {
     "data": {
      "text/plain": [
       "         Country  Energy Supply  Energy Supply per Capita  % Renewable  population\n",
       "0          China     1.2719e+11                      93.0      19.7549  1.3676e+09\n",
       "1          India     3.3195e+10                      26.0      14.9691  1.2767e+09\n",
       "2  United States     9.0838e+10                     286.0      11.5710  3.1762e+08\n",
       "3      Indonesia     8.7540e+09                      35.0      12.1890  2.5011e+08\n",
       "4         Brazil     1.2149e+10                      59.0      69.6480  2.0592e+08"
      ]
     },
     "execution_count": 474,
     "metadata": {},
     "output_type": "execute_result"
    }
   ],
   "source": [
    "q13 = q8_output.copy()\n",
    "\n",
    " \n",
    "q13.head()"
   ]
  },
  {
   "cell_type": "code",
   "execution_count": 475,
   "metadata": {},
   "outputs": [
    {
     "data": {
      "text/plain": [
       "0      1,367,645,161.2903225\n",
       "1      1,276,730,769.2307692\n",
       "2       317,615,384.61538464\n",
       "3        250,114,285.7142857\n",
       "4       205,915,254.23728815\n",
       "5              179,250,000.0\n",
       "6              174,656,250.0\n",
       "7              162,500,000.0\n",
       "8              143,500,000.0\n",
       "9       127,409,395.97315437\n",
       "               ...          \n",
       "217                      0.0\n",
       "218                      0.0\n",
       "219                      0.0\n",
       "220                      0.0\n",
       "221                      0.0\n",
       "222                      nan\n",
       "223                      nan\n",
       "224                      nan\n",
       "225                      nan\n",
       "226                      nan\n",
       "Name: population, Length: 227, dtype: object"
      ]
     },
     "execution_count": 475,
     "metadata": {},
     "output_type": "execute_result"
    }
   ],
   "source": [
    "q13[\"population\"].apply(lambda x: \"{:,}\".format(x))"
   ]
  },
  {
   "cell_type": "code",
   "execution_count": 482,
   "metadata": {},
   "outputs": [
    {
     "data": {
      "text/plain": [
       "Country\n",
       "China                           1,367,645,161.2903225\n",
       "India                           1,276,730,769.2307692\n",
       "United States                    317,615,384.61538464\n",
       "Indonesia                         250,114,285.7142857\n",
       "Brazil                           205,915,254.23728815\n",
       "Pakistan                                179,250,000.0\n",
       "Nigeria                                 174,656,250.0\n",
       "Bangladesh                              162,500,000.0\n",
       "Russian Federation                      143,500,000.0\n",
       "Japan                            127,409,395.97315437\n",
       "                                        ...          \n",
       "Niue                                              0.0\n",
       "Isle of Man                                       0.0\n",
       "Guernsey                                          0.0\n",
       "Saint Helena                                      0.0\n",
       "Wallis and Futuna Islands                         0.0\n",
       "American Samoa                                    nan\n",
       "Guam                                              nan\n",
       "Northern Mariana Islands                          nan\n",
       "Tuvalu                                            nan\n",
       "United States Virgin Islands                      nan\n",
       "Name: PopEst, Length: 227, dtype: object"
      ]
     },
     "execution_count": 482,
     "metadata": {},
     "output_type": "execute_result"
    }
   ],
   "source": [
    "q13_output = q13.set_index(\"Country\")[\"population\"].apply(lambda x: \"{:,}\".format(x)).rename(\"PopEst\")\n",
    "\n",
    "q13_output\n",
    "\n"
   ]
  },
  {
   "cell_type": "code",
   "execution_count": null,
   "metadata": {},
   "outputs": [],
   "source": [
    "type(q13_output)"
   ]
  },
  {
   "cell_type": "code",
   "execution_count": null,
   "metadata": {},
   "outputs": [],
   "source": []
  },
  {
   "cell_type": "code",
   "execution_count": null,
   "metadata": {},
   "outputs": [],
   "source": []
  },
  {
   "cell_type": "code",
   "execution_count": null,
   "metadata": {},
   "outputs": [],
   "source": []
  },
  {
   "cell_type": "code",
   "execution_count": null,
   "metadata": {},
   "outputs": [],
   "source": []
  },
  {
   "cell_type": "code",
   "execution_count": null,
   "metadata": {},
   "outputs": [],
   "source": []
  },
  {
   "cell_type": "code",
   "execution_count": null,
   "metadata": {},
   "outputs": [],
   "source": []
  }
 ],
 "metadata": {
  "kernelspec": {
   "display_name": "Python 3",
   "language": "python",
   "name": "python3"
  },
  "language_info": {
   "codemirror_mode": {
    "name": "ipython",
    "version": 3
   },
   "file_extension": ".py",
   "mimetype": "text/x-python",
   "name": "python",
   "nbconvert_exporter": "python",
   "pygments_lexer": "ipython3",
   "version": "3.7.3"
  }
 },
 "nbformat": 4,
 "nbformat_minor": 2
}

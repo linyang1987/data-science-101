{
 "cells": [
  {
   "cell_type": "code",
   "execution_count": 21,
   "metadata": {},
   "outputs": [],
   "source": [
    "import pandas as pd\n",
    "import numpy as np\n",
    "\n",
    "pd.set_option('display.max_rows', 20)\n",
    "pd.set_option('display.max_columns', 10)\n",
    "pd.set_option('display.width', 1000)\n",
    "pd.set_option('display.max_colwidth', 36)\n",
    "pd.set_option('display.notebook_repr_html', False)\n",
    "pd.set_option('display.expand_frame_repr', False)\n",
    "pd.set_option('display.precision', 4)"
   ]
  },
  {
   "cell_type": "code",
   "execution_count": 22,
   "metadata": {},
   "outputs": [
    {
     "data": {
      "text/plain": [
       "                                Country  Energy Supply  Energy Supply per Capita  % Renewable\n",
       "0                           Afghanistan          321.0                      10.0      78.6693\n",
       "1                               Albania          102.0                      35.0     100.0000\n",
       "2                               Algeria         1959.0                      51.0       0.5510\n",
       "3                        American Samoa            NaN                       NaN       0.6410\n",
       "4                               Andorra            9.0                     121.0      88.6957\n",
       "5                                Angola          642.0                      27.0      70.9091\n",
       "6                              Anguilla            2.0                     136.0       0.0000\n",
       "7                   Antigua and Barbuda            8.0                      84.0       0.0000\n",
       "8                             Argentina         3378.0                      79.0      24.0645\n",
       "9                               Armenia          143.0                      48.0      28.2361\n",
       "..                                  ...            ...                       ...          ...\n",
       "217        United States Virgin Islands            NaN                       NaN       0.0000\n",
       "218                             Uruguay          196.0                      58.0      71.6050\n",
       "219                          Uzbekistan         1798.0                      62.0      21.3284\n",
       "220                             Vanuatu            3.0                      10.0      14.7059\n",
       "221  Venezuela (Bolivarian Republic of)         2871.0                      95.0      67.8345\n",
       "222                            Viet Nam         2554.0                      28.0      45.3215\n",
       "223           Wallis and Futuna Islands            0.0                      26.0       0.0000\n",
       "224                               Yemen          344.0                      13.0       0.0000\n",
       "225                              Zambia          400.0                      26.0      99.7147\n",
       "226                            Zimbabwe          480.0                      32.0      52.5361\n",
       "\n",
       "[227 rows x 4 columns]"
      ]
     },
     "execution_count": 22,
     "metadata": {},
     "output_type": "execute_result"
    }
   ],
   "source": [
    "df_energy = pd.read_excel(\n",
    "    \"Energy Indicators.xls\", sheet_name=\"Energy\", \n",
    "    header=17, skipfooter=38, \n",
    "    na_values = \"...\",\n",
    "    usecols=\"C:F\", names=['Country', 'Energy Supply', 'Energy Supply per Capita', '% Renewable']\n",
    ")\n",
    "\n",
    "df_energy"
   ]
  },
  {
   "cell_type": "code",
   "execution_count": 23,
   "metadata": {},
   "outputs": [
    {
     "data": {
      "text/plain": [
       "                                Country  Energy Supply  Energy Supply per Capita  % Renewable\n",
       "0                           Afghanistan     3.2100e+08                      10.0      78.6693\n",
       "1                               Albania     1.0200e+08                      35.0     100.0000\n",
       "2                               Algeria     1.9590e+09                      51.0       0.5510\n",
       "3                        American Samoa            NaN                       NaN       0.6410\n",
       "4                               Andorra     9.0000e+06                     121.0      88.6957\n",
       "5                                Angola     6.4200e+08                      27.0      70.9091\n",
       "6                              Anguilla     2.0000e+06                     136.0       0.0000\n",
       "7                   Antigua and Barbuda     8.0000e+06                      84.0       0.0000\n",
       "8                             Argentina     3.3780e+09                      79.0      24.0645\n",
       "9                               Armenia     1.4300e+08                      48.0      28.2361\n",
       "..                                  ...            ...                       ...          ...\n",
       "217        United States Virgin Islands            NaN                       NaN       0.0000\n",
       "218                             Uruguay     1.9600e+08                      58.0      71.6050\n",
       "219                          Uzbekistan     1.7980e+09                      62.0      21.3284\n",
       "220                             Vanuatu     3.0000e+06                      10.0      14.7059\n",
       "221  Venezuela (Bolivarian Republic of)     2.8710e+09                      95.0      67.8345\n",
       "222                            Viet Nam     2.5540e+09                      28.0      45.3215\n",
       "223           Wallis and Futuna Islands     0.0000e+00                      26.0       0.0000\n",
       "224                               Yemen     3.4400e+08                      13.0       0.0000\n",
       "225                              Zambia     4.0000e+08                      26.0      99.7147\n",
       "226                            Zimbabwe     4.8000e+08                      32.0      52.5361\n",
       "\n",
       "[227 rows x 4 columns]"
      ]
     },
     "execution_count": 23,
     "metadata": {},
     "output_type": "execute_result"
    }
   ],
   "source": [
    "df_energy.loc[:, \"Energy Supply\"] = df_energy.loc[:, \"Energy Supply\"] * 1000000\n",
    "\n",
    "df_energy"
   ]
  },
  {
   "cell_type": "code",
   "execution_count": null,
   "metadata": {},
   "outputs": [],
   "source": []
  }
 ],
 "metadata": {
  "kernelspec": {
   "display_name": "Python 3",
   "language": "python",
   "name": "python3"
  },
  "language_info": {
   "codemirror_mode": {
    "name": "ipython",
    "version": 3
   },
   "file_extension": ".py",
   "mimetype": "text/x-python",
   "name": "python",
   "nbconvert_exporter": "python",
   "pygments_lexer": "ipython3",
   "version": "3.7.3"
  }
 },
 "nbformat": 4,
 "nbformat_minor": 2
}
